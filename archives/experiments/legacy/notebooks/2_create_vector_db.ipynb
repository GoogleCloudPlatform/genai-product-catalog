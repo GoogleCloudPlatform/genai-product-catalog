{
  "cells": [
    {
      "cell_type": "code",
      "execution_count": 1,
      "metadata": {
        "id": "7DEA0fRygcun"
      },
      "outputs": [],
      "source": [
        "# Copyright 2023 Google LLC\n",
        "#\n",
        "# Licensed under the Apache License, Version 2.0 (the \"License\");\n",
        "# you may not use this file except in compliance with the License.\n",
        "# You may obtain a copy of the License at\n",
        "#\n",
        "#     https://www.apache.org/licenses/LICENSE-2.0\n",
        "#\n",
        "# Unless required by applicable law or agreed to in writing, software\n",
        "# distributed under the License is distributed on an \"AS IS\" BASIS,\n",
        "# WITHOUT WARRANTIES OR CONDITIONS OF ANY KIND, either express or implied.\n",
        "# See the License for the specific language governing permissions and\n",
        "# limitations under the License."
      ]
    },
    {
      "cell_type": "markdown",
      "metadata": {
        "id": "JLjnyaPUvmoP"
      },
      "source": [
        "# Objective\n",
        "\n",
        "Given a list of embeddings, create and deploy a Vertex AI Vector Search (fka Matching Engine) index.\n",
        "\n",
        "**Input**\n",
        "- A BigQuery table containing image and text embeddings. This was covered in 1_generate_embeddings.ipynb\n",
        "\n",
        "**Output**\n",
        "- A vector DB that enables low latency nearest neighbor searching in embeddings space"
      ]
    },
    {
      "cell_type": "markdown",
      "metadata": {},
      "source": [
        "# Setup"
      ]
    },
    {
      "cell_type": "markdown",
      "metadata": {},
      "source": [
        "### Install Dependencies (If Needed)\n",
        "\n",
        "The list `packages` contains tuples of package import names and install names. If the import name is not found then the install name is used to install quitely for the current user."
      ]
    },
    {
      "cell_type": "code",
      "execution_count": 2,
      "metadata": {},
      "outputs": [],
      "source": [
        "# tuples of (import name, install name)\n",
        "packages = [\n",
        "    ('google.cloud.aiplatform', 'google-cloud-aiplatform'),\n",
        "]\n",
        "\n",
        "import importlib\n",
        "install = False\n",
        "for package in packages:\n",
        "    if not importlib.util.find_spec(package[0]):\n",
        "        print(f'installing package {package[1]}')\n",
        "        install = True\n",
        "        !pip install {package[1]} -U -q --user"
      ]
    },
    {
      "cell_type": "markdown",
      "metadata": {},
      "source": [
        "### Restart Kernel (If Installs Occured)\n",
        "\n",
        "After a kernel restart the code submission can start with the next cell after this one."
      ]
    },
    {
      "cell_type": "code",
      "execution_count": 3,
      "metadata": {},
      "outputs": [],
      "source": [
        "if install:\n",
        "    import IPython\n",
        "    app = IPython.Application.instance()\n",
        "    app.kernel.do_shutdown(True)"
      ]
    },
    {
      "cell_type": "markdown",
      "metadata": {},
      "source": [
        "### Authenticate\n",
        "\n",
        "If you are using Colab, you will need to authenticate yourself first. The next cell will check if you are currently using Colab, and will start the authentication process."
      ]
    },
    {
      "cell_type": "code",
      "execution_count": 4,
      "metadata": {
        "id": "HHdQoCb-6B35"
      },
      "outputs": [],
      "source": [
        "import sys\n",
        "\n",
        "if 'google.colab' in sys.modules:\n",
        "    from google.colab import auth as google_auth\n",
        "    google_auth.authenticate_user()"
      ]
    },
    {
      "cell_type": "markdown",
      "metadata": {},
      "source": [
        "### Config"
      ]
    },
    {
      "cell_type": "code",
      "execution_count": 9,
      "metadata": {
        "id": "_6xAsyFximwt"
      },
      "outputs": [],
      "source": [
        "PROJECT_ID = 'solutions-2023-mar-107' # @param {type:\"string\"}\n",
        "REGION = 'us-central1' # @param {type:\"string\"}\n",
        "TEST_DESCRIPTION = \"Key Features of Vishudh Printed Women's Straight Kurta BLACK, GREY Straight,Specifications of Vishudh Printed Women's Straight Kurta Kurta Details Sleeve Sleeveless Number of Contents in Sales Package Pack of 1 Fabric 100% POLYESTER Type Straight Neck ROUND NECK General Details Pattern Printed Occasion Festive Ideal For Women's In the Box Kurta Additional Details Style Code VNKU004374 BLACK::GREY Fabric Care Gentle Machine Wash in Lukewarm Water, Do Not Bleach\" # @param {type:\"string\"}\n",
        "TEST_IMAGE = 'gs://genai-product-catalog/flipkart_20k_oct26/3ecb859759e5311cbab6850e98879522_0.jpg' # @param {type:\"string\"}"
      ]
    },
    {
      "cell_type": "code",
      "execution_count": null,
      "metadata": {
        "id": "yAA8polfUduJ"
      },
      "outputs": [],
      "source": [
        "from google.cloud import aiplatform\n",
        "aiplatform.init(project=PROJECT_ID, location=REGION, staging_bucket=BUCKET_URI)"
      ]
    },
    {
      "cell_type": "markdown",
      "metadata": {},
      "source": [
        "# Store Embeddings in GCS\n",
        "\n",
        "Vertex AI Vector Search does not currently support direct import from BigQuery. We need to store in GCS in a supported format. \n",
        "\n",
        "To do so\n",
        "1. Run the below query directly in GCP cloud console\n",
        "2. After running query, export as JSONL, this will prompt you to choose a google drive location to save it\n",
        "3. Copy from google drive to a GCS bucket\n",
        "4. Update the 'BUCKET_URI'  variable below to the location of the folder containing the embeddings\n",
        "\n",
        "```\n",
        "\n",
        "SELECT\n",
        " CONCAT(id,'_T') as id,\n",
        " text_embedding as embedding,\n",
        " c0_name as L0,\n",
        " c1_name as L1,\n",
        " c2_name as L2,\n",
        " c3_name as L3\n",
        "\n",
        "FROM\n",
        " `<PROJECT_ID>.<DATASET_ID>.<TABLE_ID>`\n",
        "\n",
        "UNION ALL\n",
        "\n",
        "SELECT\n",
        " CONCAT(id,'_I') as embedding,\n",
        " image_embedding,\n",
        " c0_name as L0,\n",
        " c1_name as L1,\n",
        " c2_name as L2,\n",
        " c3_name as L3\n",
        "\n",
        "FROM\n",
        " `<PROJECT_ID>.<DATASET_ID>.<TABLE_ID>`;\n",
        " ```"
      ]
    },
    {
      "cell_type": "code",
      "execution_count": 6,
      "metadata": {},
      "outputs": [],
      "source": [
        "BUCKET_URI = \"gs://vector_search_regional/flipkart_multimodal_embeddings\" # @param {type:\"string\"} # WHERE EMBEDDINGS ARE STORED"
      ]
    },
    {
      "cell_type": "markdown",
      "metadata": {
        "id": "gBwMXLbTwvSe"
      },
      "source": [
        "# Create Index"
      ]
    },
    {
      "cell_type": "code",
      "execution_count": null,
      "metadata": {
        "id": "bjDHVriifVdL"
      },
      "outputs": [],
      "source": [
        "tree_ah_index = aiplatform.MatchingEngineIndex.create_tree_ah_index(\n",
        "    display_name='flipkart_multimodal_batch_tree_cosine',\n",
        "    contents_delta_uri=BUCKET_URI,\n",
        "    dimensions=1408,\n",
        "    approximate_neighbors_count=150,\n",
        "    distance_measure_type=\"COSINE_DISTANCE\",\n",
        "    leaf_node_embedding_count=500,\n",
        "    leaf_nodes_to_search_percent=7,\n",
        "    description='Based on ~18K Flipkart product listings for which we have both a description and image',\n",
        ")"
      ]
    },
    {
      "cell_type": "code",
      "execution_count": null,
      "metadata": {
        "id": "_Ysk4-0FRp5l"
      },
      "outputs": [],
      "source": [
        "INDEX_RESOURCE_NAME = tree_ah_index.resource_name\n",
        "print(INDEX_RESOURCE_NAME)"
      ]
    },
    {
      "cell_type": "code",
      "execution_count": null,
      "metadata": {
        "id": "HiZQnbIU4Dzt"
      },
      "outputs": [],
      "source": [
        "tree_ah_index = aiplatform.MatchingEngineIndex(index_name=INDEX_RESOURCE_NAME)"
      ]
    },
    {
      "cell_type": "markdown",
      "metadata": {
        "id": "UDwzD5cRxDUf"
      },
      "source": [
        "# Deploy Index"
      ]
    },
    {
      "cell_type": "code",
      "execution_count": null,
      "metadata": {
        "id": "xiloYESZ1FTE"
      },
      "outputs": [],
      "source": [
        "my_index_endpoint = aiplatform.MatchingEngineIndexEndpoint.create(\n",
        "    display_name='flipkart_batch',\n",
        "    description='Endpoint on flipkart',\n",
        "    public_endpoint_enabled=True,\n",
        ")"
      ]
    },
    {
      "cell_type": "code",
      "execution_count": null,
      "metadata": {
        "id": "otALXzzV3wYA"
      },
      "outputs": [],
      "source": [
        "DEPLOYED_INDEX_ID = 'flipkart_muiltimodal_18K'\n",
        "my_index_endpoint = my_index_endpoint.deploy_index(\n",
        "    index=tree_ah_index, deployed_index_id=DEPLOYED_INDEX_ID\n",
        ")\n",
        "my_index_endpoint.deployed_indexes"
      ]
    },
    {
      "cell_type": "markdown",
      "metadata": {
        "id": "9G7XWHr90WPi"
      },
      "source": [
        "# Query Index\n",
        "\n",
        "Instead of re-implementing the embedding API code from the previous notebook, we will load the local embeddings module"
      ]
    },
    {
      "cell_type": "code",
      "execution_count": 7,
      "metadata": {},
      "outputs": [],
      "source": [
        "import sys  \n",
        "sys.path.insert(0, '../backend/')\n",
        "import embeddings # Local Project Code"
      ]
    },
    {
      "cell_type": "code",
      "execution_count": 13,
      "metadata": {
        "id": "ToeQkiIqNMIa"
      },
      "outputs": [
        {
          "name": "stdout",
          "output_type": "stream",
          "text": [
            "[-0.0165299699, -0.0692435354, 0.0147973141, 0.0349166244, 0.00536287716]\n",
            "[-0.00627786433, 0.0557938665, -0.0300552044, 0.0268275458, 0.0392337069]\n"
          ]
        }
      ],
      "source": [
        "res = embeddings.embed(TEST_DESCRIPTION,TEST_IMAGE,project=PROJECT_ID)\n",
        "print(res.text_embedding[:5])\n",
        "print(res.image_embedding[:5])"
      ]
    },
    {
      "cell_type": "code",
      "execution_count": null,
      "metadata": {
        "id": "QRCnFT4B0jnm"
      },
      "outputs": [],
      "source": [
        "NUM_NEIGHBORS = 5\n",
        "\n",
        "response = my_index_endpoint.find_neighbors(\n",
        "    deployed_index_id=DEPLOYED_INDEX_ID,\n",
        "    queries=[res.text_embedding,res.image_embedding],\n",
        "    num_neighbors=NUM_NEIGHBORS,\n",
        ")\n",
        "\n",
        "response"
      ]
    }
  ],
  "metadata": {
    "colab": {
      "provenance": [],
      "toc_visible": true
    },
    "kernelspec": {
      "display_name": "Python 3",
      "name": "python3"
    },
    "language_info": {
      "codemirror_mode": {
        "name": "ipython",
        "version": 3
      },
      "file_extension": ".py",
      "mimetype": "text/x-python",
      "name": "python",
      "nbconvert_exporter": "python",
      "pygments_lexer": "ipython3",
      "version": "3.9.2"
    }
  },
  "nbformat": 4,
  "nbformat_minor": 0
}
