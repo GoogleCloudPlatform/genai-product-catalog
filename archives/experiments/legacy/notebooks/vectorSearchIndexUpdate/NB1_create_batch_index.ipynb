{
  "cells": [
    {
      "cell_type": "code",
      "execution_count": null,
      "metadata": {
        "id": "7DEA0fRygcun"
      },
      "outputs": [],
      "source": [
        "# Copyright 2023 Google LLC\n",
        "#\n",
        "# Licensed under the Apache License, Version 2.0 (the \"License\");\n",
        "# you may not use this file except in compliance with the License.\n",
        "# You may obtain a copy of the License at\n",
        "#\n",
        "#     https://www.apache.org/licenses/LICENSE-2.0\n",
        "#\n",
        "# Unless required by applicable law or agreed to in writing, software\n",
        "# distributed under the License is distributed on an \"AS IS\" BASIS,\n",
        "# WITHOUT WARRANTIES OR CONDITIONS OF ANY KIND, either express or implied.\n",
        "# See the License for the specific language governing permissions and\n",
        "# limitations under the License."
      ]
    },
    {
      "cell_type": "markdown",
      "metadata": {
        "id": "JLjnyaPUvmoP"
      },
      "source": [
        "# Objective\n",
        "\n",
        "Given a list of embeddings, create and deploy a Vertex AI Vector Search (fka Matching Engine) index.\n",
        "\n",
        "Assumes you already have embeddings in GCS in a format supported by Vertex AI Vector Search. For instructions on that see:\n",
        "1. Notebook for generating multimodal embeddings and storing in BQ  \n",
        "2. The product does not yet support direct import from BQ. Use below query to convert BQ format into one accepted by Vertex AI Vector Store. After running query, export as JSON\n",
        "\n",
        "SELECT\n",
        " CONCAT(id,'_T') as id,\n",
        " text_embedding as embedding,\n",
        " c0_name as L0,\n",
        " c1_name as L1,\n",
        " c2_name as L2,\n",
        " c3_name as L3\n",
        "\n",
        "FROM\n",
        " `<PROJECT_ID>.<DATASET_ID>.<TABLE_ID>`\n",
        "\n",
        "UNION ALL\n",
        "\n",
        "SELECT\n",
        " CONCAT(id,'_I') as embedding,\n",
        " image_embedding,\n",
        " c0_name as L0,\n",
        " c1_name as L1,\n",
        " c2_name as L2,\n",
        " c3_name as L3\n",
        "\n",
        "FROM\n",
        " `<PROJECT_ID>.<DATASET_ID>.<TABLE_ID>`;"
      ]
    },
    {
      "cell_type": "code",
      "execution_count": null,
      "metadata": {
        "colab": {
          "base_uri": "https://localhost:8080/"
        },
        "id": "bki6-SfNUa9d",
        "outputId": "60ac2817-b10a-44c2-8234-82040219c970"
      },
      "outputs": [
        {
          "name": "stdout",
          "output_type": "stream",
          "text": [
            "Requirement already satisfied: google-cloud-aiplatform in /usr/local/lib/python3.10/dist-packages (1.38.1)\n",
            "Requirement already satisfied: google-api-core[grpc]!=2.0.*,!=2.1.*,!=2.2.*,!=2.3.*,!=2.4.*,!=2.5.*,!=2.6.*,!=2.7.*,<3.0.0dev,>=1.32.0 in /usr/local/lib/python3.10/dist-packages (from google-cloud-aiplatform) (2.11.1)\n",
            "Requirement already satisfied: proto-plus<2.0.0dev,>=1.22.0 in /usr/local/lib/python3.10/dist-packages (from google-cloud-aiplatform) (1.23.0)\n",
            "Requirement already satisfied: protobuf!=3.20.0,!=3.20.1,!=4.21.0,!=4.21.1,!=4.21.2,!=4.21.3,!=4.21.4,!=4.21.5,<5.0.0dev,>=3.19.5 in /usr/local/lib/python3.10/dist-packages (from google-cloud-aiplatform) (3.20.3)\n",
            "Requirement already satisfied: packaging>=14.3 in /usr/local/lib/python3.10/dist-packages (from google-cloud-aiplatform) (23.2)\n",
            "Requirement already satisfied: google-cloud-storage<3.0.0dev,>=1.32.0 in /usr/local/lib/python3.10/dist-packages (from google-cloud-aiplatform) (2.8.0)\n",
            "Requirement already satisfied: google-cloud-bigquery<4.0.0dev,>=1.15.0 in /usr/local/lib/python3.10/dist-packages (from google-cloud-aiplatform) (3.12.0)\n",
            "Requirement already satisfied: google-cloud-resource-manager<3.0.0dev,>=1.3.3 in /usr/local/lib/python3.10/dist-packages (from google-cloud-aiplatform) (1.11.0)\n",
            "Requirement already satisfied: shapely<3.0.0dev in /usr/local/lib/python3.10/dist-packages (from google-cloud-aiplatform) (2.0.2)\n",
            "Requirement already satisfied: googleapis-common-protos<2.0.dev0,>=1.56.2 in /usr/local/lib/python3.10/dist-packages (from google-api-core[grpc]!=2.0.*,!=2.1.*,!=2.2.*,!=2.3.*,!=2.4.*,!=2.5.*,!=2.6.*,!=2.7.*,<3.0.0dev,>=1.32.0->google-cloud-aiplatform) (1.62.0)\n",
            "Requirement already satisfied: google-auth<3.0.dev0,>=2.14.1 in /usr/local/lib/python3.10/dist-packages (from google-api-core[grpc]!=2.0.*,!=2.1.*,!=2.2.*,!=2.3.*,!=2.4.*,!=2.5.*,!=2.6.*,!=2.7.*,<3.0.0dev,>=1.32.0->google-cloud-aiplatform) (2.17.3)\n",
            "Requirement already satisfied: requests<3.0.0.dev0,>=2.18.0 in /usr/local/lib/python3.10/dist-packages (from google-api-core[grpc]!=2.0.*,!=2.1.*,!=2.2.*,!=2.3.*,!=2.4.*,!=2.5.*,!=2.6.*,!=2.7.*,<3.0.0dev,>=1.32.0->google-cloud-aiplatform) (2.31.0)\n",
            "Requirement already satisfied: grpcio<2.0dev,>=1.33.2 in /usr/local/lib/python3.10/dist-packages (from google-api-core[grpc]!=2.0.*,!=2.1.*,!=2.2.*,!=2.3.*,!=2.4.*,!=2.5.*,!=2.6.*,!=2.7.*,<3.0.0dev,>=1.32.0->google-cloud-aiplatform) (1.60.0)\n",
            "Requirement already satisfied: grpcio-status<2.0.dev0,>=1.33.2 in /usr/local/lib/python3.10/dist-packages (from google-api-core[grpc]!=2.0.*,!=2.1.*,!=2.2.*,!=2.3.*,!=2.4.*,!=2.5.*,!=2.6.*,!=2.7.*,<3.0.0dev,>=1.32.0->google-cloud-aiplatform) (1.48.2)\n",
            "Requirement already satisfied: google-cloud-core<3.0.0dev,>=1.6.0 in /usr/local/lib/python3.10/dist-packages (from google-cloud-bigquery<4.0.0dev,>=1.15.0->google-cloud-aiplatform) (2.3.3)\n",
            "Requirement already satisfied: google-resumable-media<3.0dev,>=0.6.0 in /usr/local/lib/python3.10/dist-packages (from google-cloud-bigquery<4.0.0dev,>=1.15.0->google-cloud-aiplatform) (2.7.0)\n",
            "Requirement already satisfied: python-dateutil<3.0dev,>=2.7.2 in /usr/local/lib/python3.10/dist-packages (from google-cloud-bigquery<4.0.0dev,>=1.15.0->google-cloud-aiplatform) (2.8.2)\n",
            "Requirement already satisfied: grpc-google-iam-v1<1.0.0dev,>=0.12.4 in /usr/local/lib/python3.10/dist-packages (from google-cloud-resource-manager<3.0.0dev,>=1.3.3->google-cloud-aiplatform) (0.13.0)\n",
            "Requirement already satisfied: numpy>=1.14 in /usr/local/lib/python3.10/dist-packages (from shapely<3.0.0dev->google-cloud-aiplatform) (1.23.5)\n",
            "Requirement already satisfied: cachetools<6.0,>=2.0.0 in /usr/local/lib/python3.10/dist-packages (from google-auth<3.0.dev0,>=2.14.1->google-api-core[grpc]!=2.0.*,!=2.1.*,!=2.2.*,!=2.3.*,!=2.4.*,!=2.5.*,!=2.6.*,!=2.7.*,<3.0.0dev,>=1.32.0->google-cloud-aiplatform) (5.3.2)\n",
            "Requirement already satisfied: pyasn1-modules>=0.2.1 in /usr/local/lib/python3.10/dist-packages (from google-auth<3.0.dev0,>=2.14.1->google-api-core[grpc]!=2.0.*,!=2.1.*,!=2.2.*,!=2.3.*,!=2.4.*,!=2.5.*,!=2.6.*,!=2.7.*,<3.0.0dev,>=1.32.0->google-cloud-aiplatform) (0.3.0)\n",
            "Requirement already satisfied: six>=1.9.0 in /usr/local/lib/python3.10/dist-packages (from google-auth<3.0.dev0,>=2.14.1->google-api-core[grpc]!=2.0.*,!=2.1.*,!=2.2.*,!=2.3.*,!=2.4.*,!=2.5.*,!=2.6.*,!=2.7.*,<3.0.0dev,>=1.32.0->google-cloud-aiplatform) (1.16.0)\n",
            "Requirement already satisfied: rsa<5,>=3.1.4 in /usr/local/lib/python3.10/dist-packages (from google-auth<3.0.dev0,>=2.14.1->google-api-core[grpc]!=2.0.*,!=2.1.*,!=2.2.*,!=2.3.*,!=2.4.*,!=2.5.*,!=2.6.*,!=2.7.*,<3.0.0dev,>=1.32.0->google-cloud-aiplatform) (4.9)\n",
            "Requirement already satisfied: google-crc32c<2.0dev,>=1.0 in /usr/local/lib/python3.10/dist-packages (from google-resumable-media<3.0dev,>=0.6.0->google-cloud-bigquery<4.0.0dev,>=1.15.0->google-cloud-aiplatform) (1.5.0)\n",
            "Requirement already satisfied: charset-normalizer<4,>=2 in /usr/local/lib/python3.10/dist-packages (from requests<3.0.0.dev0,>=2.18.0->google-api-core[grpc]!=2.0.*,!=2.1.*,!=2.2.*,!=2.3.*,!=2.4.*,!=2.5.*,!=2.6.*,!=2.7.*,<3.0.0dev,>=1.32.0->google-cloud-aiplatform) (3.3.2)\n",
            "Requirement already satisfied: idna<4,>=2.5 in /usr/local/lib/python3.10/dist-packages (from requests<3.0.0.dev0,>=2.18.0->google-api-core[grpc]!=2.0.*,!=2.1.*,!=2.2.*,!=2.3.*,!=2.4.*,!=2.5.*,!=2.6.*,!=2.7.*,<3.0.0dev,>=1.32.0->google-cloud-aiplatform) (3.6)\n",
            "Requirement already satisfied: urllib3<3,>=1.21.1 in /usr/local/lib/python3.10/dist-packages (from requests<3.0.0.dev0,>=2.18.0->google-api-core[grpc]!=2.0.*,!=2.1.*,!=2.2.*,!=2.3.*,!=2.4.*,!=2.5.*,!=2.6.*,!=2.7.*,<3.0.0dev,>=1.32.0->google-cloud-aiplatform) (2.0.7)\n",
            "Requirement already satisfied: certifi>=2017.4.17 in /usr/local/lib/python3.10/dist-packages (from requests<3.0.0.dev0,>=2.18.0->google-api-core[grpc]!=2.0.*,!=2.1.*,!=2.2.*,!=2.3.*,!=2.4.*,!=2.5.*,!=2.6.*,!=2.7.*,<3.0.0dev,>=1.32.0->google-cloud-aiplatform) (2023.11.17)\n",
            "Requirement already satisfied: pyasn1<0.6.0,>=0.4.6 in /usr/local/lib/python3.10/dist-packages (from pyasn1-modules>=0.2.1->google-auth<3.0.dev0,>=2.14.1->google-api-core[grpc]!=2.0.*,!=2.1.*,!=2.2.*,!=2.3.*,!=2.4.*,!=2.5.*,!=2.6.*,!=2.7.*,<3.0.0dev,>=1.32.0->google-cloud-aiplatform) (0.5.1)\n"
          ]
        }
      ],
      "source": [
        "!pip install google-cloud-aiplatform"
      ]
    },
    {
      "cell_type": "markdown",
      "metadata": {
        "id": "GvYq_G2GOdpD"
      },
      "source": [
        "---\n",
        "\n",
        "#### ⚠️ Do not forget to click the \"RESTART RUNTIME\" button above.\n",
        "\n",
        "---"
      ]
    },
    {
      "cell_type": "code",
      "execution_count": null,
      "metadata": {
        "id": "HHdQoCb-6B35"
      },
      "outputs": [],
      "source": [
        "import sys\n",
        "\n",
        "if 'google.colab' in sys.modules:\n",
        "    from google.colab import auth as google_auth\n",
        "    google_auth.authenticate_user()"
      ]
    },
    {
      "cell_type": "code",
      "execution_count": null,
      "metadata": {
        "id": "_6xAsyFximwt"
      },
      "outputs": [],
      "source": [
        "PROJECT_ID = 'solutions-2023-mar-107' # @param {type:\"string\"}\n",
        "REGION = 'us-central1' # @param {type:\"string\"}\n",
        "BUCKET_URI = \"gs://vector_search_regional/flipkart_multimodal_embeddings\" # @param {type:\"string\"} # WHERE EMBEDDINGS ARE STORED"
      ]
    },
    {
      "cell_type": "code",
      "execution_count": null,
      "metadata": {
        "id": "yAA8polfUduJ"
      },
      "outputs": [],
      "source": [
        "from google.cloud import aiplatform\n",
        "aiplatform.init(project=PROJECT_ID, location=REGION, staging_bucket=BUCKET_URI)"
      ]
    },
    {
      "cell_type": "markdown",
      "metadata": {
        "id": "gBwMXLbTwvSe"
      },
      "source": [
        "# Create Index"
      ]
    },
    {
      "cell_type": "code",
      "execution_count": null,
      "metadata": {
        "colab": {
          "base_uri": "https://localhost:8080/"
        },
        "id": "bjDHVriifVdL",
        "outputId": "a2b56d89-0baa-47a3-91a4-94e05eec340d"
      },
      "outputs": [
        {
          "name": "stderr",
          "output_type": "stream",
          "text": [
            "INFO:google.cloud.aiplatform.matching_engine.matching_engine_index:Creating MatchingEngineIndex\n",
            "INFO:google.cloud.aiplatform.matching_engine.matching_engine_index:Create MatchingEngineIndex backing LRO: projects/411826505131/locations/us-central1/indexes/2594851839597871104/operations/8187649057200537600\n",
            "INFO:google.cloud.aiplatform.matching_engine.matching_engine_index:MatchingEngineIndex created. Resource name: projects/411826505131/locations/us-central1/indexes/2594851839597871104\n",
            "INFO:google.cloud.aiplatform.matching_engine.matching_engine_index:To use this MatchingEngineIndex in another session:\n",
            "INFO:google.cloud.aiplatform.matching_engine.matching_engine_index:index = aiplatform.MatchingEngineIndex('projects/411826505131/locations/us-central1/indexes/2594851839597871104')\n"
          ]
        }
      ],
      "source": [
        "tree_ah_index = aiplatform.MatchingEngineIndex.create_tree_ah_index(\n",
        "    display_name='flipkart_batch',\n",
        "    contents_delta_uri=BUCKET_URI,\n",
        "    dimensions=1408,\n",
        "    approximate_neighbors_count=150,\n",
        "    distance_measure_type=\"COSINE_DISTANCE\",\n",
        "    leaf_node_embedding_count=500,\n",
        "    leaf_nodes_to_search_percent=7,\n",
        "    description='Based on ~18K Flipkart product listings with both description and image',\n",
        ")"
      ]
    },
    {
      "cell_type": "code",
      "execution_count": null,
      "metadata": {
        "colab": {
          "base_uri": "https://localhost:8080/"
        },
        "id": "_Ysk4-0FRp5l",
        "outputId": "acd5b2dd-201c-4536-d9e4-20bc21d9b60d"
      },
      "outputs": [
        {
          "name": "stdout",
          "output_type": "stream",
          "text": [
            "projects/411826505131/locations/us-central1/indexes/2594851839597871104\n"
          ]
        }
      ],
      "source": [
        "INDEX_RESOURCE_NAME = tree_ah_index.resource_name\n",
        "print(INDEX_RESOURCE_NAME)"
      ]
    },
    {
      "cell_type": "code",
      "execution_count": null,
      "metadata": {
        "id": "HiZQnbIU4Dzt"
      },
      "outputs": [],
      "source": [
        "tree_ah_index = aiplatform.MatchingEngineIndex(index_name=INDEX_RESOURCE_NAME)"
      ]
    },
    {
      "cell_type": "markdown",
      "metadata": {
        "id": "UDwzD5cRxDUf"
      },
      "source": [
        "# Deploy Index"
      ]
    },
    {
      "cell_type": "code",
      "execution_count": null,
      "metadata": {
        "colab": {
          "base_uri": "https://localhost:8080/"
        },
        "id": "xiloYESZ1FTE",
        "outputId": "e37174fe-d2fe-40f7-defc-70bd3e6790be"
      },
      "outputs": [
        {
          "name": "stderr",
          "output_type": "stream",
          "text": [
            "INFO:google.cloud.aiplatform.matching_engine.matching_engine_index_endpoint:Creating MatchingEngineIndexEndpoint\n",
            "INFO:google.cloud.aiplatform.matching_engine.matching_engine_index_endpoint:Create MatchingEngineIndexEndpoint backing LRO: projects/411826505131/locations/us-central1/indexEndpoints/6297373683249840128/operations/2224320200608579584\n",
            "INFO:google.cloud.aiplatform.matching_engine.matching_engine_index_endpoint:MatchingEngineIndexEndpoint created. Resource name: projects/411826505131/locations/us-central1/indexEndpoints/6297373683249840128\n",
            "INFO:google.cloud.aiplatform.matching_engine.matching_engine_index_endpoint:To use this MatchingEngineIndexEndpoint in another session:\n",
            "INFO:google.cloud.aiplatform.matching_engine.matching_engine_index_endpoint:index_endpoint = aiplatform.MatchingEngineIndexEndpoint('projects/411826505131/locations/us-central1/indexEndpoints/6297373683249840128')\n"
          ]
        }
      ],
      "source": [
        "my_index_endpoint = aiplatform.MatchingEngineIndexEndpoint.create(\n",
        "    display_name='flipkart_batch',\n",
        "    description='Endpoint on flipkart',\n",
        "    public_endpoint_enabled=True,\n",
        ")"
      ]
    },
    {
      "cell_type": "code",
      "execution_count": null,
      "metadata": {
        "colab": {
          "base_uri": "https://localhost:8080/"
        },
        "id": "otALXzzV3wYA",
        "outputId": "23b6ba86-ccc2-4f01-a287-b38d57e8c546"
      },
      "outputs": [
        {
          "name": "stderr",
          "output_type": "stream",
          "text": [
            "INFO:google.cloud.aiplatform.matching_engine.matching_engine_index_endpoint:Deploying index MatchingEngineIndexEndpoint index_endpoint: projects/411826505131/locations/us-central1/indexEndpoints/6297373683249840128\n",
            "INFO:google.cloud.aiplatform.matching_engine.matching_engine_index_endpoint:Deploy index MatchingEngineIndexEndpoint index_endpoint backing LRO: projects/411826505131/locations/us-central1/indexEndpoints/6297373683249840128/operations/2792618178587394048\n",
            "INFO:google.cloud.aiplatform.matching_engine.matching_engine_index_endpoint:MatchingEngineIndexEndpoint index_endpoint Deployed index. Resource name: projects/411826505131/locations/us-central1/indexEndpoints/6297373683249840128\n"
          ]
        },
        {
          "data": {
            "text/plain": [
              "[id: \"flipkart_multimodal_18K\"\n",
              "index: \"projects/411826505131/locations/us-central1/indexes/2594851839597871104\"\n",
              "create_time {\n",
              "  seconds: 1702887352\n",
              "  nanos: 664772000\n",
              "}\n",
              "index_sync_time {\n",
              "  seconds: 1702887352\n",
              "  nanos: 664772000\n",
              "}\n",
              "automatic_resources {\n",
              "  min_replica_count: 2\n",
              "  max_replica_count: 2\n",
              "}\n",
              "deployment_group: \"default\"\n",
              "]"
            ]
          },
          "execution_count": 12,
          "metadata": {},
          "output_type": "execute_result"
        }
      ],
      "source": [
        "DEPLOYED_INDEX_ID = 'flipkart_multimodal_18K'\n",
        "my_index_endpoint = my_index_endpoint.deploy_index(\n",
        "    index=tree_ah_index, deployed_index_id=DEPLOYED_INDEX_ID\n",
        ")\n",
        "my_index_endpoint.deployed_indexes"
      ]
    },
    {
      "cell_type": "markdown",
      "metadata": {
        "id": "9G7XWHr90WPi"
      },
      "source": [
        "# Query Index"
      ]
    },
    {
      "cell_type": "code",
      "execution_count": null,
      "metadata": {
        "id": "vRI2Dh0h4y88"
      },
      "outputs": [],
      "source": [
        "#TODO move this code to a module\n",
        "import base64\n",
        "from google.cloud import aiplatform\n",
        "from google.protobuf import struct_pb2\n",
        "from functools import cache\n",
        "import time\n",
        "import typing\n",
        "import logging\n",
        "\n",
        "# Inspired from https://stackoverflow.com/questions/34269772/type-hints-in-namedtuple.\n",
        "class EmbeddingResponse(typing.NamedTuple):\n",
        "  text_embedding: typing.Sequence[float]\n",
        "  image_embedding: typing.Sequence[float]\n",
        "\n",
        "\n",
        "class EmbeddingPredictionClient:\n",
        "  \"\"\"Wrapper around Prediction Service Client.\"\"\"\n",
        "  def __init__(self, project : str,\n",
        "    location : str = \"us-central1\",\n",
        "    api_regional_endpoint: str = \"us-central1-aiplatform.googleapis.com\"):\n",
        "    client_options = {\"api_endpoint\": api_regional_endpoint}\n",
        "    # Initialize client that will be used to create and send requests.\n",
        "    # This client only needs to be created once, and can be reused for multiple requests.\n",
        "    self.client = aiplatform.gapic.PredictionServiceClient(client_options=client_options)\n",
        "    self.location = location\n",
        "    self.project = project\n",
        "\n",
        "  def get_embedding(self, text : str = None, image_path : str = None):\n",
        "    \"\"\"image_path can be a local path or a GCS URI.\"\"\"\n",
        "    if not text and not image_path:\n",
        "      raise ValueError('At least one of text or image_bytes must be specified.')\n",
        "\n",
        "    instance = struct_pb2.Struct()\n",
        "    if text:\n",
        "      if len(text) > 1024:\n",
        "        logging.warning('Text must be less than 1024 characters. Truncating text.')\n",
        "        text = text[:1024]\n",
        "      instance.fields['text'].string_value = text\n",
        "\n",
        "    if image_path:\n",
        "      image_struct = instance.fields['image'].struct_value\n",
        "      if image_path.lower().startswith('gs://'):\n",
        "        image_struct.fields['gcsUri'].string_value = image_path\n",
        "      else:\n",
        "        with open(image_path, \"rb\") as f:\n",
        "          image_bytes = f.read()\n",
        "        encoded_content = base64.b64encode(image_bytes).decode(\"utf-8\")\n",
        "        image_struct.fields['bytesBase64Encoded'].string_value = encoded_content\n",
        "\n",
        "    instances = [instance]\n",
        "    endpoint = (f\"projects/{self.project}/locations/{self.location}\"\n",
        "      \"/publishers/google/models/multimodalembedding@001\")\n",
        "    response = self.client.predict(endpoint=endpoint, instances=instances)\n",
        "\n",
        "    text_embedding = None\n",
        "    if text:\n",
        "      text_emb_value = response.predictions[0]['textEmbedding']\n",
        "      text_embedding = [v for v in text_emb_value]\n",
        "\n",
        "    image_embedding = None\n",
        "    if image_path:\n",
        "      image_emb_value = response.predictions[0]['imageEmbedding']\n",
        "      image_embedding = [v for v in image_emb_value]\n",
        "\n",
        "    return EmbeddingResponse(\n",
        "      text_embedding=text_embedding,\n",
        "      image_embedding=image_embedding)\n",
        "\n",
        "@cache\n",
        "def get_client(project):\n",
        "  return EmbeddingPredictionClient(project)\n",
        "\n",
        "\n",
        "def embed(project,text,image_path=None):\n",
        "  client = get_client(project)\n",
        "  start = time.time()\n",
        "  response = client.get_embedding(text=text, image_path=image_path)\n",
        "  end = time.time()\n",
        "  print('Embedding Time: ', end - start)\n",
        "  return response"
      ]
    },
    {
      "cell_type": "code",
      "execution_count": null,
      "metadata": {
        "colab": {
          "base_uri": "https://localhost:8080/"
        },
        "id": "ToeQkiIqNMIa",
        "outputId": "3dc42c31-85c8-4515-8684-5c05f369292c"
      },
      "outputs": [
        {
          "name": "stdout",
          "output_type": "stream",
          "text": [
            "Embedding Time:  0.983769416809082\n"
          ]
        }
      ],
      "source": [
        "res = embed(PROJECT_ID,\n",
        "            \"Key Features of Vishudh Printed Women's Straight Kurta BLACK, GREY Straight,Specifications of Vishudh Printed Women's Straight Kurta Kurta Details Sleeve Sleeveless Number of Contents in Sales Package Pack of 1 Fabric 100% POLYESTER Type Straight Neck ROUND NECK General Details Pattern Printed Occasion Festive Ideal For Women's In the Box Kurta Additional Details Style Code VNKU004374 BLACK::GREY Fabric Care Gentle Machine Wash in Lukewarm Water, Do Not Bleach\",\n",
        "            'gs://genai-product-catalog/flipkart_20k_oct26/3ecb859759e5311cbab6850e98879522_0.jpg')"
      ]
    },
    {
      "cell_type": "code",
      "execution_count": null,
      "metadata": {
        "colab": {
          "base_uri": "https://localhost:8080/"
        },
        "id": "QRCnFT4B0jnm",
        "outputId": "fd286f69-94dc-4532-f6bf-3a64cd4b980f"
      },
      "outputs": [
        {
          "data": {
            "text/plain": [
              "[[MatchNeighbor(id='3ecb859759e5311cbab6850e98879522_T', distance=1.1920928955078125e-07),\n",
              "  MatchNeighbor(id='0305111c779fe663bd94122bef0f0002_T', distance=0.18872332572937012),\n",
              "  MatchNeighbor(id='ba8163913f5e384d17a8202b1f8b91b3_T', distance=0.2593120336532593),\n",
              "  MatchNeighbor(id='6ef0a5eb033cd610d455be7102da5685_T', distance=0.3441193103790283),\n",
              "  MatchNeighbor(id='ee383a337af67ae8ad4f42714d67ddaf_T', distance=0.3441193103790283)],\n",
              " [MatchNeighbor(id='3ecb859759e5311cbab6850e98879522_I', distance=0.0),\n",
              "  MatchNeighbor(id='06ad8323cf9105f1aaae6515cf08a7d6_I', distance=0.03433966636657715),\n",
              "  MatchNeighbor(id='c9c27aa5dc7df49e82e55e8abb6b4020_I', distance=0.04238331317901611),\n",
              "  MatchNeighbor(id='169902631b89202f0e2079e9cc09b3c7_I', distance=0.04768931865692139),\n",
              "  MatchNeighbor(id='5614ccefd0ab9bee5cd28bf3d38fd12f_I', distance=0.0625385046005249)]]"
            ]
          },
          "execution_count": 15,
          "metadata": {},
          "output_type": "execute_result"
        }
      ],
      "source": [
        "NUM_NEIGHBORS = 5\n",
        "\n",
        "response = my_index_endpoint.find_neighbors(\n",
        "    deployed_index_id=DEPLOYED_INDEX_ID,\n",
        "    queries=[res.text_embedding,res.image_embedding],\n",
        "    num_neighbors=NUM_NEIGHBORS,\n",
        ")\n",
        "\n",
        "response"
      ]
    },
    {
      "cell_type": "markdown",
      "metadata": {
        "id": "sV-TfD01RyrD"
      },
      "source": [
        "# Future Improvements\n",
        "\n",
        "1. Use streaming mode to enable fast updates. Doesn't seem to be exposed in python client.\n",
        "2. Take advantage of filtering option. Add filters for top level category and embedding type"
      ]
    },
    {
      "cell_type": "code",
      "execution_count": null,
      "metadata": {
        "id": "-CGlGZ0n3Yad"
      },
      "outputs": [],
      "source": []
    }
  ],
  "metadata": {
    "colab": {
      "provenance": [],
      "toc_visible": true
    },
    "kernelspec": {
      "display_name": "Python 3",
      "name": "python3"
    },
    "language_info": {
      "name": "python"
    }
  },
  "nbformat": 4,
  "nbformat_minor": 0
}
