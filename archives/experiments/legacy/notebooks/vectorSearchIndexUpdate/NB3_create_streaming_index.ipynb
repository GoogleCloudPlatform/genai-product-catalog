{
  "nbformat": 4,
  "nbformat_minor": 0,
  "metadata": {
    "colab": {
      "provenance": [],
      "toc_visible": true
    },
    "kernelspec": {
      "name": "python3",
      "display_name": "Python 3"
    },
    "language_info": {
      "name": "python"
    }
  },
  "cells": [
    {
      "cell_type": "markdown",
      "source": [
        "# Objective\n",
        "\n",
        "Given a list of embeddings, create and deploy a Vertex AI Vector Search (fka Matching Engine) index with Streaming Updates\n",
        "\n",
        "Assumes you already have embeddings in GCS in a format supported by Vertex AI Vector Search."
      ],
      "metadata": {
        "id": "JLjnyaPUvmoP"
      }
    },
    {
      "cell_type": "code",
      "source": [
        "!pip install google-cloud-aiplatform"
      ],
      "metadata": {
        "id": "bki6-SfNUa9d",
        "colab": {
          "base_uri": "https://localhost:8080/"
        },
        "outputId": "8e5281de-c02a-45c2-b4c8-f4ab6dae06ed"
      },
      "execution_count": null,
      "outputs": [
        {
          "output_type": "stream",
          "name": "stdout",
          "text": [
            "Requirement already satisfied: google-cloud-aiplatform in /usr/local/lib/python3.10/dist-packages (1.38.1)\n",
            "Requirement already satisfied: google-api-core[grpc]!=2.0.*,!=2.1.*,!=2.2.*,!=2.3.*,!=2.4.*,!=2.5.*,!=2.6.*,!=2.7.*,<3.0.0dev,>=1.32.0 in /usr/local/lib/python3.10/dist-packages (from google-cloud-aiplatform) (2.11.1)\n",
            "Requirement already satisfied: proto-plus<2.0.0dev,>=1.22.0 in /usr/local/lib/python3.10/dist-packages (from google-cloud-aiplatform) (1.23.0)\n",
            "Requirement already satisfied: protobuf!=3.20.0,!=3.20.1,!=4.21.0,!=4.21.1,!=4.21.2,!=4.21.3,!=4.21.4,!=4.21.5,<5.0.0dev,>=3.19.5 in /usr/local/lib/python3.10/dist-packages (from google-cloud-aiplatform) (3.20.3)\n",
            "Requirement already satisfied: packaging>=14.3 in /usr/local/lib/python3.10/dist-packages (from google-cloud-aiplatform) (23.2)\n",
            "Requirement already satisfied: google-cloud-storage<3.0.0dev,>=1.32.0 in /usr/local/lib/python3.10/dist-packages (from google-cloud-aiplatform) (2.8.0)\n",
            "Requirement already satisfied: google-cloud-bigquery<4.0.0dev,>=1.15.0 in /usr/local/lib/python3.10/dist-packages (from google-cloud-aiplatform) (3.12.0)\n",
            "Requirement already satisfied: google-cloud-resource-manager<3.0.0dev,>=1.3.3 in /usr/local/lib/python3.10/dist-packages (from google-cloud-aiplatform) (1.11.0)\n",
            "Requirement already satisfied: shapely<3.0.0dev in /usr/local/lib/python3.10/dist-packages (from google-cloud-aiplatform) (2.0.2)\n",
            "Requirement already satisfied: googleapis-common-protos<2.0.dev0,>=1.56.2 in /usr/local/lib/python3.10/dist-packages (from google-api-core[grpc]!=2.0.*,!=2.1.*,!=2.2.*,!=2.3.*,!=2.4.*,!=2.5.*,!=2.6.*,!=2.7.*,<3.0.0dev,>=1.32.0->google-cloud-aiplatform) (1.62.0)\n",
            "Requirement already satisfied: google-auth<3.0.dev0,>=2.14.1 in /usr/local/lib/python3.10/dist-packages (from google-api-core[grpc]!=2.0.*,!=2.1.*,!=2.2.*,!=2.3.*,!=2.4.*,!=2.5.*,!=2.6.*,!=2.7.*,<3.0.0dev,>=1.32.0->google-cloud-aiplatform) (2.17.3)\n",
            "Requirement already satisfied: requests<3.0.0.dev0,>=2.18.0 in /usr/local/lib/python3.10/dist-packages (from google-api-core[grpc]!=2.0.*,!=2.1.*,!=2.2.*,!=2.3.*,!=2.4.*,!=2.5.*,!=2.6.*,!=2.7.*,<3.0.0dev,>=1.32.0->google-cloud-aiplatform) (2.31.0)\n",
            "Requirement already satisfied: grpcio<2.0dev,>=1.33.2 in /usr/local/lib/python3.10/dist-packages (from google-api-core[grpc]!=2.0.*,!=2.1.*,!=2.2.*,!=2.3.*,!=2.4.*,!=2.5.*,!=2.6.*,!=2.7.*,<3.0.0dev,>=1.32.0->google-cloud-aiplatform) (1.60.0)\n",
            "Requirement already satisfied: grpcio-status<2.0.dev0,>=1.33.2 in /usr/local/lib/python3.10/dist-packages (from google-api-core[grpc]!=2.0.*,!=2.1.*,!=2.2.*,!=2.3.*,!=2.4.*,!=2.5.*,!=2.6.*,!=2.7.*,<3.0.0dev,>=1.32.0->google-cloud-aiplatform) (1.48.2)\n",
            "Requirement already satisfied: google-cloud-core<3.0.0dev,>=1.6.0 in /usr/local/lib/python3.10/dist-packages (from google-cloud-bigquery<4.0.0dev,>=1.15.0->google-cloud-aiplatform) (2.3.3)\n",
            "Requirement already satisfied: google-resumable-media<3.0dev,>=0.6.0 in /usr/local/lib/python3.10/dist-packages (from google-cloud-bigquery<4.0.0dev,>=1.15.0->google-cloud-aiplatform) (2.7.0)\n",
            "Requirement already satisfied: python-dateutil<3.0dev,>=2.7.2 in /usr/local/lib/python3.10/dist-packages (from google-cloud-bigquery<4.0.0dev,>=1.15.0->google-cloud-aiplatform) (2.8.2)\n",
            "Requirement already satisfied: grpc-google-iam-v1<1.0.0dev,>=0.12.4 in /usr/local/lib/python3.10/dist-packages (from google-cloud-resource-manager<3.0.0dev,>=1.3.3->google-cloud-aiplatform) (0.13.0)\n",
            "Requirement already satisfied: numpy>=1.14 in /usr/local/lib/python3.10/dist-packages (from shapely<3.0.0dev->google-cloud-aiplatform) (1.23.5)\n",
            "Requirement already satisfied: cachetools<6.0,>=2.0.0 in /usr/local/lib/python3.10/dist-packages (from google-auth<3.0.dev0,>=2.14.1->google-api-core[grpc]!=2.0.*,!=2.1.*,!=2.2.*,!=2.3.*,!=2.4.*,!=2.5.*,!=2.6.*,!=2.7.*,<3.0.0dev,>=1.32.0->google-cloud-aiplatform) (5.3.2)\n",
            "Requirement already satisfied: pyasn1-modules>=0.2.1 in /usr/local/lib/python3.10/dist-packages (from google-auth<3.0.dev0,>=2.14.1->google-api-core[grpc]!=2.0.*,!=2.1.*,!=2.2.*,!=2.3.*,!=2.4.*,!=2.5.*,!=2.6.*,!=2.7.*,<3.0.0dev,>=1.32.0->google-cloud-aiplatform) (0.3.0)\n",
            "Requirement already satisfied: six>=1.9.0 in /usr/local/lib/python3.10/dist-packages (from google-auth<3.0.dev0,>=2.14.1->google-api-core[grpc]!=2.0.*,!=2.1.*,!=2.2.*,!=2.3.*,!=2.4.*,!=2.5.*,!=2.6.*,!=2.7.*,<3.0.0dev,>=1.32.0->google-cloud-aiplatform) (1.16.0)\n",
            "Requirement already satisfied: rsa<5,>=3.1.4 in /usr/local/lib/python3.10/dist-packages (from google-auth<3.0.dev0,>=2.14.1->google-api-core[grpc]!=2.0.*,!=2.1.*,!=2.2.*,!=2.3.*,!=2.4.*,!=2.5.*,!=2.6.*,!=2.7.*,<3.0.0dev,>=1.32.0->google-cloud-aiplatform) (4.9)\n",
            "Requirement already satisfied: google-crc32c<2.0dev,>=1.0 in /usr/local/lib/python3.10/dist-packages (from google-resumable-media<3.0dev,>=0.6.0->google-cloud-bigquery<4.0.0dev,>=1.15.0->google-cloud-aiplatform) (1.5.0)\n",
            "Requirement already satisfied: charset-normalizer<4,>=2 in /usr/local/lib/python3.10/dist-packages (from requests<3.0.0.dev0,>=2.18.0->google-api-core[grpc]!=2.0.*,!=2.1.*,!=2.2.*,!=2.3.*,!=2.4.*,!=2.5.*,!=2.6.*,!=2.7.*,<3.0.0dev,>=1.32.0->google-cloud-aiplatform) (3.3.2)\n",
            "Requirement already satisfied: idna<4,>=2.5 in /usr/local/lib/python3.10/dist-packages (from requests<3.0.0.dev0,>=2.18.0->google-api-core[grpc]!=2.0.*,!=2.1.*,!=2.2.*,!=2.3.*,!=2.4.*,!=2.5.*,!=2.6.*,!=2.7.*,<3.0.0dev,>=1.32.0->google-cloud-aiplatform) (3.6)\n",
            "Requirement already satisfied: urllib3<3,>=1.21.1 in /usr/local/lib/python3.10/dist-packages (from requests<3.0.0.dev0,>=2.18.0->google-api-core[grpc]!=2.0.*,!=2.1.*,!=2.2.*,!=2.3.*,!=2.4.*,!=2.5.*,!=2.6.*,!=2.7.*,<3.0.0dev,>=1.32.0->google-cloud-aiplatform) (2.0.7)\n",
            "Requirement already satisfied: certifi>=2017.4.17 in /usr/local/lib/python3.10/dist-packages (from requests<3.0.0.dev0,>=2.18.0->google-api-core[grpc]!=2.0.*,!=2.1.*,!=2.2.*,!=2.3.*,!=2.4.*,!=2.5.*,!=2.6.*,!=2.7.*,<3.0.0dev,>=1.32.0->google-cloud-aiplatform) (2023.11.17)\n",
            "Requirement already satisfied: pyasn1<0.6.0,>=0.4.6 in /usr/local/lib/python3.10/dist-packages (from pyasn1-modules>=0.2.1->google-auth<3.0.dev0,>=2.14.1->google-api-core[grpc]!=2.0.*,!=2.1.*,!=2.2.*,!=2.3.*,!=2.4.*,!=2.5.*,!=2.6.*,!=2.7.*,<3.0.0dev,>=1.32.0->google-cloud-aiplatform) (0.5.1)\n"
          ]
        }
      ]
    },
    {
      "cell_type": "markdown",
      "source": [
        "---\n",
        "\n",
        "#### ⚠️ Do not forget to click the \"RESTART RUNTIME\" button above.\n",
        "\n",
        "---"
      ],
      "metadata": {
        "id": "GvYq_G2GOdpD"
      }
    },
    {
      "cell_type": "code",
      "source": [
        "import sys\n",
        "\n",
        "if 'google.colab' in sys.modules:\n",
        "    from google.colab import auth as google_auth\n",
        "    google_auth.authenticate_user()"
      ],
      "metadata": {
        "id": "HHdQoCb-6B35"
      },
      "execution_count": 33,
      "outputs": []
    },
    {
      "cell_type": "code",
      "source": [
        "PROJECT_ID = 'solutions-2023-mar-107' # @param {type:\"string\"}\n",
        "REGION = 'us-central1' # @param {type:\"string\"}\n",
        "BUCKET_URI = \"gs://vector_search_regional/flipkart_multimodal_embeddings\" # @param {type:\"string\"} # WHERE EMBEDDINGS ARE STORED\n",
        "ENDPOINT = \"{}-aiplatform.googleapis.com\".format(REGION)"
      ],
      "metadata": {
        "id": "N94ih12H6BFJ"
      },
      "execution_count": null,
      "outputs": []
    },
    {
      "cell_type": "code",
      "source": [
        "#from google.cloud import aiplatform\n",
        "aiplatform.init(project=PROJECT_ID, location=REGION, staging_bucket=BUCKET_URI)"
      ],
      "metadata": {
        "id": "yAA8polfUduJ"
      },
      "execution_count": null,
      "outputs": []
    },
    {
      "cell_type": "markdown",
      "source": [
        "# Create an index for Streaming Updates"
      ],
      "metadata": {
        "id": "QkOFx0jMJc7u"
      }
    },
    {
      "cell_type": "code",
      "source": [
        "PARENT = \"projects/{}/locations/{}\".format(PROJECT_ID, REGION)"
      ],
      "metadata": {
        "id": "XsK7HreaBSdo"
      },
      "execution_count": null,
      "outputs": []
    },
    {
      "cell_type": "code",
      "source": [
        "from google.cloud import aiplatform_v1\n",
        "from google.protobuf import struct_pb2"
      ],
      "metadata": {
        "id": "erOWqLuMBXCS"
      },
      "execution_count": null,
      "outputs": []
    },
    {
      "cell_type": "code",
      "source": [
        "index_client = aiplatform_v1.IndexServiceClient(\n",
        "    client_options=dict(api_endpoint=ENDPOINT)\n",
        ")"
      ],
      "metadata": {
        "id": "U5OKz3qCBtBL"
      },
      "execution_count": null,
      "outputs": []
    },
    {
      "cell_type": "code",
      "source": [
        "DIMENSIONS = 1408\n",
        "DISPLAY_NAME = \"flipkart_streaming\"\n",
        "\n",
        "treeAhConfig = struct_pb2.Struct(\n",
        "    fields={\n",
        "        \"leafNodeEmbeddingCount\": struct_pb2.Value(number_value=500),\n",
        "        \"leafNodesToSearchPercent\": struct_pb2.Value(number_value=7),\n",
        "    }\n",
        ")\n",
        "\n",
        "algorithmConfig = struct_pb2.Struct(\n",
        "    fields={\"treeAhConfig\": struct_pb2.Value(struct_value=treeAhConfig)}\n",
        ")\n",
        "\n",
        "config = struct_pb2.Struct(\n",
        "    fields={\n",
        "        \"dimensions\": struct_pb2.Value(number_value=DIMENSIONS),\n",
        "        \"approximateNeighborsCount\": struct_pb2.Value(number_value=150),\n",
        "        \"distanceMeasureType\": struct_pb2.Value(string_value=\"COSINE_DISTANCE\"),\n",
        "        \"algorithmConfig\": struct_pb2.Value(struct_value=algorithmConfig),\n",
        "    }\n",
        ")\n",
        "\n",
        "metadata = struct_pb2.Struct(\n",
        "    fields={\n",
        "        \"config\": struct_pb2.Value(struct_value=config),\n",
        "        \"contentsDeltaUri\": struct_pb2.Value(string_value=BUCKET_URI),\n",
        "    }\n",
        ")\n",
        "\n",
        "ann_index = {\n",
        "    \"display_name\": DISPLAY_NAME,\n",
        "    \"description\": \"Based on ~18K Flipkart product listings with both description and image\",\n",
        "    \"metadata\": struct_pb2.Value(struct_value=metadata),\n",
        "    \"index_update_method\": aiplatform_v1.Index.IndexUpdateMethod.STREAM_UPDATE,\n",
        "}\n",
        "ann_index = index_client.create_index(parent=PARENT, index=ann_index)"
      ],
      "metadata": {
        "id": "0x_z_N8YB0-J"
      },
      "execution_count": null,
      "outputs": []
    },
    {
      "cell_type": "code",
      "source": [
        "ann_index"
      ],
      "metadata": {
        "colab": {
          "base_uri": "https://localhost:8080/"
        },
        "id": "lIIQyjG3_isj",
        "outputId": "20c49e65-3bfd-442d-e406-3452d1671582"
      },
      "execution_count": null,
      "outputs": [
        {
          "output_type": "execute_result",
          "data": {
            "text/plain": [
              "<google.api_core.operation.Operation at 0x7d135fa41810>"
            ]
          },
          "metadata": {},
          "execution_count": 15
        }
      ]
    },
    {
      "cell_type": "code",
      "source": [
        "ann_index.result()"
      ],
      "metadata": {
        "colab": {
          "base_uri": "https://localhost:8080/"
        },
        "id": "N13Q0vNBJsy4",
        "outputId": "5b0c0ae8-f539-4c53-cd7b-787a41277e71"
      },
      "execution_count": null,
      "outputs": [
        {
          "output_type": "execute_result",
          "data": {
            "text/plain": [
              "name: \"projects/411826505131/locations/us-central1/indexes/3849667285773975552\""
            ]
          },
          "metadata": {},
          "execution_count": 17
        }
      ]
    },
    {
      "cell_type": "markdown",
      "source": [
        "# Deploy Index"
      ],
      "metadata": {
        "id": "UDwzD5cRxDUf"
      }
    },
    {
      "cell_type": "code",
      "source": [
        "my_index_endpoint = aiplatform.MatchingEngineIndexEndpoint.create(\n",
        "    display_name = 'flipkart_streaming',\n",
        "    description ='Based on 18k flipkart product listings for which we have both a description and image',\n",
        "    public_endpoint_enabled=True,\n",
        ")"
      ],
      "metadata": {
        "id": "xiloYESZ1FTE",
        "colab": {
          "base_uri": "https://localhost:8080/"
        },
        "outputId": "58e93391-f88f-4774-e977-80cfa03ae1b5"
      },
      "execution_count": null,
      "outputs": [
        {
          "output_type": "stream",
          "name": "stderr",
          "text": [
            "INFO:google.cloud.aiplatform.matching_engine.matching_engine_index_endpoint:Creating MatchingEngineIndexEndpoint\n",
            "INFO:google.cloud.aiplatform.matching_engine.matching_engine_index_endpoint:Create MatchingEngineIndexEndpoint backing LRO: projects/411826505131/locations/us-central1/indexEndpoints/356562824794734592/operations/1536536095016091648\n",
            "INFO:google.cloud.aiplatform.matching_engine.matching_engine_index_endpoint:MatchingEngineIndexEndpoint created. Resource name: projects/411826505131/locations/us-central1/indexEndpoints/356562824794734592\n",
            "INFO:google.cloud.aiplatform.matching_engine.matching_engine_index_endpoint:To use this MatchingEngineIndexEndpoint in another session:\n",
            "INFO:google.cloud.aiplatform.matching_engine.matching_engine_index_endpoint:index_endpoint = aiplatform.MatchingEngineIndexEndpoint('projects/411826505131/locations/us-central1/indexEndpoints/356562824794734592')\n"
          ]
        }
      ]
    },
    {
      "cell_type": "code",
      "source": [
        "tree_ah_index = aiplatform.MatchingEngineIndex(index_name='3849667285773975552')"
      ],
      "metadata": {
        "id": "tyMoOZT5A4tw"
      },
      "execution_count": null,
      "outputs": []
    },
    {
      "cell_type": "code",
      "source": [
        "deployed_index_name = 'flipkart_streaming'\n",
        "my_index_endpoint = my_index_endpoint.deploy_index(index=tree_ah_index, deployed_index_id=deployed_index_name)\n",
        "my_index_endpoint.deployed_indexes"
      ],
      "metadata": {
        "id": "otALXzzV3wYA",
        "colab": {
          "base_uri": "https://localhost:8080/"
        },
        "outputId": "e9cb9c7d-3ecd-4fc7-9559-56618100a5c9"
      },
      "execution_count": null,
      "outputs": [
        {
          "output_type": "stream",
          "name": "stderr",
          "text": [
            "INFO:google.cloud.aiplatform.matching_engine.matching_engine_index_endpoint:Deploying index MatchingEngineIndexEndpoint index_endpoint: projects/411826505131/locations/us-central1/indexEndpoints/356562824794734592\n",
            "INFO:google.cloud.aiplatform.matching_engine.matching_engine_index_endpoint:Deploy index MatchingEngineIndexEndpoint index_endpoint backing LRO: projects/411826505131/locations/us-central1/indexEndpoints/356562824794734592/operations/3063256368694689792\n",
            "INFO:google.cloud.aiplatform.matching_engine.matching_engine_index_endpoint:MatchingEngineIndexEndpoint index_endpoint Deployed index. Resource name: projects/411826505131/locations/us-central1/indexEndpoints/356562824794734592\n"
          ]
        },
        {
          "output_type": "execute_result",
          "data": {
            "text/plain": [
              "[id: \"flipkart_streaming\"\n",
              "index: \"projects/411826505131/locations/us-central1/indexes/3849667285773975552\"\n",
              "create_time {\n",
              "  seconds: 1702893052\n",
              "  nanos: 116157000\n",
              "}\n",
              "index_sync_time {\n",
              "  seconds: 1702893991\n",
              "  nanos: 762074000\n",
              "}\n",
              "automatic_resources {\n",
              "  min_replica_count: 2\n",
              "  max_replica_count: 2\n",
              "}\n",
              "deployment_group: \"default\"\n",
              "]"
            ]
          },
          "metadata": {},
          "execution_count": 20
        }
      ]
    },
    {
      "cell_type": "markdown",
      "source": [
        "# Query Index"
      ],
      "metadata": {
        "id": "9G7XWHr90WPi"
      }
    },
    {
      "cell_type": "code",
      "source": [
        "import base64\n",
        "from google.cloud import aiplatform\n",
        "from google.protobuf import struct_pb2\n",
        "from functools import cache\n",
        "import time\n",
        "import typing\n",
        "import logging\n",
        "\n",
        "# Inspired from https://stackoverflow.com/questions/34269772/type-hints-in-namedtuple.\n",
        "class EmbeddingResponse(typing.NamedTuple):\n",
        "  text_embedding: typing.Sequence[float]\n",
        "  image_embedding: typing.Sequence[float]\n",
        "\n",
        "\n",
        "class EmbeddingPredictionClient:\n",
        "  \"\"\"Wrapper around Prediction Service Client.\"\"\"\n",
        "  def __init__(self, project : str,\n",
        "    location : str = \"us-central1\",\n",
        "    api_regional_endpoint: str = \"us-central1-aiplatform.googleapis.com\"):\n",
        "    client_options = {\"api_endpoint\": api_regional_endpoint}\n",
        "    # Initialize client that will be used to create and send requests.\n",
        "    # This client only needs to be created once, and can be reused for multiple requests.\n",
        "    self.client = aiplatform.gapic.PredictionServiceClient(client_options=client_options)\n",
        "    self.location = location\n",
        "    self.project = project\n",
        "\n",
        "  def get_embedding(self, text : str = None, image_path : str = None):\n",
        "    \"\"\"image_path can be a local path or a GCS URI.\"\"\"\n",
        "    if not text and not image_path:\n",
        "      raise ValueError('At least one of text or image_bytes must be specified.')\n",
        "\n",
        "    instance = struct_pb2.Struct()\n",
        "    if text:\n",
        "      if len(text) > 1024:\n",
        "        logging.warning('Text must be less than 1024 characters. Truncating text.')\n",
        "        text = text[:1024]\n",
        "      instance.fields['text'].string_value = text\n",
        "\n",
        "    if image_path:\n",
        "      image_struct = instance.fields['image'].struct_value\n",
        "      if image_path.lower().startswith('gs://'):\n",
        "        image_struct.fields['gcsUri'].string_value = image_path\n",
        "      else:\n",
        "        with open(image_path, \"rb\") as f:\n",
        "          image_bytes = f.read()\n",
        "        encoded_content = base64.b64encode(image_bytes).decode(\"utf-8\")\n",
        "        image_struct.fields['bytesBase64Encoded'].string_value = encoded_content\n",
        "\n",
        "    instances = [instance]\n",
        "    endpoint = (f\"projects/{self.project}/locations/{self.location}\"\n",
        "      \"/publishers/google/models/multimodalembedding@001\")\n",
        "    response = self.client.predict(endpoint=endpoint, instances=instances)\n",
        "\n",
        "    text_embedding = None\n",
        "    if text:\n",
        "      text_emb_value = response.predictions[0]['textEmbedding']\n",
        "      text_embedding = [v for v in text_emb_value]\n",
        "\n",
        "    image_embedding = None\n",
        "    if image_path:\n",
        "      image_emb_value = response.predictions[0]['imageEmbedding']\n",
        "      image_embedding = [v for v in image_emb_value]\n",
        "\n",
        "    return EmbeddingResponse(\n",
        "      text_embedding=text_embedding,\n",
        "      image_embedding=image_embedding)\n",
        "\n",
        "@cache\n",
        "def get_client(project):\n",
        "  return EmbeddingPredictionClient(project)\n",
        "\n",
        "\n",
        "def embed(project,text,image_path=None):\n",
        "  client = get_client(project)\n",
        "  start = time.time()\n",
        "  response = client.get_embedding(text=text, image_path=image_path)\n",
        "  end = time.time()\n",
        "  print('Embedding Time: ', end - start)\n",
        "  return response"
      ],
      "metadata": {
        "id": "vRI2Dh0h4y88"
      },
      "execution_count": null,
      "outputs": []
    },
    {
      "cell_type": "code",
      "source": [
        "res = embed(PROJECT_ID,\n",
        "            \"Key Features of Vishudh Printed Women's Straight Kurta BLACK, GREY Straight,Specifications of Vishudh Printed Women's Straight Kurta Kurta Details Sleeve Sleeveless Number of Contents in Sales Package Pack of 1 Fabric 100% POLYESTER Type Straight Neck ROUND NECK General Details Pattern Printed Occasion Festive Ideal For Women's In the Box Kurta Additional Details Style Code VNKU004374 BLACK::GREY Fabric Care Gentle Machine Wash in Lukewarm Water, Do Not Bleach\",\n",
        "            'gs://genai-product-catalog/flipkart_20k_oct26/3ecb859759e5311cbab6850e98879522_0.jpg')"
      ],
      "metadata": {
        "id": "ToeQkiIqNMIa",
        "colab": {
          "base_uri": "https://localhost:8080/"
        },
        "outputId": "c1d02e52-8dab-4227-ba1b-1fa1a604f5f7"
      },
      "execution_count": null,
      "outputs": [
        {
          "output_type": "stream",
          "name": "stdout",
          "text": [
            "Embedding Time:  0.8291733264923096\n"
          ]
        }
      ]
    },
    {
      "cell_type": "code",
      "source": [
        "NUM_NEIGHBORS = 5\n",
        "response = my_index_endpoint.find_neighbors(\n",
        "    deployed_index_id=deployed_index_name,\n",
        "    queries=[res.text_embedding,res.image_embedding],\n",
        "    num_neighbors=NUM_NEIGHBORS,\n",
        ")\n",
        "\n",
        "response"
      ],
      "metadata": {
        "id": "QRCnFT4B0jnm",
        "colab": {
          "base_uri": "https://localhost:8080/"
        },
        "outputId": "6b31e98d-44a4-438a-be61-d79d5fdf794f"
      },
      "execution_count": null,
      "outputs": [
        {
          "output_type": "execute_result",
          "data": {
            "text/plain": [
              "[[MatchNeighbor(id='3ecb859759e5311cbab6850e98879522_T', distance=1.1920928955078125e-07),\n",
              "  MatchNeighbor(id='0305111c779fe663bd94122bef0f0002_T', distance=0.18872332572937012),\n",
              "  MatchNeighbor(id='ba8163913f5e384d17a8202b1f8b91b3_T', distance=0.25931215286254883),\n",
              "  MatchNeighbor(id='6ef0a5eb033cd610d455be7102da5685_T', distance=0.3441193103790283),\n",
              "  MatchNeighbor(id='ee383a337af67ae8ad4f42714d67ddaf_T', distance=0.3441193103790283)],\n",
              " [MatchNeighbor(id='3ecb859759e5311cbab6850e98879522_I', distance=0.0),\n",
              "  MatchNeighbor(id='06ad8323cf9105f1aaae6515cf08a7d6_I', distance=0.03433966636657715),\n",
              "  MatchNeighbor(id='c9c27aa5dc7df49e82e55e8abb6b4020_I', distance=0.04238319396972656),\n",
              "  MatchNeighbor(id='169902631b89202f0e2079e9cc09b3c7_I', distance=0.047689199447631836),\n",
              "  MatchNeighbor(id='5614ccefd0ab9bee5cd28bf3d38fd12f_I', distance=0.06253844499588013)]]"
            ]
          },
          "metadata": {},
          "execution_count": 23
        }
      ]
    },
    {
      "cell_type": "markdown",
      "source": [
        "# Update Index"
      ],
      "metadata": {
        "id": "x80kFH5SavgM"
      }
    },
    {
      "cell_type": "code",
      "source": [
        "#Lets read few entries from test dataset & convert into desired format\n",
        "from google.cloud import bigquery\n",
        "client = bigquery.Client(PROJECT_ID)\n",
        "query_job = client.query(\"\"\"\n",
        "  SELECT CONCAT(id,'_T') as id, text_embedding as embedding, L0, L1, L2, L3\n",
        "\n",
        "  FROM `solutions-2023-mar-107.flipkart.test_data_for_index_update`\n",
        "\n",
        "  UNION ALL\n",
        "\n",
        "  SELECT CONCAT(id,'_I') as embedding, image_embedding, L0, L1, L2, L3\n",
        "\n",
        "  FROM `solutions-2023-mar-107.flipkart.test_data_for_index_update`;\n",
        "   \"\"\")\n",
        "\n",
        "res = query_job.result() # Wait for the job to complete."
      ],
      "metadata": {
        "id": "V60Czw6guZQW"
      },
      "execution_count": 28,
      "outputs": []
    },
    {
      "cell_type": "code",
      "source": [
        "df = res.to_dataframe() # Convert to pandas dataframe\n",
        "df"
      ],
      "metadata": {
        "colab": {
          "base_uri": "https://localhost:8080/",
          "height": 1000
        },
        "id": "6bo9rs0tvl1T",
        "outputId": "eece18de-0367-4514-b35a-52fddad2107d"
      },
      "execution_count": 29,
      "outputs": [
        {
          "output_type": "execute_result",
          "data": {
            "text/plain": [
              "                                    id  \\\n",
              "0   dbdac18a8ee5a8a48238b9685c96e90a_T   \n",
              "1   8a771d8dfa97d06278038945dfe6b936_T   \n",
              "2   894904e26516d491bf1c7711fe800e78_T   \n",
              "3   138f8455457c6cf87a0b94e132c485a8_T   \n",
              "4   7c973b8fb2069b2142aea3473b70c213_T   \n",
              "5   81d73f4a7add96d46146ac4e192aad92_T   \n",
              "6   140225e6d36138c0c79f4b97d42456bd_T   \n",
              "7   9ac56e95bf79b7a4268387b4c8efdd52_T   \n",
              "8   35c289ac8c50c49fae6d06e37ce34d42_T   \n",
              "9   fef6a5aa8c590c8029bbc11903cbd554_T   \n",
              "10  dbdac18a8ee5a8a48238b9685c96e90a_I   \n",
              "11  8a771d8dfa97d06278038945dfe6b936_I   \n",
              "12  894904e26516d491bf1c7711fe800e78_I   \n",
              "13  138f8455457c6cf87a0b94e132c485a8_I   \n",
              "14  7c973b8fb2069b2142aea3473b70c213_I   \n",
              "15  81d73f4a7add96d46146ac4e192aad92_I   \n",
              "16  140225e6d36138c0c79f4b97d42456bd_I   \n",
              "17  9ac56e95bf79b7a4268387b4c8efdd52_I   \n",
              "18  35c289ac8c50c49fae6d06e37ce34d42_I   \n",
              "19  fef6a5aa8c590c8029bbc11903cbd554_I   \n",
              "\n",
              "                                            embedding        L0  \\\n",
              "0   [0.0173654296, -0.0533204265, -0.0123991454, 0...   Watches   \n",
              "1   [0.0395723879, -0.046936553, -0.0225308761, 0....   Watches   \n",
              "2   [0.0234976951, -0.0287721325, -0.00390096451, ...   Watches   \n",
              "3   [0.0199023429, -0.0493029393, -0.0240550581, 0...   Watches   \n",
              "4   [0.00237481017, -0.0487776175, 0.0100880247, 0...   Watches   \n",
              "5   [0.00450034346, -0.0472053625, 0.0043839491, -...  Clothing   \n",
              "6   [-0.0411048084, -0.0358454958, 0.0511916205, 0...  Clothing   \n",
              "7   [0.00935253594, -0.0527491495, 0.0230338033, 0...  Clothing   \n",
              "8   [-0.0280462336, -0.0645570904, 0.0218884815, 0...  Clothing   \n",
              "9   [0.0218668692, -0.0588314161, 0.00145428523, 0...  Clothing   \n",
              "10  [0.00376954675, 0.0619891584, -0.0349791907, 0...   Watches   \n",
              "11  [-0.0022665204, 0.0369679928, -0.00598961441, ...   Watches   \n",
              "12  [0.0150629, 0.039315924, -0.0305093117, -0.008...   Watches   \n",
              "13  [0.0141698951, 0.038551461, -0.00148873532, 0....   Watches   \n",
              "14  [0.00239414768, 0.0396352187, -0.0179609824, 0...   Watches   \n",
              "15  [-0.00174892042, 0.0376691744, 0.0117004327, -...  Clothing   \n",
              "16  [-0.0192725249, 0.056868352, 0.00923451874, 0....  Clothing   \n",
              "17  [-0.0240949336, 0.0436989069, 0.005841251, 0.0...  Clothing   \n",
              "18  [-0.0463853031, 0.0571603179, 0.0243946426, 0....  Clothing   \n",
              "19  [-0.027610451, 0.053207282, -0.0176955871, 0.0...  Clothing   \n",
              "\n",
              "                   L1                               L2  \\\n",
              "0       Wrist Watches            Timewel Wrist Watches   \n",
              "1       Wrist Watches  Chappin & Nellson Wrist Watches   \n",
              "2       Wrist Watches          Only Kidz Wrist Watches   \n",
              "3       Wrist Watches        Gift Island Wrist Watches   \n",
              "4   Watch Accessories                      Wrist Bands   \n",
              "5      Kids' Clothing                       Girls Wear   \n",
              "6      Men's Clothing                         T-Shirts   \n",
              "7      Men's Clothing                         T-Shirts   \n",
              "8      Men's Clothing                           Shirts   \n",
              "9      Men's Clothing                         T-Shirts   \n",
              "10      Wrist Watches            Timewel Wrist Watches   \n",
              "11      Wrist Watches  Chappin & Nellson Wrist Watches   \n",
              "12      Wrist Watches          Only Kidz Wrist Watches   \n",
              "13      Wrist Watches        Gift Island Wrist Watches   \n",
              "14  Watch Accessories                      Wrist Bands   \n",
              "15     Kids' Clothing                       Girls Wear   \n",
              "16     Men's Clothing                         T-Shirts   \n",
              "17     Men's Clothing                         T-Shirts   \n",
              "18     Men's Clothing                           Shirts   \n",
              "19     Men's Clothing                         T-Shirts   \n",
              "\n",
              "                            L3  \n",
              "0                         None  \n",
              "1                         None  \n",
              "2                         None  \n",
              "3                         None  \n",
              "4     Sakhi Styles Wrist Bands  \n",
              "5        Innerwear & Sleepwear  \n",
              "6          Ocean Race T-Shirts  \n",
              "7               Nimya T-Shirts  \n",
              "8   Casual & Party Wear Shirts  \n",
              "9               Nimya T-Shirts  \n",
              "10                        None  \n",
              "11                        None  \n",
              "12                        None  \n",
              "13                        None  \n",
              "14    Sakhi Styles Wrist Bands  \n",
              "15       Innerwear & Sleepwear  \n",
              "16         Ocean Race T-Shirts  \n",
              "17              Nimya T-Shirts  \n",
              "18  Casual & Party Wear Shirts  \n",
              "19              Nimya T-Shirts  "
            ],
            "text/html": [
              "\n",
              "  <div id=\"df-e44f9f00-6bac-4346-9991-cf7bbd5f711b\" class=\"colab-df-container\">\n",
              "    <div>\n",
              "<style scoped>\n",
              "    .dataframe tbody tr th:only-of-type {\n",
              "        vertical-align: middle;\n",
              "    }\n",
              "\n",
              "    .dataframe tbody tr th {\n",
              "        vertical-align: top;\n",
              "    }\n",
              "\n",
              "    .dataframe thead th {\n",
              "        text-align: right;\n",
              "    }\n",
              "</style>\n",
              "<table border=\"1\" class=\"dataframe\">\n",
              "  <thead>\n",
              "    <tr style=\"text-align: right;\">\n",
              "      <th></th>\n",
              "      <th>id</th>\n",
              "      <th>embedding</th>\n",
              "      <th>L0</th>\n",
              "      <th>L1</th>\n",
              "      <th>L2</th>\n",
              "      <th>L3</th>\n",
              "    </tr>\n",
              "  </thead>\n",
              "  <tbody>\n",
              "    <tr>\n",
              "      <th>0</th>\n",
              "      <td>dbdac18a8ee5a8a48238b9685c96e90a_T</td>\n",
              "      <td>[0.0173654296, -0.0533204265, -0.0123991454, 0...</td>\n",
              "      <td>Watches</td>\n",
              "      <td>Wrist Watches</td>\n",
              "      <td>Timewel Wrist Watches</td>\n",
              "      <td>None</td>\n",
              "    </tr>\n",
              "    <tr>\n",
              "      <th>1</th>\n",
              "      <td>8a771d8dfa97d06278038945dfe6b936_T</td>\n",
              "      <td>[0.0395723879, -0.046936553, -0.0225308761, 0....</td>\n",
              "      <td>Watches</td>\n",
              "      <td>Wrist Watches</td>\n",
              "      <td>Chappin &amp; Nellson Wrist Watches</td>\n",
              "      <td>None</td>\n",
              "    </tr>\n",
              "    <tr>\n",
              "      <th>2</th>\n",
              "      <td>894904e26516d491bf1c7711fe800e78_T</td>\n",
              "      <td>[0.0234976951, -0.0287721325, -0.00390096451, ...</td>\n",
              "      <td>Watches</td>\n",
              "      <td>Wrist Watches</td>\n",
              "      <td>Only Kidz Wrist Watches</td>\n",
              "      <td>None</td>\n",
              "    </tr>\n",
              "    <tr>\n",
              "      <th>3</th>\n",
              "      <td>138f8455457c6cf87a0b94e132c485a8_T</td>\n",
              "      <td>[0.0199023429, -0.0493029393, -0.0240550581, 0...</td>\n",
              "      <td>Watches</td>\n",
              "      <td>Wrist Watches</td>\n",
              "      <td>Gift Island Wrist Watches</td>\n",
              "      <td>None</td>\n",
              "    </tr>\n",
              "    <tr>\n",
              "      <th>4</th>\n",
              "      <td>7c973b8fb2069b2142aea3473b70c213_T</td>\n",
              "      <td>[0.00237481017, -0.0487776175, 0.0100880247, 0...</td>\n",
              "      <td>Watches</td>\n",
              "      <td>Watch Accessories</td>\n",
              "      <td>Wrist Bands</td>\n",
              "      <td>Sakhi Styles Wrist Bands</td>\n",
              "    </tr>\n",
              "    <tr>\n",
              "      <th>5</th>\n",
              "      <td>81d73f4a7add96d46146ac4e192aad92_T</td>\n",
              "      <td>[0.00450034346, -0.0472053625, 0.0043839491, -...</td>\n",
              "      <td>Clothing</td>\n",
              "      <td>Kids' Clothing</td>\n",
              "      <td>Girls Wear</td>\n",
              "      <td>Innerwear &amp; Sleepwear</td>\n",
              "    </tr>\n",
              "    <tr>\n",
              "      <th>6</th>\n",
              "      <td>140225e6d36138c0c79f4b97d42456bd_T</td>\n",
              "      <td>[-0.0411048084, -0.0358454958, 0.0511916205, 0...</td>\n",
              "      <td>Clothing</td>\n",
              "      <td>Men's Clothing</td>\n",
              "      <td>T-Shirts</td>\n",
              "      <td>Ocean Race T-Shirts</td>\n",
              "    </tr>\n",
              "    <tr>\n",
              "      <th>7</th>\n",
              "      <td>9ac56e95bf79b7a4268387b4c8efdd52_T</td>\n",
              "      <td>[0.00935253594, -0.0527491495, 0.0230338033, 0...</td>\n",
              "      <td>Clothing</td>\n",
              "      <td>Men's Clothing</td>\n",
              "      <td>T-Shirts</td>\n",
              "      <td>Nimya T-Shirts</td>\n",
              "    </tr>\n",
              "    <tr>\n",
              "      <th>8</th>\n",
              "      <td>35c289ac8c50c49fae6d06e37ce34d42_T</td>\n",
              "      <td>[-0.0280462336, -0.0645570904, 0.0218884815, 0...</td>\n",
              "      <td>Clothing</td>\n",
              "      <td>Men's Clothing</td>\n",
              "      <td>Shirts</td>\n",
              "      <td>Casual &amp; Party Wear Shirts</td>\n",
              "    </tr>\n",
              "    <tr>\n",
              "      <th>9</th>\n",
              "      <td>fef6a5aa8c590c8029bbc11903cbd554_T</td>\n",
              "      <td>[0.0218668692, -0.0588314161, 0.00145428523, 0...</td>\n",
              "      <td>Clothing</td>\n",
              "      <td>Men's Clothing</td>\n",
              "      <td>T-Shirts</td>\n",
              "      <td>Nimya T-Shirts</td>\n",
              "    </tr>\n",
              "    <tr>\n",
              "      <th>10</th>\n",
              "      <td>dbdac18a8ee5a8a48238b9685c96e90a_I</td>\n",
              "      <td>[0.00376954675, 0.0619891584, -0.0349791907, 0...</td>\n",
              "      <td>Watches</td>\n",
              "      <td>Wrist Watches</td>\n",
              "      <td>Timewel Wrist Watches</td>\n",
              "      <td>None</td>\n",
              "    </tr>\n",
              "    <tr>\n",
              "      <th>11</th>\n",
              "      <td>8a771d8dfa97d06278038945dfe6b936_I</td>\n",
              "      <td>[-0.0022665204, 0.0369679928, -0.00598961441, ...</td>\n",
              "      <td>Watches</td>\n",
              "      <td>Wrist Watches</td>\n",
              "      <td>Chappin &amp; Nellson Wrist Watches</td>\n",
              "      <td>None</td>\n",
              "    </tr>\n",
              "    <tr>\n",
              "      <th>12</th>\n",
              "      <td>894904e26516d491bf1c7711fe800e78_I</td>\n",
              "      <td>[0.0150629, 0.039315924, -0.0305093117, -0.008...</td>\n",
              "      <td>Watches</td>\n",
              "      <td>Wrist Watches</td>\n",
              "      <td>Only Kidz Wrist Watches</td>\n",
              "      <td>None</td>\n",
              "    </tr>\n",
              "    <tr>\n",
              "      <th>13</th>\n",
              "      <td>138f8455457c6cf87a0b94e132c485a8_I</td>\n",
              "      <td>[0.0141698951, 0.038551461, -0.00148873532, 0....</td>\n",
              "      <td>Watches</td>\n",
              "      <td>Wrist Watches</td>\n",
              "      <td>Gift Island Wrist Watches</td>\n",
              "      <td>None</td>\n",
              "    </tr>\n",
              "    <tr>\n",
              "      <th>14</th>\n",
              "      <td>7c973b8fb2069b2142aea3473b70c213_I</td>\n",
              "      <td>[0.00239414768, 0.0396352187, -0.0179609824, 0...</td>\n",
              "      <td>Watches</td>\n",
              "      <td>Watch Accessories</td>\n",
              "      <td>Wrist Bands</td>\n",
              "      <td>Sakhi Styles Wrist Bands</td>\n",
              "    </tr>\n",
              "    <tr>\n",
              "      <th>15</th>\n",
              "      <td>81d73f4a7add96d46146ac4e192aad92_I</td>\n",
              "      <td>[-0.00174892042, 0.0376691744, 0.0117004327, -...</td>\n",
              "      <td>Clothing</td>\n",
              "      <td>Kids' Clothing</td>\n",
              "      <td>Girls Wear</td>\n",
              "      <td>Innerwear &amp; Sleepwear</td>\n",
              "    </tr>\n",
              "    <tr>\n",
              "      <th>16</th>\n",
              "      <td>140225e6d36138c0c79f4b97d42456bd_I</td>\n",
              "      <td>[-0.0192725249, 0.056868352, 0.00923451874, 0....</td>\n",
              "      <td>Clothing</td>\n",
              "      <td>Men's Clothing</td>\n",
              "      <td>T-Shirts</td>\n",
              "      <td>Ocean Race T-Shirts</td>\n",
              "    </tr>\n",
              "    <tr>\n",
              "      <th>17</th>\n",
              "      <td>9ac56e95bf79b7a4268387b4c8efdd52_I</td>\n",
              "      <td>[-0.0240949336, 0.0436989069, 0.005841251, 0.0...</td>\n",
              "      <td>Clothing</td>\n",
              "      <td>Men's Clothing</td>\n",
              "      <td>T-Shirts</td>\n",
              "      <td>Nimya T-Shirts</td>\n",
              "    </tr>\n",
              "    <tr>\n",
              "      <th>18</th>\n",
              "      <td>35c289ac8c50c49fae6d06e37ce34d42_I</td>\n",
              "      <td>[-0.0463853031, 0.0571603179, 0.0243946426, 0....</td>\n",
              "      <td>Clothing</td>\n",
              "      <td>Men's Clothing</td>\n",
              "      <td>Shirts</td>\n",
              "      <td>Casual &amp; Party Wear Shirts</td>\n",
              "    </tr>\n",
              "    <tr>\n",
              "      <th>19</th>\n",
              "      <td>fef6a5aa8c590c8029bbc11903cbd554_I</td>\n",
              "      <td>[-0.027610451, 0.053207282, -0.0176955871, 0.0...</td>\n",
              "      <td>Clothing</td>\n",
              "      <td>Men's Clothing</td>\n",
              "      <td>T-Shirts</td>\n",
              "      <td>Nimya T-Shirts</td>\n",
              "    </tr>\n",
              "  </tbody>\n",
              "</table>\n",
              "</div>\n",
              "    <div class=\"colab-df-buttons\">\n",
              "\n",
              "  <div class=\"colab-df-container\">\n",
              "    <button class=\"colab-df-convert\" onclick=\"convertToInteractive('df-e44f9f00-6bac-4346-9991-cf7bbd5f711b')\"\n",
              "            title=\"Convert this dataframe to an interactive table.\"\n",
              "            style=\"display:none;\">\n",
              "\n",
              "  <svg xmlns=\"http://www.w3.org/2000/svg\" height=\"24px\" viewBox=\"0 -960 960 960\">\n",
              "    <path d=\"M120-120v-720h720v720H120Zm60-500h600v-160H180v160Zm220 220h160v-160H400v160Zm0 220h160v-160H400v160ZM180-400h160v-160H180v160Zm440 0h160v-160H620v160ZM180-180h160v-160H180v160Zm440 0h160v-160H620v160Z\"/>\n",
              "  </svg>\n",
              "    </button>\n",
              "\n",
              "  <style>\n",
              "    .colab-df-container {\n",
              "      display:flex;\n",
              "      gap: 12px;\n",
              "    }\n",
              "\n",
              "    .colab-df-convert {\n",
              "      background-color: #E8F0FE;\n",
              "      border: none;\n",
              "      border-radius: 50%;\n",
              "      cursor: pointer;\n",
              "      display: none;\n",
              "      fill: #1967D2;\n",
              "      height: 32px;\n",
              "      padding: 0 0 0 0;\n",
              "      width: 32px;\n",
              "    }\n",
              "\n",
              "    .colab-df-convert:hover {\n",
              "      background-color: #E2EBFA;\n",
              "      box-shadow: 0px 1px 2px rgba(60, 64, 67, 0.3), 0px 1px 3px 1px rgba(60, 64, 67, 0.15);\n",
              "      fill: #174EA6;\n",
              "    }\n",
              "\n",
              "    .colab-df-buttons div {\n",
              "      margin-bottom: 4px;\n",
              "    }\n",
              "\n",
              "    [theme=dark] .colab-df-convert {\n",
              "      background-color: #3B4455;\n",
              "      fill: #D2E3FC;\n",
              "    }\n",
              "\n",
              "    [theme=dark] .colab-df-convert:hover {\n",
              "      background-color: #434B5C;\n",
              "      box-shadow: 0px 1px 3px 1px rgba(0, 0, 0, 0.15);\n",
              "      filter: drop-shadow(0px 1px 2px rgba(0, 0, 0, 0.3));\n",
              "      fill: #FFFFFF;\n",
              "    }\n",
              "  </style>\n",
              "\n",
              "    <script>\n",
              "      const buttonEl =\n",
              "        document.querySelector('#df-e44f9f00-6bac-4346-9991-cf7bbd5f711b button.colab-df-convert');\n",
              "      buttonEl.style.display =\n",
              "        google.colab.kernel.accessAllowed ? 'block' : 'none';\n",
              "\n",
              "      async function convertToInteractive(key) {\n",
              "        const element = document.querySelector('#df-e44f9f00-6bac-4346-9991-cf7bbd5f711b');\n",
              "        const dataTable =\n",
              "          await google.colab.kernel.invokeFunction('convertToInteractive',\n",
              "                                                    [key], {});\n",
              "        if (!dataTable) return;\n",
              "\n",
              "        const docLinkHtml = 'Like what you see? Visit the ' +\n",
              "          '<a target=\"_blank\" href=https://colab.research.google.com/notebooks/data_table.ipynb>data table notebook</a>'\n",
              "          + ' to learn more about interactive tables.';\n",
              "        element.innerHTML = '';\n",
              "        dataTable['output_type'] = 'display_data';\n",
              "        await google.colab.output.renderOutput(dataTable, element);\n",
              "        const docLink = document.createElement('div');\n",
              "        docLink.innerHTML = docLinkHtml;\n",
              "        element.appendChild(docLink);\n",
              "      }\n",
              "    </script>\n",
              "  </div>\n",
              "\n",
              "\n",
              "<div id=\"df-7d81aa24-719f-49d5-86aa-62ecfedce4ba\">\n",
              "  <button class=\"colab-df-quickchart\" onclick=\"quickchart('df-7d81aa24-719f-49d5-86aa-62ecfedce4ba')\"\n",
              "            title=\"Suggest charts\"\n",
              "            style=\"display:none;\">\n",
              "\n",
              "<svg xmlns=\"http://www.w3.org/2000/svg\" height=\"24px\"viewBox=\"0 0 24 24\"\n",
              "     width=\"24px\">\n",
              "    <g>\n",
              "        <path d=\"M19 3H5c-1.1 0-2 .9-2 2v14c0 1.1.9 2 2 2h14c1.1 0 2-.9 2-2V5c0-1.1-.9-2-2-2zM9 17H7v-7h2v7zm4 0h-2V7h2v10zm4 0h-2v-4h2v4z\"/>\n",
              "    </g>\n",
              "</svg>\n",
              "  </button>\n",
              "\n",
              "<style>\n",
              "  .colab-df-quickchart {\n",
              "      --bg-color: #E8F0FE;\n",
              "      --fill-color: #1967D2;\n",
              "      --hover-bg-color: #E2EBFA;\n",
              "      --hover-fill-color: #174EA6;\n",
              "      --disabled-fill-color: #AAA;\n",
              "      --disabled-bg-color: #DDD;\n",
              "  }\n",
              "\n",
              "  [theme=dark] .colab-df-quickchart {\n",
              "      --bg-color: #3B4455;\n",
              "      --fill-color: #D2E3FC;\n",
              "      --hover-bg-color: #434B5C;\n",
              "      --hover-fill-color: #FFFFFF;\n",
              "      --disabled-bg-color: #3B4455;\n",
              "      --disabled-fill-color: #666;\n",
              "  }\n",
              "\n",
              "  .colab-df-quickchart {\n",
              "    background-color: var(--bg-color);\n",
              "    border: none;\n",
              "    border-radius: 50%;\n",
              "    cursor: pointer;\n",
              "    display: none;\n",
              "    fill: var(--fill-color);\n",
              "    height: 32px;\n",
              "    padding: 0;\n",
              "    width: 32px;\n",
              "  }\n",
              "\n",
              "  .colab-df-quickchart:hover {\n",
              "    background-color: var(--hover-bg-color);\n",
              "    box-shadow: 0 1px 2px rgba(60, 64, 67, 0.3), 0 1px 3px 1px rgba(60, 64, 67, 0.15);\n",
              "    fill: var(--button-hover-fill-color);\n",
              "  }\n",
              "\n",
              "  .colab-df-quickchart-complete:disabled,\n",
              "  .colab-df-quickchart-complete:disabled:hover {\n",
              "    background-color: var(--disabled-bg-color);\n",
              "    fill: var(--disabled-fill-color);\n",
              "    box-shadow: none;\n",
              "  }\n",
              "\n",
              "  .colab-df-spinner {\n",
              "    border: 2px solid var(--fill-color);\n",
              "    border-color: transparent;\n",
              "    border-bottom-color: var(--fill-color);\n",
              "    animation:\n",
              "      spin 1s steps(1) infinite;\n",
              "  }\n",
              "\n",
              "  @keyframes spin {\n",
              "    0% {\n",
              "      border-color: transparent;\n",
              "      border-bottom-color: var(--fill-color);\n",
              "      border-left-color: var(--fill-color);\n",
              "    }\n",
              "    20% {\n",
              "      border-color: transparent;\n",
              "      border-left-color: var(--fill-color);\n",
              "      border-top-color: var(--fill-color);\n",
              "    }\n",
              "    30% {\n",
              "      border-color: transparent;\n",
              "      border-left-color: var(--fill-color);\n",
              "      border-top-color: var(--fill-color);\n",
              "      border-right-color: var(--fill-color);\n",
              "    }\n",
              "    40% {\n",
              "      border-color: transparent;\n",
              "      border-right-color: var(--fill-color);\n",
              "      border-top-color: var(--fill-color);\n",
              "    }\n",
              "    60% {\n",
              "      border-color: transparent;\n",
              "      border-right-color: var(--fill-color);\n",
              "    }\n",
              "    80% {\n",
              "      border-color: transparent;\n",
              "      border-right-color: var(--fill-color);\n",
              "      border-bottom-color: var(--fill-color);\n",
              "    }\n",
              "    90% {\n",
              "      border-color: transparent;\n",
              "      border-bottom-color: var(--fill-color);\n",
              "    }\n",
              "  }\n",
              "</style>\n",
              "\n",
              "  <script>\n",
              "    async function quickchart(key) {\n",
              "      const quickchartButtonEl =\n",
              "        document.querySelector('#' + key + ' button');\n",
              "      quickchartButtonEl.disabled = true;  // To prevent multiple clicks.\n",
              "      quickchartButtonEl.classList.add('colab-df-spinner');\n",
              "      try {\n",
              "        const charts = await google.colab.kernel.invokeFunction(\n",
              "            'suggestCharts', [key], {});\n",
              "      } catch (error) {\n",
              "        console.error('Error during call to suggestCharts:', error);\n",
              "      }\n",
              "      quickchartButtonEl.classList.remove('colab-df-spinner');\n",
              "      quickchartButtonEl.classList.add('colab-df-quickchart-complete');\n",
              "    }\n",
              "    (() => {\n",
              "      let quickchartButtonEl =\n",
              "        document.querySelector('#df-7d81aa24-719f-49d5-86aa-62ecfedce4ba button');\n",
              "      quickchartButtonEl.style.display =\n",
              "        google.colab.kernel.accessAllowed ? 'block' : 'none';\n",
              "    })();\n",
              "  </script>\n",
              "</div>\n",
              "\n",
              "  <div id=\"id_811c2400-34e7-4169-b0ee-00c601ffdd66\">\n",
              "    <style>\n",
              "      .colab-df-generate {\n",
              "        background-color: #E8F0FE;\n",
              "        border: none;\n",
              "        border-radius: 50%;\n",
              "        cursor: pointer;\n",
              "        display: none;\n",
              "        fill: #1967D2;\n",
              "        height: 32px;\n",
              "        padding: 0 0 0 0;\n",
              "        width: 32px;\n",
              "      }\n",
              "\n",
              "      .colab-df-generate:hover {\n",
              "        background-color: #E2EBFA;\n",
              "        box-shadow: 0px 1px 2px rgba(60, 64, 67, 0.3), 0px 1px 3px 1px rgba(60, 64, 67, 0.15);\n",
              "        fill: #174EA6;\n",
              "      }\n",
              "\n",
              "      [theme=dark] .colab-df-generate {\n",
              "        background-color: #3B4455;\n",
              "        fill: #D2E3FC;\n",
              "      }\n",
              "\n",
              "      [theme=dark] .colab-df-generate:hover {\n",
              "        background-color: #434B5C;\n",
              "        box-shadow: 0px 1px 3px 1px rgba(0, 0, 0, 0.15);\n",
              "        filter: drop-shadow(0px 1px 2px rgba(0, 0, 0, 0.3));\n",
              "        fill: #FFFFFF;\n",
              "      }\n",
              "    </style>\n",
              "    <button class=\"colab-df-generate\" onclick=\"generateWithVariable('df')\"\n",
              "            title=\"Generate code using this dataframe.\"\n",
              "            style=\"display:none;\">\n",
              "\n",
              "  <svg xmlns=\"http://www.w3.org/2000/svg\" height=\"24px\"viewBox=\"0 0 24 24\"\n",
              "       width=\"24px\">\n",
              "    <path d=\"M7,19H8.4L18.45,9,17,7.55,7,17.6ZM5,21V16.75L18.45,3.32a2,2,0,0,1,2.83,0l1.4,1.43a1.91,1.91,0,0,1,.58,1.4,1.91,1.91,0,0,1-.58,1.4L9.25,21ZM18.45,9,17,7.55Zm-12,3A5.31,5.31,0,0,0,4.9,8.1,5.31,5.31,0,0,0,1,6.5,5.31,5.31,0,0,0,4.9,4.9,5.31,5.31,0,0,0,6.5,1,5.31,5.31,0,0,0,8.1,4.9,5.31,5.31,0,0,0,12,6.5,5.46,5.46,0,0,0,6.5,12Z\"/>\n",
              "  </svg>\n",
              "    </button>\n",
              "    <script>\n",
              "      (() => {\n",
              "      const buttonEl =\n",
              "        document.querySelector('#id_811c2400-34e7-4169-b0ee-00c601ffdd66 button.colab-df-generate');\n",
              "      buttonEl.style.display =\n",
              "        google.colab.kernel.accessAllowed ? 'block' : 'none';\n",
              "\n",
              "      buttonEl.onclick = () => {\n",
              "        google.colab.notebook.generateWithVariable('df');\n",
              "      }\n",
              "      })();\n",
              "    </script>\n",
              "  </div>\n",
              "\n",
              "    </div>\n",
              "  </div>\n"
            ],
            "application/vnd.google.colaboratory.intrinsic+json": {
              "type": "dataframe",
              "variable_name": "df"
            }
          },
          "metadata": {},
          "execution_count": 29
        }
      ]
    },
    {
      "cell_type": "markdown",
      "source": [
        "Insert DataPoint"
      ],
      "metadata": {
        "id": "CFkaruLwuPH6"
      }
    },
    {
      "cell_type": "code",
      "source": [
        "dp1_id = df['id'][0]\n",
        "dp1_embedding = df['embedding'][0]\n",
        "dp1_cat = df['L0'][0]\n",
        "\n",
        "insert_datapoints_payload = aiplatform_v1.IndexDatapoint(\n",
        "    datapoint_id=dp1_id,\n",
        "    feature_vector=dp1_embedding,\n",
        "    #restricts=[{\"namespace\": \"L0\", \"allow_list\": [dp1_cat]}],\n",
        ")\n",
        "\n",
        "upsert_request = aiplatform_v1.UpsertDatapointsRequest(\n",
        "    index='projects/411826505131/locations/us-central1/indexes/3849667285773975552', datapoints=[insert_datapoints_payload]\n",
        ")\n",
        "\n",
        "index_client.upsert_datapoints(request=upsert_request)\n"
      ],
      "metadata": {
        "colab": {
          "base_uri": "https://localhost:8080/"
        },
        "id": "eZ0VQyjxuL6Q",
        "outputId": "5d66866b-e583-4bfc-f1b4-f3fec7c69ad5"
      },
      "execution_count": 40,
      "outputs": [
        {
          "output_type": "execute_result",
          "data": {
            "text/plain": []
          },
          "metadata": {},
          "execution_count": 40
        }
      ]
    },
    {
      "cell_type": "markdown",
      "source": [
        "Delete DataPoints"
      ],
      "metadata": {
        "id": "ycAiEJ7U1BCE"
      }
    },
    {
      "cell_type": "code",
      "source": [
        "remove_request = aiplatform_v1.RemoveDatapointsRequest(\n",
        "    index='projects/411826505131/locations/us-central1/indexes/3849667285773975552', datapoint_ids=[dp1_id]\n",
        ")\n",
        "\n",
        "index_client.remove_datapoints(request=remove_request)"
      ],
      "metadata": {
        "colab": {
          "base_uri": "https://localhost:8080/"
        },
        "id": "MFnRWqKb025l",
        "outputId": "974a576f-889a-439c-fdb4-04a8d607b444"
      },
      "execution_count": 39,
      "outputs": [
        {
          "output_type": "execute_result",
          "data": {
            "text/plain": []
          },
          "metadata": {},
          "execution_count": 39
        }
      ]
    }
  ]
}