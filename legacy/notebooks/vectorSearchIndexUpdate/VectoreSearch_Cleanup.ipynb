{
  "nbformat": 4,
  "nbformat_minor": 0,
  "metadata": {
    "colab": {
      "provenance": [],
      "toc_visible": true
    },
    "kernelspec": {
      "name": "python3",
      "display_name": "Python 3"
    },
    "language_info": {
      "name": "python"
    }
  },
  "cells": [
    {
      "cell_type": "markdown",
      "source": [
        "# Objective\n",
        "\n",
        "Undeploy & Delete unused Vertex AI Vector Search Indexes."
      ],
      "metadata": {
        "id": "acF95c6Q0SFE"
      }
    },
    {
      "cell_type": "markdown",
      "source": [
        "# Authenticate"
      ],
      "metadata": {
        "id": "rTapiD340ngf"
      }
    },
    {
      "cell_type": "code",
      "source": [
        "import sys\n",
        "\n",
        "if 'google.colab' in sys.modules:\n",
        "    from google.colab import auth as google_auth\n",
        "    google_auth.authenticate_user()"
      ],
      "metadata": {
        "id": "UVl_Jl_o0mVD"
      },
      "execution_count": null,
      "outputs": []
    },
    {
      "cell_type": "code",
      "source": [
        "PROJECT_ID = 'solutions-2023-mar-107' # @param {type:\"string\"}\n",
        "REGION = 'us-central1' # @param {type:\"string\"}"
      ],
      "metadata": {
        "id": "kuVF-qOw0x7L"
      },
      "execution_count": null,
      "outputs": []
    },
    {
      "cell_type": "code",
      "source": [
        "!gcloud config set project {PROJECT_ID} --quiet\n",
        "!gcloud config set ai_platform/region {REGION} --quiet"
      ],
      "metadata": {
        "colab": {
          "base_uri": "https://localhost:8080/"
        },
        "id": "dDTUN6xN-zIL",
        "outputId": "a16cc4f7-bd91-4547-b2f1-a48bcdd0941e"
      },
      "execution_count": null,
      "outputs": [
        {
          "output_type": "stream",
          "name": "stdout",
          "text": [
            "Updated property [core/project].\n",
            "Updated property [ai_platform/region].\n"
          ]
        }
      ]
    },
    {
      "cell_type": "markdown",
      "source": [
        "# List IndexEndpoint"
      ],
      "metadata": {
        "id": "Ean245cSzY6G"
      }
    },
    {
      "cell_type": "markdown",
      "source": [
        "To list your IndexEndpoint resources and view the information of any associated DeployedIndex instances, run the following code:"
      ],
      "metadata": {
        "id": "uuQesduM1IY_"
      }
    },
    {
      "cell_type": "code",
      "source": [
        "!gcloud ai index-endpoints list \\\n",
        "  --project=$PROJECT_ID \\\n",
        "  --region=$REGION"
      ],
      "metadata": {
        "colab": {
          "base_uri": "https://localhost:8080/"
        },
        "id": "QgW5uDGyzbh0",
        "outputId": "2d104122-1691-4942-d595-7c0a97993e64"
      },
      "execution_count": null,
      "outputs": [
        {
          "output_type": "stream",
          "name": "stdout",
          "text": [
            "Using endpoint [https://us-central1-aiplatform.googleapis.com/]\n",
            "---\n",
            "createTime: '2023-12-15T16:26:31.062089Z'\n",
            "deployedIndexes:\n",
            "- automaticResources:\n",
            "    maxReplicaCount: 2\n",
            "    minReplicaCount: 2\n",
            "  createTime: '2023-12-15T16:49:38.097032Z'\n",
            "  deploymentGroup: default\n",
            "  displayName: stream_update_flipkart_deployed_with_vpc\n",
            "  id: stream_update_flipkart_deployed_with_vpc\n",
            "  index: projects/411826505131/locations/us-central1/indexes/7375563581540007936\n",
            "  indexSyncTime: '2023-12-18T07:33:58.324599Z'\n",
            "  privateEndpoints:\n",
            "    matchGrpcAddress: 10.11.0.5\n",
            "displayName: streaming_index_endpoint_for_flipkart_with_vpc\n",
            "encryptionSpec: {}\n",
            "etag: AMEw9yN9HrkiKXOgSep_LgeOE0JAhTbG4W1PZN7PyxjcbbXkvw1XvRmtSgRVQ7Clb4v1\n",
            "name: projects/411826505131/locations/us-central1/indexEndpoints/8236314060321193984\n",
            "network: projects/411826505131/global/networks/flipkart-vpc-network\n",
            "updateTime: '2023-12-15T16:26:31.995629Z'\n",
            "---\n",
            "createTime: '2023-12-13T14:25:17.614452Z'\n",
            "description: Endpoint on flipkart\n",
            "displayName: flipkart_batch\n",
            "encryptionSpec: {}\n",
            "etag: AMEw9yOyfi5wEc8lz3xptMF1CXQeNWYtg23Ok6l0QoQKMu3wHaTR6eWWICEoKfnQ0wZ3\n",
            "name: projects/411826505131/locations/us-central1/indexEndpoints/8155249267028525056\n",
            "publicEndpointDomainName: 790668144.us-central1-411826505131.vdb.vertexai.goog\n",
            "updateTime: '2023-12-13T14:25:18.592097Z'\n",
            "---\n",
            "createTime: '2023-12-08T10:20:13.996148Z'\n",
            "deployedIndexes:\n",
            "- createTime: '2023-12-08T10:24:03.327365Z'\n",
            "  dedicatedResources:\n",
            "    machineSpec:\n",
            "      machineType: e2-standard-16\n",
            "    maxReplicaCount: 2\n",
            "    minReplicaCount: 2\n",
            "  deploymentGroup: default\n",
            "  displayName: flipkart_streaming_filtering_endpoint\n",
            "  id: flipkart_streaming_filteri_1702030773989\n",
            "  index: projects/411826505131/locations/us-central1/indexes/6070927064486117376\n",
            "  indexSyncTime: '2023-12-18T07:33:19.258288Z'\n",
            "displayName: flipkart_streaming_filtering_endpoint\n",
            "encryptionSpec: {}\n",
            "etag: AMEw9yNk6BIt0nnH-ppRDsedSVvc0ZStseSpcrqAuS0ZEVMVH399eTOzbr_0ZZQs3qK4\n",
            "name: projects/411826505131/locations/us-central1/indexEndpoints/1641918305943945216\n",
            "publicEndpointDomainName: 216080913.us-central1-411826505131.vdb.vertexai.goog\n",
            "updateTime: '2023-12-08T10:20:15.705275Z'\n",
            "---\n",
            "createTime: '2023-11-29T16:10:26.463182Z'\n",
            "deployedIndexes:\n",
            "- automaticResources:\n",
            "    maxReplicaCount: 2\n",
            "    minReplicaCount: 2\n",
            "  createTime: '2023-11-29T16:10:28.060348Z'\n",
            "  deploymentGroup: default\n",
            "  id: flipkart_batch_filtering\n",
            "  index: projects/411826505131/locations/us-central1/indexes/4261605914190020608\n",
            "  indexSyncTime: '2023-12-18T07:31:44.922502Z'\n",
            "description: Endpoint for flipkart_batch_filtering\n",
            "displayName: flipkart_batch_filtering_endpoint\n",
            "encryptionSpec: {}\n",
            "etag: AMEw9yMXUsWpZdu2nokNE0-jc4_MpYX3_1MdvzxGYVc-zfmGA-6oE51oaTwu0VeWiuJb\n",
            "name: projects/411826505131/locations/us-central1/indexEndpoints/4149015923505758208\n",
            "publicEndpointDomainName: 848885253.us-central1-411826505131.vdb.vertexai.goog\n",
            "updateTime: '2023-11-29T16:10:27.322062Z'\n",
            "---\n",
            "createTime: '2023-11-29T02:44:55.471217Z'\n",
            "deployedIndexes:\n",
            "- automaticResources:\n",
            "    maxReplicaCount: 2\n",
            "    minReplicaCount: 2\n",
            "  createTime: '2023-11-29T03:17:18.150044Z'\n",
            "  deploymentGroup: default\n",
            "  id: flipkart_multimodal_streaming\n",
            "  index: projects/411826505131/locations/us-central1/indexes/9179325601046069248\n",
            "  indexSyncTime: '2023-12-18T07:35:03.047428Z'\n",
            "description: Based on 18k flipkart product listings for which we have both a description\n",
            "  and image\n",
            "displayName: flipkart_multimodal_streaming_tree_cosine\n",
            "encryptionSpec: {}\n",
            "etag: AMEw9yOpPlcNsFlFQwq01bnOfkbyLwPNPJZkW_Y64tBJ8q_buxLuUNsVHuf2evWcefw=\n",
            "name: projects/411826505131/locations/us-central1/indexEndpoints/4967334049547812864\n",
            "publicEndpointDomainName: 1193755681.us-central1-411826505131.vdb.vertexai.goog\n",
            "updateTime: '2023-11-29T02:44:56.195478Z'\n",
            "---\n",
            "createTime: '2023-11-02T16:42:51.541917Z'\n",
            "description: Endpoint for Q4 development on Flipkart dataset\n",
            "displayName: flipkart_Q4\n",
            "encryptionSpec: {}\n",
            "etag: AMEw9yOkDb-wdKqXqdFtHEuFykbPLG7EQ3v0Oa3228V85I1ZgWDjtXntwZdc_aEW4NwN\n",
            "name: projects/411826505131/locations/us-central1/indexEndpoints/8518703830706159616\n",
            "publicEndpointDomainName: 59228168.us-central1-411826505131.vdb.vertexai.goog\n",
            "updateTime: '2023-11-02T16:42:52.356631Z'\n",
            "---\n",
            "createTime: '2023-11-02T08:24:25.517069Z'\n",
            "deployedIndexes:\n",
            "- automaticResources:\n",
            "    maxReplicaCount: 2\n",
            "    minReplicaCount: 2\n",
            "  createTime: '2023-11-02T08:25:39.758274Z'\n",
            "  deploymentGroup: default\n",
            "  id: flipkart_muiltimodal_18K\n",
            "  index: projects/411826505131/locations/us-central1/indexes/5316644495645736960\n",
            "  indexSyncTime: '2023-12-18T07:35:08.612715Z'\n",
            "description: Endpoint for Q4 development on Flipkart dataset\n",
            "displayName: flipkart_Q3\n",
            "encryptionSpec: {}\n",
            "etag: AMEw9yOcU_3P9GIpU79S9tinKhpcFv3DxVr5PsA0XSE5DV-IfowgVYvMT0XMg9NnRj4=\n",
            "name: projects/411826505131/locations/us-central1/indexEndpoints/5145507709805658112\n",
            "publicEndpointDomainName: 421978469.us-central1-411826505131.vdb.vertexai.goog\n",
            "updateTime: '2023-11-02T08:24:26.213626Z'\n",
            "---\n",
            "createTime: '2023-09-21T17:52:22.937141Z'\n",
            "deployedIndexes:\n",
            "- automaticResources:\n",
            "    maxReplicaCount: 2\n",
            "    minReplicaCount: 2\n",
            "  createTime: '2023-09-21T18:01:50.610357Z'\n",
            "  deploymentGroup: default\n",
            "  id: muiltimodal_13K_train\n",
            "  index: projects/411826505131/locations/us-central1/indexes/798535712835108864\n",
            "  indexSyncTime: '2023-12-18T07:34:39.034877Z'\n",
            "description: Endpoint for Q3 development on mercari\n",
            "displayName: mercari_Q3\n",
            "encryptionSpec: {}\n",
            "etag: AMEw9yOOTCekXRMjfTG3NyQrazu_6Fbfhe28H7CVvPFbsMeP7Q9SW7KmZ_pHcyxGfCoV\n",
            "name: projects/411826505131/locations/us-central1/indexEndpoints/8767655253467201536\n",
            "publicEndpointDomainName: 752804901.us-central1-411826505131.vdb.vertexai.goog\n",
            "updateTime: '2023-09-21T17:52:23.696366Z'\n",
            "---\n",
            "createTime: '2023-09-01T17:23:51.012426Z'\n",
            "deployedIndexes:\n",
            "- automaticResources:\n",
            "    maxReplicaCount: 2\n",
            "    minReplicaCount: 2\n",
            "  createTime: '2023-09-01T17:25:32.282432Z'\n",
            "  deploymentGroup: default\n",
            "  id: muiltimodal_13K\n",
            "  index: projects/411826505131/locations/us-central1/indexes/8073397223410368512\n",
            "  indexSyncTime: '2023-12-18T07:34:43.400701Z'\n",
            "description: Endpoint for Q3 development on mercari\n",
            "displayName: mercari_Q3\n",
            "encryptionSpec: {}\n",
            "etag: AMEw9yOxIl-aZTSHya7mKIlGnmeUhYWTHvwlIrAOipF-8d1nz_9wcVETe5qAE5zfdnIJ\n",
            "name: projects/411826505131/locations/us-central1/indexEndpoints/3917700667254243328\n",
            "publicEndpointDomainName: 186864686.us-central1-411826505131.vdb.vertexai.goog\n",
            "updateTime: '2023-09-01T17:23:51.669414Z'\n",
            "---\n",
            "createTime: '2023-07-15T19:01:35.643835Z'\n",
            "deployedIndexes:\n",
            "- createTime: '2023-07-15T19:02:36.020021Z'\n",
            "  dedicatedResources:\n",
            "    machineSpec:\n",
            "      machineType: e2-standard-2\n",
            "    maxReplicaCount: 10\n",
            "    minReplicaCount: 2\n",
            "  deploymentGroup: default\n",
            "  displayName: nfl_langchain_vectors_20230715190235\n",
            "  id: nfl_langchain_vectors_20230715190235\n",
            "  index: projects/411826505131/locations/us-central1/indexes/5478127569393942528\n",
            "  indexSyncTime: '2023-12-18T07:33:46.747605Z'\n",
            "displayName: nfl-langchain-vectors-endpoint\n",
            "encryptionSpec: {}\n",
            "etag: AMEw9yN74SdD90Q-fffKxxBwsdAN27Y7HXH0jPWpqnTeyIjdSK0VOwriCm75DBzBsx4v\n",
            "name: projects/411826505131/locations/us-central1/indexEndpoints/6291871727064449024\n",
            "publicEndpointDomainName: 681729851.us-central1-411826505131.vdb.vertexai.goog\n",
            "updateTime: '2023-07-15T19:01:36.445773Z'\n",
            "---\n",
            "createTime: '2023-06-28T01:15:26.171908Z'\n",
            "deployedIndexes:\n",
            "- automaticResources:\n",
            "    maxReplicaCount: 2\n",
            "    minReplicaCount: 2\n",
            "  createTime: '2023-06-28T01:18:20.355032Z'\n",
            "  deploymentGroup: default\n",
            "  displayName: nflpublic\n",
            "  id: nflpublic\n",
            "  index: projects/411826505131/locations/us-central1/indexes/542639774633033728\n",
            "  indexSyncTime: '2023-12-18T07:33:16.833064Z'\n",
            "displayName: nflpublic\n",
            "encryptionSpec: {}\n",
            "etag: AMEw9yOa-0ecyyi3uuNw0zyABb45xfBA02QdOYImpVi7baOMGBgF8pMklGL2sA30rnsz\n",
            "name: projects/411826505131/locations/us-central1/indexEndpoints/6608988472701091840\n",
            "publicEndpointDomainName: 2006714038.us-central1-411826505131.vdb.vertexai.goog\n",
            "updateTime: '2023-06-28T01:15:27.280106Z'\n",
            "---\n",
            "createTime: '2023-06-27T22:08:39.397149Z'\n",
            "deployedIndexes:\n",
            "- automaticResources:\n",
            "    maxReplicaCount: 2\n",
            "    minReplicaCount: 2\n",
            "  createTime: '2023-06-27T22:21:28.373400Z'\n",
            "  deploymentGroup: default\n",
            "  displayName: mecari_stream\n",
            "  id: mecari_stream\n",
            "  index: projects/411826505131/locations/us-central1/indexes/3876429398794043392\n",
            "  indexSyncTime: '2023-12-18T07:34:48.801653Z'\n",
            "displayName: index_endpoint_for_mecari_stream\n",
            "encryptionSpec: {}\n",
            "etag: AMEw9yORYTud6YSO-SGrGSi_2oY201EvnUeoWvMhCH5goN9eNajqcPOsb_EyBJd99AU=\n",
            "name: projects/411826505131/locations/us-central1/indexEndpoints/4652174434608611328\n",
            "publicEndpointDomainName: 1297530219.us-central1-411826505131.vdb.vertexai.goog\n",
            "updateTime: '2023-06-27T22:08:40.222549Z'\n",
            "---\n",
            "createTime: '2023-06-21T00:25:27.415656Z'\n",
            "deployedIndexes:\n",
            "- automaticResources:\n",
            "    maxReplicaCount: 2\n",
            "    minReplicaCount: 2\n",
            "  createTime: '2023-06-21T00:26:15.712235Z'\n",
            "  deploymentGroup: default\n",
            "  displayName: mecari1mm\n",
            "  id: mecari1mm\n",
            "  index: projects/411826505131/locations/us-central1/indexes/3625916669521559552\n",
            "  indexSyncTime: '2023-12-18T07:32:04.991854Z'\n",
            "displayName: mecari1mm\n",
            "encryptionSpec: {}\n",
            "etag: AMEw9yNVgm3NVNfi9ZAkZsJabqWKjvxqtPyve_W8R_RN0FztXQSCwkwZ7PoJ1u-E4xg=\n",
            "name: projects/411826505131/locations/us-central1/indexEndpoints/5135748444597518336\n",
            "publicEndpointDomainName: 1122704120.us-central1-411826505131.vdb.vertexai.goog\n",
            "updateTime: '2023-06-21T00:25:28.167187Z'\n",
            "---\n",
            "createTime: '2023-06-20T21:49:40.576504Z'\n",
            "deployedIndexes:\n",
            "- automaticResources:\n",
            "    maxReplicaCount: 2\n",
            "    minReplicaCount: 2\n",
            "  createTime: '2023-06-20T21:51:00.433795Z'\n",
            "  deploymentGroup: default\n",
            "  displayName: mecari2\n",
            "  id: mecari2\n",
            "  index: projects/411826505131/locations/us-central1/indexes/3743010259833192448\n",
            "  indexSyncTime: '2023-12-18T07:31:21.954487Z'\n",
            "displayName: mecari2\n",
            "encryptionSpec: {}\n",
            "etag: AMEw9yOCgDhShLvBMD5pfdGX2q5qg-H-WnHfHFjN4fd46KmBqOq7SCjInKhgCRia0uSJ\n",
            "name: projects/411826505131/locations/us-central1/indexEndpoints/5726845895689895936\n",
            "publicEndpointDomainName: 1681326733.us-central1-411826505131.vdb.vertexai.goog\n",
            "updateTime: '2023-06-20T21:49:41.278695Z'\n",
            "---\n",
            "createTime: '2023-06-20T19:57:04.598784Z'\n",
            "deployedIndexes:\n",
            "- automaticResources:\n",
            "    maxReplicaCount: 2\n",
            "    minReplicaCount: 2\n",
            "  createTime: '2023-06-20T19:58:13.243293Z'\n",
            "  deploymentGroup: default\n",
            "  displayName: mecari\n",
            "  id: mecari\n",
            "  index: projects/411826505131/locations/us-central1/indexes/1720894027143839744\n",
            "  indexSyncTime: '2023-12-18T07:32:53.600092Z'\n",
            "displayName: mecari\n",
            "encryptionSpec: {}\n",
            "etag: AMEw9yN7lVTjJU-ZcN5ecmy3c6iODcLqCtiEpQ09j7mNixvTR0Ttgz3VfPItoDdJvT7s\n",
            "name: projects/411826505131/locations/us-central1/indexEndpoints/8609149657207013376\n",
            "publicEndpointDomainName: 297840358.us-central1-411826505131.vdb.vertexai.goog\n",
            "updateTime: '2023-06-20T19:57:05.467462Z'\n",
            "---\n",
            "createTime: '2023-06-20T02:02:38.474125Z'\n",
            "deployedIndexes:\n",
            "- automaticResources:\n",
            "    maxReplicaCount: 2\n",
            "    minReplicaCount: 2\n",
            "  createTime: '2023-06-20T02:03:41.596884Z'\n",
            "  deploymentGroup: default\n",
            "  displayName: ecommercex\n",
            "  id: ecommercex\n",
            "  index: projects/411826505131/locations/us-central1/indexes/6278818325019492352\n",
            "  indexSyncTime: '2023-12-18T07:32:40.410659Z'\n",
            "displayName: gsecommercex\n",
            "etag: AMEw9yNlXp1K0Gt8dQLkFu6zyPICfRypT_QA5ix8VDCwc8FrjWrQlevfKT5wbUn7oOw=\n",
            "name: projects/411826505131/locations/us-central1/indexEndpoints/8471789868572213248\n",
            "publicEndpointDomainName: 1223588271.us-central1-411826505131.vdb.vertexai.goog\n",
            "updateTime: '2023-06-20T02:02:39.028096Z'\n"
          ]
        }
      ]
    },
    {
      "cell_type": "markdown",
      "source": [
        "### Note: You can't delete the Index until all its Index.deployed_indexes have been undeployed."
      ],
      "metadata": {
        "id": "1wTJoIrbzEyT"
      }
    },
    {
      "cell_type": "markdown",
      "source": [
        "# Undeploy Index"
      ],
      "metadata": {
        "id": "-aVaYTxEzwlb"
      }
    },
    {
      "cell_type": "markdown",
      "source": [
        "Replace the following:\n",
        "\n",
        "INDEX_ENDPOINT_ID: The ID of the index endpoint.\n",
        "\n",
        "\n",
        "DEPLOYED_INDEX_ID: A user specified string to uniquely identify the deployed index. It must start with a letter and contain only letters, numbers or underscores. See DeployedIndex.id for format guidelines.\n",
        "\n",
        "\n",
        "displayName: stream_update_flipkart_deployed_with_vpc\n",
        "\n",
        "id: stream_update_flipkart_deployed_with_vpc\n",
        "\n",
        "index: projects/411826505131/locations/us-central1/indexes/7375563581540007936\n",
        "\n",
        "name: projects/411826505131/locations/us-central1/indexEndpoints/8236314060321193984"
      ],
      "metadata": {
        "id": "F_zx1DAP5TXx"
      }
    },
    {
      "cell_type": "code",
      "source": [
        "INDEX_ENDPOINT_ID = '8236314060321193984' # @param {type:\"string\"}\n",
        "DEPLOYED_INDEX_ID = 'stream_update_flipkart_deployed_with_vpc' # @param {type:\"string\"}"
      ],
      "metadata": {
        "id": "uQC0mFLJ1ocV"
      },
      "execution_count": null,
      "outputs": []
    },
    {
      "cell_type": "code",
      "source": [
        "!gcloud ai index-endpoints undeploy-index $INDEX_ENDPOINT_ID \\\n",
        "  --deployed-index-id=$DEPLOYED_INDEX_ID \\\n",
        "  --project=$PROJECT_ID \\\n",
        "  --region=$REGION"
      ],
      "metadata": {
        "colab": {
          "base_uri": "https://localhost:8080/"
        },
        "id": "1JB_Z9Aezx76",
        "outputId": "1cba2611-7a57-4df1-e882-fb3f96e2a3f2"
      },
      "execution_count": null,
      "outputs": [
        {
          "output_type": "stream",
          "name": "stdout",
          "text": [
            "Using endpoint [https://us-central1-aiplatform.googleapis.com/]\n",
            "'@type': type.googleapis.com/google.cloud.aiplatform.v1.UndeployIndexResponse\n"
          ]
        }
      ]
    },
    {
      "cell_type": "markdown",
      "source": [
        "### Note: It takes 10 to 20 minutes for Google backend jobs to clean up the deployment. You can't reuse the DeployedIndex ID until after the deployment is cleaned up."
      ],
      "metadata": {
        "id": "c3-BlxeJ2OW8"
      }
    },
    {
      "cell_type": "markdown",
      "source": [
        "# Delete Index EndPoint"
      ],
      "metadata": {
        "id": "udc1udux5h_K"
      }
    },
    {
      "cell_type": "code",
      "source": [
        "!gcloud ai index-endpoints delete $INDEX_ENDPOINT_ID \\\n",
        "  --project=$PROJECT_ID \\\n",
        "  --region=$REGION \\\n",
        "  --quiet"
      ],
      "metadata": {
        "colab": {
          "base_uri": "https://localhost:8080/"
        },
        "id": "nZTaW5_B5pDA",
        "outputId": "1b024641-baa3-4ca8-bad3-ce2ea166bc4b"
      },
      "execution_count": null,
      "outputs": [
        {
          "output_type": "stream",
          "name": "stdout",
          "text": [
            "Using endpoint [https://us-central1-aiplatform.googleapis.com/]\n"
          ]
        }
      ]
    },
    {
      "cell_type": "markdown",
      "source": [
        "# Delete Index"
      ],
      "metadata": {
        "id": "7pfDsdi1zenJ"
      }
    },
    {
      "cell_type": "code",
      "source": [
        "INDEX_ID = '1900241965820149760' # @param {type:\"string\"}"
      ],
      "metadata": {
        "id": "uPJTpB1f116t"
      },
      "execution_count": null,
      "outputs": []
    },
    {
      "cell_type": "code",
      "execution_count": null,
      "metadata": {
        "colab": {
          "base_uri": "https://localhost:8080/"
        },
        "id": "nvbc8u3Py01g",
        "outputId": "21ab2283-1351-4c8f-84b4-ffb8469344b3"
      },
      "outputs": [
        {
          "output_type": "stream",
          "name": "stdout",
          "text": [
            "Using endpoint [https://us-central1-aiplatform.googleapis.com/]\n"
          ]
        }
      ],
      "source": [
        "!gcloud ai indexes delete $INDEX_ID \\\n",
        "  --project=$PROJECT_ID \\\n",
        "  --region=$REGION \\\n",
        "  --quiet"
      ]
    }
  ]
}