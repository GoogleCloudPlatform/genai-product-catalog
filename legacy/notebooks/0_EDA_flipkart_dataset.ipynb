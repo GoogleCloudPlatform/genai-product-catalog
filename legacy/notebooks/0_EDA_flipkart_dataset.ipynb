{
  "cells": [
    {
      "cell_type": "code",
      "execution_count": null,
      "metadata": {},
      "outputs": [],
      "source": [
        "# Copyright 2023 Google LLC\n",
        "#\n",
        "# Licensed under the Apache License, Version 2.0 (the \"License\");\n",
        "# you may not use this file except in compliance with the License.\n",
        "# You may obtain a copy of the License at\n",
        "#\n",
        "#     https://www.apache.org/licenses/LICENSE-2.0\n",
        "#\n",
        "# Unless required by applicable law or agreed to in writing, software\n",
        "# distributed under the License is distributed on an \"AS IS\" BASIS,\n",
        "# WITHOUT WARRANTIES OR CONDITIONS OF ANY KIND, either express or implied.\n",
        "# See the License for the specific language governing permissions and\n",
        "# limitations under the License."
      ]
    },
    {
      "cell_type": "markdown",
      "metadata": {},
      "source": [
        "# Overview\n",
        "\n",
        "This notebook explores the dataset we will use and does the needed data preprocessing.\n",
        "\n",
        "**Input:**\n",
        "\n",
        "[Kaggle Flipkart Product Catalog Dataset](https://www.kaggle.com/datasets/PromptCloudHQ/flipkart-products)\n",
        "\n",
        "This is a pre-crawled dataset of 20K products, taken as subset of a bigger dataset (more than 5.8 million products) that was created by extracting data from Flipkart.com, a leading Indian eCommerce store.\n",
        "\n",
        "**Output:**\n",
        "\n",
        "BigQuery table in a schema compatible for use in downstream notebooks."
      ]
    },
    {
      "cell_type": "markdown",
      "metadata": {},
      "source": [
        "# Setup"
      ]
    },
    {
      "cell_type": "markdown",
      "metadata": {},
      "source": [
        "### Install Dependencies (If Needed)\n",
        "\n",
        "The list `packages` contains tuples of package import names and install names. If the import name is not found then the install name is used to install quitely for the current user."
      ]
    },
    {
      "cell_type": "code",
      "execution_count": null,
      "metadata": {},
      "outputs": [],
      "source": [
        "# tuples of (import name, install name)\n",
        "packages = [\n",
        "    ('google.cloud.aiplatform', 'google-cloud-aiplatform'),\n",
        "    ('opendatasets','opendatasets'),\n",
        "    ('jsonpickle','jsonpickle'),\n",
        "]\n",
        "\n",
        "import importlib\n",
        "install = False\n",
        "for package in packages:\n",
        "    if not importlib.util.find_spec(package[0]):\n",
        "        print(f'installing package {package[1]}')\n",
        "        install = True\n",
        "        !pip install {package[1]} -U -q --user"
      ]
    },
    {
      "cell_type": "markdown",
      "metadata": {},
      "source": [
        "### Restart Kernel (If Installs Occured)\n",
        "\n",
        "After a kernel restart the code submission can start with the next cell after this one."
      ]
    },
    {
      "cell_type": "code",
      "execution_count": null,
      "metadata": {},
      "outputs": [],
      "source": [
        "if install:\n",
        "    import IPython\n",
        "    app = IPython.Application.instance()\n",
        "    app.kernel.do_shutdown(True)"
      ]
    },
    {
      "cell_type": "markdown",
      "metadata": {
        "id": "6TWzj1gblrbS"
      },
      "source": [
        "### Authenticate\n",
        "\n",
        "If you are using Colab, you will need to authenticate yourself first. The next cell will check if you are currently using Colab, and will start the authentication process."
      ]
    },
    {
      "cell_type": "code",
      "execution_count": 2,
      "metadata": {
        "id": "7i-ZEzXfDYz0"
      },
      "outputs": [],
      "source": [
        "import sys\n",
        "if 'google.colab' in sys.modules:\n",
        "    from google.colab import auth as google_auth\n",
        "    google_auth.authenticate_user()"
      ]
    },
    {
      "cell_type": "markdown",
      "metadata": {
        "id": "eYfQrGE9lGul"
      },
      "source": [
        "# Dataset\n",
        "\n",
        "[This](https://www.kaggle.com/datasets/PromptCloudHQ/flipkart-products) is a pre-crawled dataset, taken as subset of a bigger dataset (more than 5.8 million products) that was created by extracting data from [Flipkart](https://www.flipkart.com/), a leading Indian eCommerce store.\n",
        "\n",
        "Since this data is hosted on Kaggle you will need a Kaggle account to download it."
      ]
    },
    {
      "cell_type": "code",
      "execution_count": null,
      "metadata": {
        "id": "moISnRwvCEUd"
      },
      "outputs": [],
      "source": [
        "import opendatasets as od\n",
        "od.download(\"https://www.kaggle.com/datasets/PromptCloudHQ/flipkart-products/download\")"
      ]
    },
    {
      "cell_type": "code",
      "execution_count": 1,
      "metadata": {
        "colab": {
          "base_uri": "https://localhost:8080/",
          "height": 486
        },
        "id": "3QFeCMTq10V5",
        "outputId": "06a9d9c2-b9d2-465e-ca8a-f46c40565cda"
      },
      "outputs": [
        {
          "data": {
            "text/html": [
              "<div>\n",
              "<style scoped>\n",
              "    .dataframe tbody tr th:only-of-type {\n",
              "        vertical-align: middle;\n",
              "    }\n",
              "\n",
              "    .dataframe tbody tr th {\n",
              "        vertical-align: top;\n",
              "    }\n",
              "\n",
              "    .dataframe thead th {\n",
              "        text-align: right;\n",
              "    }\n",
              "</style>\n",
              "<table border=\"1\" class=\"dataframe\">\n",
              "  <thead>\n",
              "    <tr style=\"text-align: right;\">\n",
              "      <th></th>\n",
              "      <th>uniq_id</th>\n",
              "      <th>crawl_timestamp</th>\n",
              "      <th>product_url</th>\n",
              "      <th>product_name</th>\n",
              "      <th>product_category_tree</th>\n",
              "      <th>pid</th>\n",
              "      <th>retail_price</th>\n",
              "      <th>discounted_price</th>\n",
              "      <th>image</th>\n",
              "      <th>is_FK_Advantage_product</th>\n",
              "      <th>description</th>\n",
              "      <th>product_rating</th>\n",
              "      <th>overall_rating</th>\n",
              "      <th>brand</th>\n",
              "      <th>product_specifications</th>\n",
              "    </tr>\n",
              "  </thead>\n",
              "  <tbody>\n",
              "    <tr>\n",
              "      <th>0</th>\n",
              "      <td>c2d766ca982eca8304150849735ffef9</td>\n",
              "      <td>2016-03-25 22:59:23 +0000</td>\n",
              "      <td>http://www.flipkart.com/alisha-solid-women-s-c...</td>\n",
              "      <td>Alisha Solid Women's Cycling Shorts</td>\n",
              "      <td>[\"Clothing &gt;&gt; Women's Clothing &gt;&gt; Lingerie, Sl...</td>\n",
              "      <td>SRTEH2FF9KEDEFGF</td>\n",
              "      <td>999.0</td>\n",
              "      <td>379.0</td>\n",
              "      <td>[\"http://img5a.flixcart.com/image/short/u/4/a/...</td>\n",
              "      <td>False</td>\n",
              "      <td>Key Features of Alisha Solid Women's Cycling S...</td>\n",
              "      <td>No rating available</td>\n",
              "      <td>No rating available</td>\n",
              "      <td>Alisha</td>\n",
              "      <td>{\"product_specification\"=&gt;[{\"key\"=&gt;\"Number of ...</td>\n",
              "    </tr>\n",
              "    <tr>\n",
              "      <th>1</th>\n",
              "      <td>7f7036a6d550aaa89d34c77bd39a5e48</td>\n",
              "      <td>2016-03-25 22:59:23 +0000</td>\n",
              "      <td>http://www.flipkart.com/fabhomedecor-fabric-do...</td>\n",
              "      <td>FabHomeDecor Fabric Double Sofa Bed</td>\n",
              "      <td>[\"Furniture &gt;&gt; Living Room Furniture &gt;&gt; Sofa B...</td>\n",
              "      <td>SBEEH3QGU7MFYJFY</td>\n",
              "      <td>32157.0</td>\n",
              "      <td>22646.0</td>\n",
              "      <td>[\"http://img6a.flixcart.com/image/sofa-bed/j/f...</td>\n",
              "      <td>False</td>\n",
              "      <td>FabHomeDecor Fabric Double Sofa Bed (Finish Co...</td>\n",
              "      <td>No rating available</td>\n",
              "      <td>No rating available</td>\n",
              "      <td>FabHomeDecor</td>\n",
              "      <td>{\"product_specification\"=&gt;[{\"key\"=&gt;\"Installati...</td>\n",
              "    </tr>\n",
              "    <tr>\n",
              "      <th>2</th>\n",
              "      <td>f449ec65dcbc041b6ae5e6a32717d01b</td>\n",
              "      <td>2016-03-25 22:59:23 +0000</td>\n",
              "      <td>http://www.flipkart.com/aw-bellies/p/itmeh4grg...</td>\n",
              "      <td>AW Bellies</td>\n",
              "      <td>[\"Footwear &gt;&gt; Women's Footwear &gt;&gt; Ballerinas &gt;...</td>\n",
              "      <td>SHOEH4GRSUBJGZXE</td>\n",
              "      <td>999.0</td>\n",
              "      <td>499.0</td>\n",
              "      <td>[\"http://img5a.flixcart.com/image/shoe/7/z/z/r...</td>\n",
              "      <td>False</td>\n",
              "      <td>Key Features of AW Bellies Sandals Wedges Heel...</td>\n",
              "      <td>No rating available</td>\n",
              "      <td>No rating available</td>\n",
              "      <td>AW</td>\n",
              "      <td>{\"product_specification\"=&gt;[{\"key\"=&gt;\"Ideal For\"...</td>\n",
              "    </tr>\n",
              "    <tr>\n",
              "      <th>3</th>\n",
              "      <td>0973b37acd0c664e3de26e97e5571454</td>\n",
              "      <td>2016-03-25 22:59:23 +0000</td>\n",
              "      <td>http://www.flipkart.com/alisha-solid-women-s-c...</td>\n",
              "      <td>Alisha Solid Women's Cycling Shorts</td>\n",
              "      <td>[\"Clothing &gt;&gt; Women's Clothing &gt;&gt; Lingerie, Sl...</td>\n",
              "      <td>SRTEH2F6HUZMQ6SJ</td>\n",
              "      <td>699.0</td>\n",
              "      <td>267.0</td>\n",
              "      <td>[\"http://img5a.flixcart.com/image/short/6/2/h/...</td>\n",
              "      <td>False</td>\n",
              "      <td>Key Features of Alisha Solid Women's Cycling S...</td>\n",
              "      <td>No rating available</td>\n",
              "      <td>No rating available</td>\n",
              "      <td>Alisha</td>\n",
              "      <td>{\"product_specification\"=&gt;[{\"key\"=&gt;\"Number of ...</td>\n",
              "    </tr>\n",
              "    <tr>\n",
              "      <th>4</th>\n",
              "      <td>bc940ea42ee6bef5ac7cea3fb5cfbee7</td>\n",
              "      <td>2016-03-25 22:59:23 +0000</td>\n",
              "      <td>http://www.flipkart.com/sicons-all-purpose-arn...</td>\n",
              "      <td>Sicons All Purpose Arnica Dog Shampoo</td>\n",
              "      <td>[\"Pet Supplies &gt;&gt; Grooming &gt;&gt; Skin &amp; Coat Care...</td>\n",
              "      <td>PSOEH3ZYDMSYARJ5</td>\n",
              "      <td>220.0</td>\n",
              "      <td>210.0</td>\n",
              "      <td>[\"http://img5a.flixcart.com/image/pet-shampoo/...</td>\n",
              "      <td>False</td>\n",
              "      <td>Specifications of Sicons All Purpose Arnica Do...</td>\n",
              "      <td>No rating available</td>\n",
              "      <td>No rating available</td>\n",
              "      <td>Sicons</td>\n",
              "      <td>{\"product_specification\"=&gt;[{\"key\"=&gt;\"Pet Type\",...</td>\n",
              "    </tr>\n",
              "  </tbody>\n",
              "</table>\n",
              "</div>"
            ],
            "text/plain": [
              "                            uniq_id            crawl_timestamp  \\\n",
              "0  c2d766ca982eca8304150849735ffef9  2016-03-25 22:59:23 +0000   \n",
              "1  7f7036a6d550aaa89d34c77bd39a5e48  2016-03-25 22:59:23 +0000   \n",
              "2  f449ec65dcbc041b6ae5e6a32717d01b  2016-03-25 22:59:23 +0000   \n",
              "3  0973b37acd0c664e3de26e97e5571454  2016-03-25 22:59:23 +0000   \n",
              "4  bc940ea42ee6bef5ac7cea3fb5cfbee7  2016-03-25 22:59:23 +0000   \n",
              "\n",
              "                                         product_url  \\\n",
              "0  http://www.flipkart.com/alisha-solid-women-s-c...   \n",
              "1  http://www.flipkart.com/fabhomedecor-fabric-do...   \n",
              "2  http://www.flipkart.com/aw-bellies/p/itmeh4grg...   \n",
              "3  http://www.flipkart.com/alisha-solid-women-s-c...   \n",
              "4  http://www.flipkart.com/sicons-all-purpose-arn...   \n",
              "\n",
              "                            product_name  \\\n",
              "0    Alisha Solid Women's Cycling Shorts   \n",
              "1    FabHomeDecor Fabric Double Sofa Bed   \n",
              "2                             AW Bellies   \n",
              "3    Alisha Solid Women's Cycling Shorts   \n",
              "4  Sicons All Purpose Arnica Dog Shampoo   \n",
              "\n",
              "                               product_category_tree               pid  \\\n",
              "0  [\"Clothing >> Women's Clothing >> Lingerie, Sl...  SRTEH2FF9KEDEFGF   \n",
              "1  [\"Furniture >> Living Room Furniture >> Sofa B...  SBEEH3QGU7MFYJFY   \n",
              "2  [\"Footwear >> Women's Footwear >> Ballerinas >...  SHOEH4GRSUBJGZXE   \n",
              "3  [\"Clothing >> Women's Clothing >> Lingerie, Sl...  SRTEH2F6HUZMQ6SJ   \n",
              "4  [\"Pet Supplies >> Grooming >> Skin & Coat Care...  PSOEH3ZYDMSYARJ5   \n",
              "\n",
              "   retail_price  discounted_price  \\\n",
              "0         999.0             379.0   \n",
              "1       32157.0           22646.0   \n",
              "2         999.0             499.0   \n",
              "3         699.0             267.0   \n",
              "4         220.0             210.0   \n",
              "\n",
              "                                               image  is_FK_Advantage_product  \\\n",
              "0  [\"http://img5a.flixcart.com/image/short/u/4/a/...                    False   \n",
              "1  [\"http://img6a.flixcart.com/image/sofa-bed/j/f...                    False   \n",
              "2  [\"http://img5a.flixcart.com/image/shoe/7/z/z/r...                    False   \n",
              "3  [\"http://img5a.flixcart.com/image/short/6/2/h/...                    False   \n",
              "4  [\"http://img5a.flixcart.com/image/pet-shampoo/...                    False   \n",
              "\n",
              "                                         description       product_rating  \\\n",
              "0  Key Features of Alisha Solid Women's Cycling S...  No rating available   \n",
              "1  FabHomeDecor Fabric Double Sofa Bed (Finish Co...  No rating available   \n",
              "2  Key Features of AW Bellies Sandals Wedges Heel...  No rating available   \n",
              "3  Key Features of Alisha Solid Women's Cycling S...  No rating available   \n",
              "4  Specifications of Sicons All Purpose Arnica Do...  No rating available   \n",
              "\n",
              "        overall_rating         brand  \\\n",
              "0  No rating available        Alisha   \n",
              "1  No rating available  FabHomeDecor   \n",
              "2  No rating available            AW   \n",
              "3  No rating available        Alisha   \n",
              "4  No rating available        Sicons   \n",
              "\n",
              "                              product_specifications  \n",
              "0  {\"product_specification\"=>[{\"key\"=>\"Number of ...  \n",
              "1  {\"product_specification\"=>[{\"key\"=>\"Installati...  \n",
              "2  {\"product_specification\"=>[{\"key\"=>\"Ideal For\"...  \n",
              "3  {\"product_specification\"=>[{\"key\"=>\"Number of ...  \n",
              "4  {\"product_specification\"=>[{\"key\"=>\"Pet Type\",...  "
            ]
          },
          "execution_count": 1,
          "metadata": {},
          "output_type": "execute_result"
        }
      ],
      "source": [
        "import pandas as pd\n",
        "full_ds = pd.read_csv('flipkart-products/flipkart_com-ecommerce_sample.csv')\n",
        "full_ds.head()"
      ]
    },
    {
      "cell_type": "code",
      "execution_count": 2,
      "metadata": {
        "colab": {
          "base_uri": "https://localhost:8080/",
          "height": 71
        },
        "id": "W8ZYrDEpTZUA",
        "outputId": "18db04fc-b7af-432f-e290-9284f07a2644"
      },
      "outputs": [
        {
          "data": {
            "text/plain": [
              "'[\"http://img5a.flixcart.com/image/short/u/4/a/altht-3p-21-alisha-38-original-imaeh2d5vm5zbtgg.jpeg\", \"http://img5a.flixcart.com/image/short/p/j/z/altght4p-26-alisha-38-original-imaeh2d5kbufss6n.jpeg\", \"http://img5a.flixcart.com/image/short/p/j/z/altght4p-26-alisha-38-original-imaeh2d5npdybzyt.jpeg\", \"http://img5a.flixcart.com/image/short/z/j/7/altght-7-alisha-38-original-imaeh2d5jsz2ghd6.jpeg\"]'"
            ]
          },
          "execution_count": 2,
          "metadata": {},
          "output_type": "execute_result"
        }
      ],
      "source": [
        "full_ds['image'][0]"
      ]
    },
    {
      "cell_type": "code",
      "execution_count": 3,
      "metadata": {
        "colab": {
          "base_uri": "https://localhost:8080/",
          "height": 71
        },
        "id": "1Jv9JCENUu0m",
        "outputId": "5500c8e3-a2da-4b58-ccd9-17a8ebb5910c"
      },
      "outputs": [
        {
          "data": {
            "text/plain": [
              "\"Key Features of Alisha Solid Women's Cycling Shorts Cotton Lycra Navy, Red, Navy,Specifications of Alisha Solid Women's Cycling Shorts Shorts Details Number of Contents in Sales Package Pack of 3 Fabric Cotton Lycra Type Cycling Shorts General Details Pattern Solid Ideal For Women's Fabric Care Gentle Machine Wash in Lukewarm Water, Do Not Bleach Additional Details Style Code ALTHT_3P_21 In the Box 3 shorts\""
            ]
          },
          "execution_count": 3,
          "metadata": {},
          "output_type": "execute_result"
        }
      ],
      "source": [
        "full_ds['description'][0]"
      ]
    },
    {
      "cell_type": "code",
      "execution_count": 2,
      "metadata": {
        "colab": {
          "base_uri": "https://localhost:8080/"
        },
        "id": "ozf2FNR7Sw3o",
        "outputId": "76de6dc4-85cf-466a-8e66-d4d4bc62bdae"
      },
      "outputs": [
        {
          "data": {
            "text/plain": [
              "uniq_id                    20000\n",
              "crawl_timestamp              371\n",
              "product_url                20000\n",
              "product_name               12676\n",
              "product_category_tree       6466\n",
              "pid                        19998\n",
              "retail_price                2247\n",
              "discounted_price            2448\n",
              "image                      18589\n",
              "is_FK_Advantage_product        2\n",
              "description                17539\n",
              "product_rating                36\n",
              "overall_rating                36\n",
              "brand                       3499\n",
              "product_specifications     18825\n",
              "dtype: int64"
            ]
          },
          "execution_count": 2,
          "metadata": {},
          "output_type": "execute_result"
        }
      ],
      "source": [
        "# check the values of each row for each column\n",
        "full_ds.nunique(axis=0)"
      ]
    },
    {
      "cell_type": "code",
      "execution_count": 3,
      "metadata": {
        "colab": {
          "base_uri": "https://localhost:8080/"
        },
        "id": "-s7vegKVUSls",
        "outputId": "9d858987-a090-4ffe-be8b-35a9369f0171"
      },
      "outputs": [
        {
          "name": "stdout",
          "output_type": "stream",
          "text": [
            "<class 'pandas.core.frame.DataFrame'>\n",
            "RangeIndex: 20000 entries, 0 to 19999\n",
            "Data columns (total 15 columns):\n",
            " #   Column                   Non-Null Count  Dtype  \n",
            "---  ------                   --------------  -----  \n",
            " 0   uniq_id                  20000 non-null  object \n",
            " 1   crawl_timestamp          20000 non-null  object \n",
            " 2   product_url              20000 non-null  object \n",
            " 3   product_name             20000 non-null  object \n",
            " 4   product_category_tree    20000 non-null  object \n",
            " 5   pid                      20000 non-null  object \n",
            " 6   retail_price             19922 non-null  float64\n",
            " 7   discounted_price         19922 non-null  float64\n",
            " 8   image                    19997 non-null  object \n",
            " 9   is_FK_Advantage_product  20000 non-null  bool   \n",
            " 10  description              19998 non-null  object \n",
            " 11  product_rating           20000 non-null  object \n",
            " 12  overall_rating           20000 non-null  object \n",
            " 13  brand                    14136 non-null  object \n",
            " 14  product_specifications   19986 non-null  object \n",
            "dtypes: bool(1), float64(2), object(12)\n",
            "memory usage: 2.2+ MB\n"
          ]
        }
      ],
      "source": [
        "full_ds.info()"
      ]
    },
    {
      "cell_type": "code",
      "execution_count": 4,
      "metadata": {
        "id": "X7cmzXyz1yJ3"
      },
      "outputs": [],
      "source": [
        "df = full_ds[['uniq_id','product_name','description','brand','product_category_tree','image','product_specifications']]"
      ]
    },
    {
      "cell_type": "code",
      "execution_count": 5,
      "metadata": {
        "colab": {
          "base_uri": "https://localhost:8080/",
          "height": 486
        },
        "id": "DGhWRuCQCQTA",
        "outputId": "2b27de1e-e9eb-445f-c776-9a520d8a15c0"
      },
      "outputs": [
        {
          "data": {
            "text/html": [
              "<div>\n",
              "<style scoped>\n",
              "    .dataframe tbody tr th:only-of-type {\n",
              "        vertical-align: middle;\n",
              "    }\n",
              "\n",
              "    .dataframe tbody tr th {\n",
              "        vertical-align: top;\n",
              "    }\n",
              "\n",
              "    .dataframe thead th {\n",
              "        text-align: right;\n",
              "    }\n",
              "</style>\n",
              "<table border=\"1\" class=\"dataframe\">\n",
              "  <thead>\n",
              "    <tr style=\"text-align: right;\">\n",
              "      <th></th>\n",
              "      <th>uniq_id</th>\n",
              "      <th>product_name</th>\n",
              "      <th>description</th>\n",
              "      <th>brand</th>\n",
              "      <th>product_category_tree</th>\n",
              "      <th>image</th>\n",
              "      <th>product_specifications</th>\n",
              "    </tr>\n",
              "  </thead>\n",
              "  <tbody>\n",
              "    <tr>\n",
              "      <th>0</th>\n",
              "      <td>c2d766ca982eca8304150849735ffef9</td>\n",
              "      <td>Alisha Solid Women's Cycling Shorts</td>\n",
              "      <td>Key Features of Alisha Solid Women's Cycling S...</td>\n",
              "      <td>Alisha</td>\n",
              "      <td>[\"Clothing &gt;&gt; Women's Clothing &gt;&gt; Lingerie, Sl...</td>\n",
              "      <td>[\"http://img5a.flixcart.com/image/short/u/4/a/...</td>\n",
              "      <td>{\"product_specification\"=&gt;[{\"key\"=&gt;\"Number of ...</td>\n",
              "    </tr>\n",
              "    <tr>\n",
              "      <th>1</th>\n",
              "      <td>7f7036a6d550aaa89d34c77bd39a5e48</td>\n",
              "      <td>FabHomeDecor Fabric Double Sofa Bed</td>\n",
              "      <td>FabHomeDecor Fabric Double Sofa Bed (Finish Co...</td>\n",
              "      <td>FabHomeDecor</td>\n",
              "      <td>[\"Furniture &gt;&gt; Living Room Furniture &gt;&gt; Sofa B...</td>\n",
              "      <td>[\"http://img6a.flixcart.com/image/sofa-bed/j/f...</td>\n",
              "      <td>{\"product_specification\"=&gt;[{\"key\"=&gt;\"Installati...</td>\n",
              "    </tr>\n",
              "    <tr>\n",
              "      <th>2</th>\n",
              "      <td>f449ec65dcbc041b6ae5e6a32717d01b</td>\n",
              "      <td>AW Bellies</td>\n",
              "      <td>Key Features of AW Bellies Sandals Wedges Heel...</td>\n",
              "      <td>AW</td>\n",
              "      <td>[\"Footwear &gt;&gt; Women's Footwear &gt;&gt; Ballerinas &gt;...</td>\n",
              "      <td>[\"http://img5a.flixcart.com/image/shoe/7/z/z/r...</td>\n",
              "      <td>{\"product_specification\"=&gt;[{\"key\"=&gt;\"Ideal For\"...</td>\n",
              "    </tr>\n",
              "    <tr>\n",
              "      <th>3</th>\n",
              "      <td>0973b37acd0c664e3de26e97e5571454</td>\n",
              "      <td>Alisha Solid Women's Cycling Shorts</td>\n",
              "      <td>Key Features of Alisha Solid Women's Cycling S...</td>\n",
              "      <td>Alisha</td>\n",
              "      <td>[\"Clothing &gt;&gt; Women's Clothing &gt;&gt; Lingerie, Sl...</td>\n",
              "      <td>[\"http://img5a.flixcart.com/image/short/6/2/h/...</td>\n",
              "      <td>{\"product_specification\"=&gt;[{\"key\"=&gt;\"Number of ...</td>\n",
              "    </tr>\n",
              "    <tr>\n",
              "      <th>4</th>\n",
              "      <td>bc940ea42ee6bef5ac7cea3fb5cfbee7</td>\n",
              "      <td>Sicons All Purpose Arnica Dog Shampoo</td>\n",
              "      <td>Specifications of Sicons All Purpose Arnica Do...</td>\n",
              "      <td>Sicons</td>\n",
              "      <td>[\"Pet Supplies &gt;&gt; Grooming &gt;&gt; Skin &amp; Coat Care...</td>\n",
              "      <td>[\"http://img5a.flixcart.com/image/pet-shampoo/...</td>\n",
              "      <td>{\"product_specification\"=&gt;[{\"key\"=&gt;\"Pet Type\",...</td>\n",
              "    </tr>\n",
              "  </tbody>\n",
              "</table>\n",
              "</div>"
            ],
            "text/plain": [
              "                            uniq_id                           product_name  \\\n",
              "0  c2d766ca982eca8304150849735ffef9    Alisha Solid Women's Cycling Shorts   \n",
              "1  7f7036a6d550aaa89d34c77bd39a5e48    FabHomeDecor Fabric Double Sofa Bed   \n",
              "2  f449ec65dcbc041b6ae5e6a32717d01b                             AW Bellies   \n",
              "3  0973b37acd0c664e3de26e97e5571454    Alisha Solid Women's Cycling Shorts   \n",
              "4  bc940ea42ee6bef5ac7cea3fb5cfbee7  Sicons All Purpose Arnica Dog Shampoo   \n",
              "\n",
              "                                         description         brand  \\\n",
              "0  Key Features of Alisha Solid Women's Cycling S...        Alisha   \n",
              "1  FabHomeDecor Fabric Double Sofa Bed (Finish Co...  FabHomeDecor   \n",
              "2  Key Features of AW Bellies Sandals Wedges Heel...            AW   \n",
              "3  Key Features of Alisha Solid Women's Cycling S...        Alisha   \n",
              "4  Specifications of Sicons All Purpose Arnica Do...        Sicons   \n",
              "\n",
              "                               product_category_tree  \\\n",
              "0  [\"Clothing >> Women's Clothing >> Lingerie, Sl...   \n",
              "1  [\"Furniture >> Living Room Furniture >> Sofa B...   \n",
              "2  [\"Footwear >> Women's Footwear >> Ballerinas >...   \n",
              "3  [\"Clothing >> Women's Clothing >> Lingerie, Sl...   \n",
              "4  [\"Pet Supplies >> Grooming >> Skin & Coat Care...   \n",
              "\n",
              "                                               image  \\\n",
              "0  [\"http://img5a.flixcart.com/image/short/u/4/a/...   \n",
              "1  [\"http://img6a.flixcart.com/image/sofa-bed/j/f...   \n",
              "2  [\"http://img5a.flixcart.com/image/shoe/7/z/z/r...   \n",
              "3  [\"http://img5a.flixcart.com/image/short/6/2/h/...   \n",
              "4  [\"http://img5a.flixcart.com/image/pet-shampoo/...   \n",
              "\n",
              "                              product_specifications  \n",
              "0  {\"product_specification\"=>[{\"key\"=>\"Number of ...  \n",
              "1  {\"product_specification\"=>[{\"key\"=>\"Installati...  \n",
              "2  {\"product_specification\"=>[{\"key\"=>\"Ideal For\"...  \n",
              "3  {\"product_specification\"=>[{\"key\"=>\"Number of ...  \n",
              "4  {\"product_specification\"=>[{\"key\"=>\"Pet Type\",...  "
            ]
          },
          "execution_count": 5,
          "metadata": {},
          "output_type": "execute_result"
        }
      ],
      "source": [
        "df.head()"
      ]
    },
    {
      "cell_type": "markdown",
      "metadata": {
        "id": "l66AHV6vNJeh"
      },
      "source": [
        "# Category Analysis"
      ]
    },
    {
      "cell_type": "code",
      "execution_count": 6,
      "metadata": {
        "colab": {
          "base_uri": "https://localhost:8080/"
        },
        "id": "vtBnWFMnOd-p",
        "outputId": "5c3aaca7-5e41-44a1-a6e7-d1e2d0c4e505"
      },
      "outputs": [
        {
          "name": "stderr",
          "output_type": "stream",
          "text": [
            "/tmp/ipykernel_3235/1039320457.py:9: SettingWithCopyWarning: \n",
            "A value is trying to be set on a copy of a slice from a DataFrame.\n",
            "Try using .loc[row_indexer,col_indexer] = value instead\n",
            "\n",
            "See the caveats in the documentation: https://pandas.pydata.org/pandas-docs/stable/user_guide/indexing.html#returning-a-view-versus-a-copy\n",
            "  df['product_category_tree'] = df['product_category_tree'].apply(lambda x: reformat(x))\n"
          ]
        }
      ],
      "source": [
        "#Helper function to reformat the given text\n",
        "def reformat(text: str) -> str:\n",
        "  text = text.replace('[', '')\n",
        "  text = text.replace(']', '')\n",
        "  text = text.replace('\"', '')\n",
        "  return text\n",
        "\n",
        "#df.loc[:, 'product_category_tree'] = df['product_category_tree'].apply(lambda x: reformat(x))\n",
        "df['product_category_tree'] = df['product_category_tree'].apply(lambda x: reformat(x))"
      ]
    },
    {
      "cell_type": "code",
      "execution_count": 7,
      "metadata": {
        "colab": {
          "base_uri": "https://localhost:8080/"
        },
        "id": "oJNmqPqvEge-",
        "outputId": "ebd49d65-3d24-4dd1-a902-1f6e4cdb5990"
      },
      "outputs": [
        {
          "name": "stdout",
          "output_type": "stream",
          "text": [
            "{6: 3640, 4: 4765, 5: 4911, 1: 328, 3: 4419, 7: 778, 2: 1129, 8: 30}\n"
          ]
        }
      ],
      "source": [
        "# Finding the depth of the category trees\n",
        "# Finding total number of categories in each level\n",
        "cat_len = {}\n",
        "for cat_tree in df.product_category_tree:\n",
        "  number_of_categories = len(cat_tree.split(\">>\"))\n",
        "  #print(number_of_categories)\n",
        "  if number_of_categories not in cat_len:\n",
        "    cat_len[number_of_categories] = 1\n",
        "  else:\n",
        "    cat_len[number_of_categories] += 1\n",
        "print(cat_len)"
      ]
    },
    {
      "cell_type": "markdown",
      "metadata": {
        "id": "g0Ht_7jNVZL8"
      },
      "source": [
        "**There are total 8 levels at max.**"
      ]
    },
    {
      "cell_type": "code",
      "execution_count": 8,
      "metadata": {
        "id": "bCXMbMKvPAvT"
      },
      "outputs": [],
      "source": [
        "temp_df = df['product_category_tree'].str.split('>>', expand=True)\n",
        "temp_df.columns = ['c0_name', 'c1_name', 'c2_name', 'c3_name', 'c4_name', 'c5_name', 'c6_name', 'c7_name']\n",
        "for col in temp_df.columns:\n",
        "  temp_df[col] = temp_df[col].apply(lambda x: x.strip() if x else x)"
      ]
    },
    {
      "cell_type": "markdown",
      "metadata": {
        "id": "UJhF3GHaVgaY"
      },
      "source": [
        "**Considering only 4 levels from category tree**"
      ]
    },
    {
      "cell_type": "code",
      "execution_count": 9,
      "metadata": {
        "colab": {
          "base_uri": "https://localhost:8080/",
          "height": 423
        },
        "id": "ud0bDggOPJvd",
        "outputId": "273211ce-9a23-4039-d92a-a8a9aa365f6d"
      },
      "outputs": [
        {
          "data": {
            "text/html": [
              "<div>\n",
              "<style scoped>\n",
              "    .dataframe tbody tr th:only-of-type {\n",
              "        vertical-align: middle;\n",
              "    }\n",
              "\n",
              "    .dataframe tbody tr th {\n",
              "        vertical-align: top;\n",
              "    }\n",
              "\n",
              "    .dataframe thead th {\n",
              "        text-align: right;\n",
              "    }\n",
              "</style>\n",
              "<table border=\"1\" class=\"dataframe\">\n",
              "  <thead>\n",
              "    <tr style=\"text-align: right;\">\n",
              "      <th></th>\n",
              "      <th>c0_name</th>\n",
              "      <th>c1_name</th>\n",
              "      <th>c2_name</th>\n",
              "      <th>c3_name</th>\n",
              "    </tr>\n",
              "  </thead>\n",
              "  <tbody>\n",
              "    <tr>\n",
              "      <th>0</th>\n",
              "      <td>Clothing</td>\n",
              "      <td>Women's Clothing</td>\n",
              "      <td>Lingerie, Sleep &amp; Swimwear</td>\n",
              "      <td>Shorts</td>\n",
              "    </tr>\n",
              "    <tr>\n",
              "      <th>1</th>\n",
              "      <td>Furniture</td>\n",
              "      <td>Living Room Furniture</td>\n",
              "      <td>Sofa Beds &amp; Futons</td>\n",
              "      <td>FabHomeDecor Fabric Double Sofa Bed (Finish Co...</td>\n",
              "    </tr>\n",
              "    <tr>\n",
              "      <th>2</th>\n",
              "      <td>Footwear</td>\n",
              "      <td>Women's Footwear</td>\n",
              "      <td>Ballerinas</td>\n",
              "      <td>AW Bellies</td>\n",
              "    </tr>\n",
              "    <tr>\n",
              "      <th>3</th>\n",
              "      <td>Clothing</td>\n",
              "      <td>Women's Clothing</td>\n",
              "      <td>Lingerie, Sleep &amp; Swimwear</td>\n",
              "      <td>Shorts</td>\n",
              "    </tr>\n",
              "    <tr>\n",
              "      <th>4</th>\n",
              "      <td>Pet Supplies</td>\n",
              "      <td>Grooming</td>\n",
              "      <td>Skin &amp; Coat Care</td>\n",
              "      <td>Shampoo</td>\n",
              "    </tr>\n",
              "    <tr>\n",
              "      <th>...</th>\n",
              "      <td>...</td>\n",
              "      <td>...</td>\n",
              "      <td>...</td>\n",
              "      <td>...</td>\n",
              "    </tr>\n",
              "    <tr>\n",
              "      <th>19995</th>\n",
              "      <td>Baby Care</td>\n",
              "      <td>Baby &amp; Kids Gifts</td>\n",
              "      <td>Stickers</td>\n",
              "      <td>WallDesign Stickers</td>\n",
              "    </tr>\n",
              "    <tr>\n",
              "      <th>19996</th>\n",
              "      <td>Baby Care</td>\n",
              "      <td>Baby &amp; Kids Gifts</td>\n",
              "      <td>Stickers</td>\n",
              "      <td>Wallmantra Stickers</td>\n",
              "    </tr>\n",
              "    <tr>\n",
              "      <th>19997</th>\n",
              "      <td>Baby Care</td>\n",
              "      <td>Baby &amp; Kids Gifts</td>\n",
              "      <td>Stickers</td>\n",
              "      <td>Elite Collection Stickers</td>\n",
              "    </tr>\n",
              "    <tr>\n",
              "      <th>19998</th>\n",
              "      <td>Baby Care</td>\n",
              "      <td>Baby &amp; Kids Gifts</td>\n",
              "      <td>Stickers</td>\n",
              "      <td>Elite Collection Stickers</td>\n",
              "    </tr>\n",
              "    <tr>\n",
              "      <th>19999</th>\n",
              "      <td>Baby Care</td>\n",
              "      <td>Baby &amp; Kids Gifts</td>\n",
              "      <td>Stickers</td>\n",
              "      <td>Elite Collection Stickers</td>\n",
              "    </tr>\n",
              "  </tbody>\n",
              "</table>\n",
              "<p>20000 rows × 4 columns</p>\n",
              "</div>"
            ],
            "text/plain": [
              "            c0_name                c1_name                     c2_name  \\\n",
              "0          Clothing       Women's Clothing  Lingerie, Sleep & Swimwear   \n",
              "1         Furniture  Living Room Furniture          Sofa Beds & Futons   \n",
              "2          Footwear       Women's Footwear                  Ballerinas   \n",
              "3          Clothing       Women's Clothing  Lingerie, Sleep & Swimwear   \n",
              "4      Pet Supplies               Grooming            Skin & Coat Care   \n",
              "...             ...                    ...                         ...   \n",
              "19995     Baby Care      Baby & Kids Gifts                    Stickers   \n",
              "19996     Baby Care      Baby & Kids Gifts                    Stickers   \n",
              "19997     Baby Care      Baby & Kids Gifts                    Stickers   \n",
              "19998     Baby Care      Baby & Kids Gifts                    Stickers   \n",
              "19999     Baby Care      Baby & Kids Gifts                    Stickers   \n",
              "\n",
              "                                                 c3_name  \n",
              "0                                                 Shorts  \n",
              "1      FabHomeDecor Fabric Double Sofa Bed (Finish Co...  \n",
              "2                                             AW Bellies  \n",
              "3                                                 Shorts  \n",
              "4                                                Shampoo  \n",
              "...                                                  ...  \n",
              "19995                                WallDesign Stickers  \n",
              "19996                                Wallmantra Stickers  \n",
              "19997                          Elite Collection Stickers  \n",
              "19998                          Elite Collection Stickers  \n",
              "19999                          Elite Collection Stickers  \n",
              "\n",
              "[20000 rows x 4 columns]"
            ]
          },
          "execution_count": 9,
          "metadata": {},
          "output_type": "execute_result"
        }
      ],
      "source": [
        "#For our purposes we'll only consider the top 4 levels from category tree\n",
        "temp_df =temp_df[['c0_name', 'c1_name', 'c2_name', 'c3_name']]\n",
        "temp_df"
      ]
    },
    {
      "cell_type": "code",
      "execution_count": 10,
      "metadata": {
        "id": "7jPLH2cRwW0e"
      },
      "outputs": [],
      "source": [
        "# concatenating df1 and df2 along rows\n",
        "df_with_cat = pd.concat([df, temp_df], axis=1)\n",
        "df_with_cat = df_with_cat.drop('product_category_tree', axis=1)"
      ]
    },
    {
      "cell_type": "code",
      "execution_count": 11,
      "metadata": {
        "colab": {
          "base_uri": "https://localhost:8080/",
          "height": 486
        },
        "id": "vrVlzpJ_wrlf",
        "outputId": "37af8dec-bdfc-4352-e715-6603d2c97988"
      },
      "outputs": [
        {
          "data": {
            "text/html": [
              "<div>\n",
              "<style scoped>\n",
              "    .dataframe tbody tr th:only-of-type {\n",
              "        vertical-align: middle;\n",
              "    }\n",
              "\n",
              "    .dataframe tbody tr th {\n",
              "        vertical-align: top;\n",
              "    }\n",
              "\n",
              "    .dataframe thead th {\n",
              "        text-align: right;\n",
              "    }\n",
              "</style>\n",
              "<table border=\"1\" class=\"dataframe\">\n",
              "  <thead>\n",
              "    <tr style=\"text-align: right;\">\n",
              "      <th></th>\n",
              "      <th>uniq_id</th>\n",
              "      <th>product_name</th>\n",
              "      <th>description</th>\n",
              "      <th>brand</th>\n",
              "      <th>image</th>\n",
              "      <th>product_specifications</th>\n",
              "      <th>c0_name</th>\n",
              "      <th>c1_name</th>\n",
              "      <th>c2_name</th>\n",
              "      <th>c3_name</th>\n",
              "    </tr>\n",
              "  </thead>\n",
              "  <tbody>\n",
              "    <tr>\n",
              "      <th>0</th>\n",
              "      <td>c2d766ca982eca8304150849735ffef9</td>\n",
              "      <td>Alisha Solid Women's Cycling Shorts</td>\n",
              "      <td>Key Features of Alisha Solid Women's Cycling S...</td>\n",
              "      <td>Alisha</td>\n",
              "      <td>[\"http://img5a.flixcart.com/image/short/u/4/a/...</td>\n",
              "      <td>{\"product_specification\"=&gt;[{\"key\"=&gt;\"Number of ...</td>\n",
              "      <td>Clothing</td>\n",
              "      <td>Women's Clothing</td>\n",
              "      <td>Lingerie, Sleep &amp; Swimwear</td>\n",
              "      <td>Shorts</td>\n",
              "    </tr>\n",
              "    <tr>\n",
              "      <th>1</th>\n",
              "      <td>7f7036a6d550aaa89d34c77bd39a5e48</td>\n",
              "      <td>FabHomeDecor Fabric Double Sofa Bed</td>\n",
              "      <td>FabHomeDecor Fabric Double Sofa Bed (Finish Co...</td>\n",
              "      <td>FabHomeDecor</td>\n",
              "      <td>[\"http://img6a.flixcart.com/image/sofa-bed/j/f...</td>\n",
              "      <td>{\"product_specification\"=&gt;[{\"key\"=&gt;\"Installati...</td>\n",
              "      <td>Furniture</td>\n",
              "      <td>Living Room Furniture</td>\n",
              "      <td>Sofa Beds &amp; Futons</td>\n",
              "      <td>FabHomeDecor Fabric Double Sofa Bed (Finish Co...</td>\n",
              "    </tr>\n",
              "    <tr>\n",
              "      <th>2</th>\n",
              "      <td>f449ec65dcbc041b6ae5e6a32717d01b</td>\n",
              "      <td>AW Bellies</td>\n",
              "      <td>Key Features of AW Bellies Sandals Wedges Heel...</td>\n",
              "      <td>AW</td>\n",
              "      <td>[\"http://img5a.flixcart.com/image/shoe/7/z/z/r...</td>\n",
              "      <td>{\"product_specification\"=&gt;[{\"key\"=&gt;\"Ideal For\"...</td>\n",
              "      <td>Footwear</td>\n",
              "      <td>Women's Footwear</td>\n",
              "      <td>Ballerinas</td>\n",
              "      <td>AW Bellies</td>\n",
              "    </tr>\n",
              "    <tr>\n",
              "      <th>3</th>\n",
              "      <td>0973b37acd0c664e3de26e97e5571454</td>\n",
              "      <td>Alisha Solid Women's Cycling Shorts</td>\n",
              "      <td>Key Features of Alisha Solid Women's Cycling S...</td>\n",
              "      <td>Alisha</td>\n",
              "      <td>[\"http://img5a.flixcart.com/image/short/6/2/h/...</td>\n",
              "      <td>{\"product_specification\"=&gt;[{\"key\"=&gt;\"Number of ...</td>\n",
              "      <td>Clothing</td>\n",
              "      <td>Women's Clothing</td>\n",
              "      <td>Lingerie, Sleep &amp; Swimwear</td>\n",
              "      <td>Shorts</td>\n",
              "    </tr>\n",
              "    <tr>\n",
              "      <th>4</th>\n",
              "      <td>bc940ea42ee6bef5ac7cea3fb5cfbee7</td>\n",
              "      <td>Sicons All Purpose Arnica Dog Shampoo</td>\n",
              "      <td>Specifications of Sicons All Purpose Arnica Do...</td>\n",
              "      <td>Sicons</td>\n",
              "      <td>[\"http://img5a.flixcart.com/image/pet-shampoo/...</td>\n",
              "      <td>{\"product_specification\"=&gt;[{\"key\"=&gt;\"Pet Type\",...</td>\n",
              "      <td>Pet Supplies</td>\n",
              "      <td>Grooming</td>\n",
              "      <td>Skin &amp; Coat Care</td>\n",
              "      <td>Shampoo</td>\n",
              "    </tr>\n",
              "  </tbody>\n",
              "</table>\n",
              "</div>"
            ],
            "text/plain": [
              "                            uniq_id                           product_name  \\\n",
              "0  c2d766ca982eca8304150849735ffef9    Alisha Solid Women's Cycling Shorts   \n",
              "1  7f7036a6d550aaa89d34c77bd39a5e48    FabHomeDecor Fabric Double Sofa Bed   \n",
              "2  f449ec65dcbc041b6ae5e6a32717d01b                             AW Bellies   \n",
              "3  0973b37acd0c664e3de26e97e5571454    Alisha Solid Women's Cycling Shorts   \n",
              "4  bc940ea42ee6bef5ac7cea3fb5cfbee7  Sicons All Purpose Arnica Dog Shampoo   \n",
              "\n",
              "                                         description         brand  \\\n",
              "0  Key Features of Alisha Solid Women's Cycling S...        Alisha   \n",
              "1  FabHomeDecor Fabric Double Sofa Bed (Finish Co...  FabHomeDecor   \n",
              "2  Key Features of AW Bellies Sandals Wedges Heel...            AW   \n",
              "3  Key Features of Alisha Solid Women's Cycling S...        Alisha   \n",
              "4  Specifications of Sicons All Purpose Arnica Do...        Sicons   \n",
              "\n",
              "                                               image  \\\n",
              "0  [\"http://img5a.flixcart.com/image/short/u/4/a/...   \n",
              "1  [\"http://img6a.flixcart.com/image/sofa-bed/j/f...   \n",
              "2  [\"http://img5a.flixcart.com/image/shoe/7/z/z/r...   \n",
              "3  [\"http://img5a.flixcart.com/image/short/6/2/h/...   \n",
              "4  [\"http://img5a.flixcart.com/image/pet-shampoo/...   \n",
              "\n",
              "                              product_specifications       c0_name  \\\n",
              "0  {\"product_specification\"=>[{\"key\"=>\"Number of ...      Clothing   \n",
              "1  {\"product_specification\"=>[{\"key\"=>\"Installati...     Furniture   \n",
              "2  {\"product_specification\"=>[{\"key\"=>\"Ideal For\"...      Footwear   \n",
              "3  {\"product_specification\"=>[{\"key\"=>\"Number of ...      Clothing   \n",
              "4  {\"product_specification\"=>[{\"key\"=>\"Pet Type\",...  Pet Supplies   \n",
              "\n",
              "                 c1_name                     c2_name  \\\n",
              "0       Women's Clothing  Lingerie, Sleep & Swimwear   \n",
              "1  Living Room Furniture          Sofa Beds & Futons   \n",
              "2       Women's Footwear                  Ballerinas   \n",
              "3       Women's Clothing  Lingerie, Sleep & Swimwear   \n",
              "4               Grooming            Skin & Coat Care   \n",
              "\n",
              "                                             c3_name  \n",
              "0                                             Shorts  \n",
              "1  FabHomeDecor Fabric Double Sofa Bed (Finish Co...  \n",
              "2                                         AW Bellies  \n",
              "3                                             Shorts  \n",
              "4                                            Shampoo  "
            ]
          },
          "execution_count": 11,
          "metadata": {},
          "output_type": "execute_result"
        }
      ],
      "source": [
        "df_with_cat.head()"
      ]
    },
    {
      "cell_type": "code",
      "execution_count": 12,
      "metadata": {},
      "outputs": [
        {
          "data": {
            "text/plain": [
              "c0_name\n",
              "Clothing                                               6198\n",
              "Jewellery                                              3531\n",
              "Footwear                                               1227\n",
              "Mobiles & Accessories                                  1099\n",
              "Automotive                                             1012\n",
              "                                                       ... \n",
              "Mast & Harbour Gold Synthetic  Clutch                     1\n",
              "Asics Gel-Cumulus 17 Running Shoes                        1\n",
              "Glacier Running Shoes                                     1\n",
              "Starsy Solid Women's Round Neck Green T-Shirt             1\n",
              "Areon Luxurious Fragrance Long Lasting Car,Home,...       1\n",
              "Name: count, Length: 265, dtype: int64"
            ]
          },
          "execution_count": 12,
          "metadata": {},
          "output_type": "execute_result"
        }
      ],
      "source": [
        "df_with_cat['c0_name'].value_counts()"
      ]
    },
    {
      "cell_type": "code",
      "execution_count": 13,
      "metadata": {},
      "outputs": [
        {
          "data": {
            "text/plain": [
              "c1_name\n",
              "Women's Clothing                             3901\n",
              "Men's Clothing                               1773\n",
              "Necklaces & Chains                           1606\n",
              "Accessories & Spare parts                     925\n",
              "Tablet Accessories                            801\n",
              "                                             ... \n",
              "CEAT 2.75-18 Gripp TT Tube Tyre                 1\n",
              "CEAT 2.75-17 Secura F85 TL Tube Less Tyre       1\n",
              "CEAT 140/70-17 Zoom XL TL Tube Less Tyre        1\n",
              "CEAT 3.50-10 Milaze TT Tube Tyre                1\n",
              "Home Utilities                                  1\n",
              "Name: count, Length: 216, dtype: int64"
            ]
          },
          "execution_count": 13,
          "metadata": {},
          "output_type": "execute_result"
        }
      ],
      "source": [
        "df_with_cat['c1_name'].value_counts()"
      ]
    },
    {
      "cell_type": "code",
      "execution_count": 14,
      "metadata": {},
      "outputs": [
        {
          "data": {
            "text/plain": [
              "c2_name\n",
              "Western Wear                                           1981\n",
              "Necklaces                                              1588\n",
              "Lingerie, Sleep & Swimwear                             1208\n",
              "T-Shirts                                                903\n",
              "Cases & Covers                                          796\n",
              "                                                       ... \n",
              "RosesNRibbons Rhodium Garnet Sterling Silver              1\n",
              "RosesNRibbons Rhodium Garnet, Amethyst, Citrine,...       1\n",
              "Sanaa Creations Alloy                                     1\n",
              "Gas Cylinder Trolleys                                     1\n",
              "Dyna Mobile Accessories                                   1\n",
              "Name: count, Length: 874, dtype: int64"
            ]
          },
          "execution_count": 14,
          "metadata": {},
          "output_type": "execute_result"
        }
      ],
      "source": [
        "df_with_cat['c2_name'].value_counts()"
      ]
    },
    {
      "cell_type": "code",
      "execution_count": 15,
      "metadata": {},
      "outputs": [
        {
          "data": {
            "text/plain": [
              "c3_name\n",
              "Shirts, Tops & Tunics                                  1249\n",
              "Bras                                                   1036\n",
              "Car Interior                                            659\n",
              "Dresses & Skirts                                        620\n",
              "Combos                                                  375\n",
              "                                                       ... \n",
              "Rajdoot Casual Shoes                                      1\n",
              "Adishma Printed Cushions Cover (40 cm*40 cm, Blue)        1\n",
              "Ally The Creations Printed Cushions Cover (Pack ...       1\n",
              "Style Homez Polka Cushions Cover (45 cm*45 cm, M...       1\n",
              "Fun To See Stickers                                       1\n",
              "Name: count, Length: 2347, dtype: int64"
            ]
          },
          "execution_count": 15,
          "metadata": {},
          "output_type": "execute_result"
        }
      ],
      "source": [
        "df_with_cat['c3_name'].value_counts()"
      ]
    },
    {
      "cell_type": "markdown",
      "metadata": {
        "id": "e3pO-6aeoe-c"
      },
      "source": [
        "# Extracting Product Attributes"
      ]
    },
    {
      "cell_type": "code",
      "execution_count": 16,
      "metadata": {
        "id": "MFHW9gHmojuB"
      },
      "outputs": [],
      "source": [
        "#Extracting attributes from product specifications\n",
        "import json\n",
        "from typing import List, Dict\n",
        "\n",
        "import jsonpickle\n",
        "import pandas as pd\n",
        "import re\n",
        "\n",
        "import numpy as np\n",
        "SPEC_MATCH_ONE = re.compile(\"(.*?)\\\\[(.*)\\\\](.*)\")\n",
        "SPEC_MATCH_TWO = re.compile(\"(.*?)=>\\\"(.*?)\\\"(.*?)=>\\\"(.*?)\\\"(.*)\")\n",
        "\n",
        "def parse_spec(specification: str):\n",
        "    if pd.isna(specification):\n",
        "      return None\n",
        "    m = SPEC_MATCH_ONE.match(specification)\n",
        "    out = {}\n",
        "    position = 0\n",
        "    if m is not None and m.group(2) is not None:\n",
        "        phrase = ''\n",
        "        for c in m.group(2):\n",
        "            if c == '}':\n",
        "                m2 = SPEC_MATCH_TWO.match(phrase)\n",
        "                if m2 and m2.group(2) is not None and m2.group(4) is not None:\n",
        "                    out[m2.group(2)]=m2.group(4)\n",
        "                phrase = ''\n",
        "            else:\n",
        "                phrase += c\n",
        "    json_string = jsonpickle.encode(out)\n",
        "    return json_string"
      ]
    },
    {
      "cell_type": "code",
      "execution_count": 19,
      "metadata": {
        "colab": {
          "base_uri": "https://localhost:8080/"
        },
        "id": "G4jotD0_Wwm3",
        "outputId": "7e19f9d4-44f0-4fc1-d076-88f36e5a7c82"
      },
      "outputs": [
        {
          "data": {
            "text/plain": [
              "0        {\"Number of Contents in Sales Package\": \"Pack ...\n",
              "1        {\"Installation & Demo Details\": \"Installation ...\n",
              "2        {\"Ideal For\": \"Women\", \"Occasion\": \"Casual\", \"...\n",
              "3        {\"Number of Contents in Sales Package\": \"Pack ...\n",
              "4        {\"Pet Type\": \"Dog\", \"Brand\": \"Sicons\", \"Quanti...\n",
              "                               ...                        \n",
              "19995    {\"Number of Contents in Sales Package\": \"Pack ...\n",
              "19996    {\"Number of Contents in Sales Package\": \"Pack ...\n",
              "19997    {\"Number of Contents in Sales Package\": \"Pack ...\n",
              "19998    {\"Number of Contents in Sales Package\": \"Pack ...\n",
              "19999    {\"Number of Contents in Sales Package\": \"Pack ...\n",
              "Name: attributes, Length: 20000, dtype: object"
            ]
          },
          "execution_count": 19,
          "metadata": {},
          "output_type": "execute_result"
        }
      ],
      "source": [
        "df_with_cat['attributes'] = df_with_cat['product_specifications'].apply(parse_spec)\n",
        "df_with_cat['attributes']"
      ]
    },
    {
      "cell_type": "markdown",
      "metadata": {
        "id": "J4M5CzC3mJOP"
      },
      "source": [
        "# Downloading Images from product image url into GCS"
      ]
    },
    {
      "cell_type": "code",
      "execution_count": null,
      "metadata": {
        "id": "9UcFuh9TdzWE"
      },
      "outputs": [],
      "source": [
        "from google.cloud import storage\n",
        "from google.cloud.storage import Bucket\n",
        "\n",
        "IMAGE_BUCKET = 'genai-product-catalog' # UPDATE\n",
        "GCS_IMAGE_FOLDER = 'flipkart_Nov14' # UPDATE\n",
        "\n",
        "def create_gcs_bucket(bucket_name: str):\n",
        "  storage_client = storage.Client()\n",
        "  exists = Bucket(storage_client, IMAGE_BUCKET).exists()\n",
        "  if exists:\n",
        "    print(\"Bucket exists\")\n",
        "  else:\n",
        "    print(\"Bucket does not exist\")\n",
        "    # Creates the new bucket\n",
        "    bucket = storage_client.create_bucket(IMAGE_BUCKET)\n",
        "    print(f\"Bucket {bucket.name} created.\")"
      ]
    },
    {
      "cell_type": "code",
      "execution_count": null,
      "metadata": {
        "colab": {
          "base_uri": "https://localhost:8080/"
        },
        "id": "nMDF3v08fRRY",
        "outputId": "9793f9ad-5fd8-4ec7-fb52-db075b509247"
      },
      "outputs": [
        {
          "name": "stdout",
          "output_type": "stream",
          "text": [
            "Bucket exists\n"
          ]
        }
      ],
      "source": [
        "create_gcs_bucket(IMAGE_BUCKET)"
      ]
    },
    {
      "cell_type": "code",
      "execution_count": null,
      "metadata": {
        "id": "UYJ6LmmxV0Vb"
      },
      "outputs": [],
      "source": [
        "import urllib.request, urllib.error\n",
        "#from numpy import NaN\n",
        "\n",
        "#Formating Imagelist string into list of image urls\n",
        "def extract_url(image_list: str) -> List[str]:\n",
        "  image_list = image_list.replace('[', '')\n",
        "  image_list = image_list.replace(']', '')\n",
        "  image_list = image_list.replace('\"', '')\n",
        "  #image_list = image_list.apply(lambda x: reformat(x))\n",
        "  image_urls = image_list.split(',')\n",
        "  return image_urls\n",
        "\n",
        "#Dowlonding image from flipkart url into gcs bucket\n",
        "def download_image(image_url, image_file_name, destination_blob_name):\n",
        "  storage_client = storage.Client()\n",
        "  image_found_flag = False\n",
        "  try:\n",
        "    urllib.request.urlretrieve(image_url, image_file_name)\n",
        "    bucket = storage_client.bucket(IMAGE_BUCKET)\n",
        "    blob = bucket.blob(destination_blob_name)\n",
        "    blob.upload_from_filename(image_file_name)\n",
        "    print(\n",
        "        f\"File {image_file_name} uploaded to {destination_blob_name}.\"\n",
        "    )\n",
        "    image_found_flag = True\n",
        "  except urllib.error.URLError:\n",
        "    print(\"URLError exception\")\n",
        "  except urllib.error.HTTPError:\n",
        "    print(\"HTTPError exception\")\n",
        "  except urllib.error.HTTPException:\n",
        "    print(\"HTTPException exception\")\n",
        "  except:\n",
        "    print(\"Unknown exception\")\n",
        "  return image_found_flag"
      ]
    },
    {
      "cell_type": "code",
      "execution_count": null,
      "metadata": {
        "id": "2fqlI8QtfXu-"
      },
      "outputs": [],
      "source": [
        "#Get Image URI\n",
        "def get_product_image(df):\n",
        "  products_with_no_image_count = 0\n",
        "  products_with_no_image = []\n",
        "  gcs_image_url = []\n",
        "  image_found_flag = False\n",
        "\n",
        "  for id, image_list in zip(df['uniq_id'], df['image']):\n",
        "\n",
        "    if pd.isnull(image_list): #No image url\n",
        "      print(\"WARNING: No image url: product \", id)\n",
        "      products_with_no_image_count += 1\n",
        "      products_with_no_image.append(id)\n",
        "      gcs_image_url.append(None)\n",
        "      continue\n",
        "\n",
        "    image_urls = extract_url(image_list)\n",
        "    for index in range(len(image_urls)):\n",
        "      image_url = image_urls[index]\n",
        "      image_file_name = '{}_{}.jpg'.format(id, index)\n",
        "      destination_blob_name = GCS_IMAGE_FOLDER+'/'+image_file_name\n",
        "      image_found_flag = download_image(image_url, image_file_name, destination_blob_name)\n",
        "      if image_found_flag:\n",
        "        gcs_image_url.append('gs://'+IMAGE_BUCKET+'/'+destination_blob_name)\n",
        "        break\n",
        "    if not image_found_flag:\n",
        "      print(\"WARNING: No image: product \", id)\n",
        "      products_with_no_image_count += 1\n",
        "      products_with_no_image.append(id)\n",
        "      gcs_image_url.append(None)\n",
        "\n",
        "  #appending gcs image uri into dataframe\n",
        "  gcs_image_loc = pd.DataFrame(gcs_image_url)\n",
        "  gcs_image_loc.columns = [\"image_uri\"]\n",
        "\n",
        "  df_with_gcs_image_uri = pd.concat([df, gcs_image_loc], axis=0)\n",
        "  df_with_gcs_image_uri = df_with_gcs_image_uri.drop('image', axis=1)\n",
        "\n",
        "  return df_with_gcs_image_uri"
      ]
    },
    {
      "cell_type": "code",
      "execution_count": null,
      "metadata": {
        "id": "nR8gqj8cfcRs"
      },
      "outputs": [],
      "source": [
        "df_with_gcs_image_uri = get_product_image(df_with_cat)"
      ]
    },
    {
      "cell_type": "code",
      "execution_count": null,
      "metadata": {
        "colab": {
          "base_uri": "https://localhost:8080/"
        },
        "id": "3I9wqBozDfo4",
        "outputId": "d33fd19c-69ec-48dc-ede9-dd71ba2c0ede"
      },
      "outputs": [
        {
          "name": "stdout",
          "output_type": "stream",
          "text": [
            "<class 'pandas.core.frame.DataFrame'>\n",
            "Int64Index: 20000 entries, 0 to 19999\n",
            "Data columns (total 12 columns):\n",
            " #   Column                  Non-Null Count  Dtype \n",
            "---  ------                  --------------  ----- \n",
            " 0   uniq_id                 20000 non-null  object\n",
            " 1   product_name            20000 non-null  object\n",
            " 2   description             20000 non-null  object\n",
            " 3   brand                   14136 non-null  object\n",
            " 4   image                   19997 non-null  object\n",
            " 5   product_specifications  19986 non-null  object\n",
            " 6   c0_name                 20000 non-null  object\n",
            " 7   c1_name                 19672 non-null  object\n",
            " 8   c2_name                 18543 non-null  object\n",
            " 9   c3_name                 14124 non-null  object\n",
            " 10  attributes              19986 non-null  object\n",
            " 11  image_uri               18360 non-null  object\n",
            "dtypes: object(12)\n",
            "memory usage: 2.0+ MB\n"
          ]
        }
      ],
      "source": [
        "df_with_gcs_image_uri.info()"
      ]
    },
    {
      "cell_type": "code",
      "execution_count": null,
      "metadata": {
        "id": "Iut4oFWqweUq"
      },
      "outputs": [],
      "source": [
        "#Filtering null values\n",
        "non_null_image_df = df_with_gcs_image_uri[df_with_gcs_image_uri['image_uri'].notnull()]\n",
        "non_null_image_df = non_null_image_df[non_null_image_df['description'].notnull()]"
      ]
    },
    {
      "cell_type": "code",
      "execution_count": null,
      "metadata": {
        "colab": {
          "base_uri": "https://localhost:8080/"
        },
        "id": "RI5QqTY-wuYb",
        "outputId": "27981c60-0aea-414d-d5fa-943748531a8b"
      },
      "outputs": [
        {
          "name": "stdout",
          "output_type": "stream",
          "text": [
            "<class 'pandas.core.frame.DataFrame'>\n",
            "Int64Index: 18360 entries, 0 to 19999\n",
            "Data columns (total 12 columns):\n",
            " #   Column                  Non-Null Count  Dtype \n",
            "---  ------                  --------------  ----- \n",
            " 0   uniq_id                 18360 non-null  object\n",
            " 1   product_name            18360 non-null  object\n",
            " 2   description             18360 non-null  object\n",
            " 3   brand                   13476 non-null  object\n",
            " 4   image                   18360 non-null  object\n",
            " 5   product_specifications  18347 non-null  object\n",
            " 6   c0_name                 18360 non-null  object\n",
            " 7   c1_name                 18064 non-null  object\n",
            " 8   c2_name                 16940 non-null  object\n",
            " 9   c3_name                 12829 non-null  object\n",
            " 10  attributes              18347 non-null  object\n",
            " 11  image_uri               18360 non-null  object\n",
            "dtypes: object(12)\n",
            "memory usage: 1.8+ MB\n"
          ]
        }
      ],
      "source": [
        "non_null_image_df.info()"
      ]
    },
    {
      "cell_type": "code",
      "execution_count": null,
      "metadata": {
        "colab": {
          "base_uri": "https://localhost:8080/"
        },
        "id": "zRXQYZWSxUuG",
        "outputId": "9e384def-ed37-47e5-85e9-37f62301ae30"
      },
      "outputs": [
        {
          "name": "stdout",
          "output_type": "stream",
          "text": [
            "<class 'pandas.core.frame.DataFrame'>\n",
            "Int64Index: 18360 entries, 0 to 19999\n",
            "Data columns (total 10 columns):\n",
            " #   Column        Non-Null Count  Dtype \n",
            "---  ------        --------------  ----- \n",
            " 0   uniq_id       18360 non-null  object\n",
            " 1   product_name  18360 non-null  object\n",
            " 2   description   18360 non-null  object\n",
            " 3   brand         13476 non-null  object\n",
            " 4   c0_name       18360 non-null  object\n",
            " 5   c1_name       18064 non-null  object\n",
            " 6   c2_name       16940 non-null  object\n",
            " 7   c3_name       12829 non-null  object\n",
            " 8   attributes    18347 non-null  object\n",
            " 9   image_uri     18360 non-null  object\n",
            "dtypes: object(10)\n",
            "memory usage: 1.5+ MB\n"
          ]
        }
      ],
      "source": [
        "#Dropping redundant columns\n",
        "non_null_image_df = non_null_image_df.drop(['image','product_specifications'], axis=1)\n",
        "non_null_image_df.info()"
      ]
    },
    {
      "cell_type": "code",
      "execution_count": null,
      "metadata": {
        "id": "b5mE7LzACOJp"
      },
      "outputs": [],
      "source": [
        "non_null_image_df.to_csv('flipkart_preprocessed.csv', header=False, index=False)"
      ]
    },
    {
      "cell_type": "code",
      "execution_count": null,
      "metadata": {
        "colab": {
          "base_uri": "https://localhost:8080/",
          "height": 591
        },
        "id": "41uf-cyJFGbI",
        "outputId": "fada63d8-1854-4894-8fb0-f818e0fe5c2d"
      },
      "outputs": [
        {
          "data": {
            "text/html": [
              "\n",
              "  <div id=\"df-ba8cb549-e69f-47c6-99d3-cb7b1490b523\" class=\"colab-df-container\">\n",
              "    <div>\n",
              "<style scoped>\n",
              "    .dataframe tbody tr th:only-of-type {\n",
              "        vertical-align: middle;\n",
              "    }\n",
              "\n",
              "    .dataframe tbody tr th {\n",
              "        vertical-align: top;\n",
              "    }\n",
              "\n",
              "    .dataframe thead th {\n",
              "        text-align: right;\n",
              "    }\n",
              "</style>\n",
              "<table border=\"1\" class=\"dataframe\">\n",
              "  <thead>\n",
              "    <tr style=\"text-align: right;\">\n",
              "      <th></th>\n",
              "      <th>uniq_id</th>\n",
              "      <th>product_name</th>\n",
              "      <th>description</th>\n",
              "      <th>brand</th>\n",
              "      <th>c0_name</th>\n",
              "      <th>c1_name</th>\n",
              "      <th>c2_name</th>\n",
              "      <th>c3_name</th>\n",
              "      <th>attributes</th>\n",
              "      <th>image_uri</th>\n",
              "    </tr>\n",
              "  </thead>\n",
              "  <tbody>\n",
              "    <tr>\n",
              "      <th>0</th>\n",
              "      <td>c2d766ca982eca8304150849735ffef9</td>\n",
              "      <td>Alisha Solid Women's Cycling Shorts</td>\n",
              "      <td>key feature alisha solid woman cycling short c...</td>\n",
              "      <td>Alisha</td>\n",
              "      <td>Clothing</td>\n",
              "      <td>Women's Clothing</td>\n",
              "      <td>Lingerie, Sleep &amp; Swimwear</td>\n",
              "      <td>Shorts</td>\n",
              "      <td>{\"Number of Contents in Sales Package\": \"Pack ...</td>\n",
              "      <td>gs://genai-product-catalog/flipkart_20k_oct26/...</td>\n",
              "    </tr>\n",
              "    <tr>\n",
              "      <th>1</th>\n",
              "      <td>7f7036a6d550aaa89d34c77bd39a5e48</td>\n",
              "      <td>FabHomeDecor Fabric Double Sofa Bed</td>\n",
              "      <td>fabhomedecor fabric double sofa bed finish col...</td>\n",
              "      <td>FabHomeDecor</td>\n",
              "      <td>Furniture</td>\n",
              "      <td>Living Room Furniture</td>\n",
              "      <td>Sofa Beds &amp; Futons</td>\n",
              "      <td>FabHomeDecor Fabric Double Sofa Bed (Finish Co...</td>\n",
              "      <td>{\"Installation &amp; Demo Details\": \"Installation ...</td>\n",
              "      <td>gs://genai-product-catalog/flipkart_20k_oct26/...</td>\n",
              "    </tr>\n",
              "    <tr>\n",
              "      <th>2</th>\n",
              "      <td>f449ec65dcbc041b6ae5e6a32717d01b</td>\n",
              "      <td>AW Bellies</td>\n",
              "      <td>key feature aw belly sandal wedge heel casual ...</td>\n",
              "      <td>AW</td>\n",
              "      <td>Footwear</td>\n",
              "      <td>Women's Footwear</td>\n",
              "      <td>Ballerinas</td>\n",
              "      <td>AW Bellies</td>\n",
              "      <td>{\"Ideal For\": \"Women\", \"Occasion\": \"Casual\", \"...</td>\n",
              "      <td>gs://genai-product-catalog/flipkart_20k_oct26/...</td>\n",
              "    </tr>\n",
              "    <tr>\n",
              "      <th>3</th>\n",
              "      <td>0973b37acd0c664e3de26e97e5571454</td>\n",
              "      <td>Alisha Solid Women's Cycling Shorts</td>\n",
              "      <td>key feature alisha solid woman cycling short c...</td>\n",
              "      <td>Alisha</td>\n",
              "      <td>Clothing</td>\n",
              "      <td>Women's Clothing</td>\n",
              "      <td>Lingerie, Sleep &amp; Swimwear</td>\n",
              "      <td>Shorts</td>\n",
              "      <td>{\"Number of Contents in Sales Package\": \"Pack ...</td>\n",
              "      <td>gs://genai-product-catalog/flipkart_20k_oct26/...</td>\n",
              "    </tr>\n",
              "    <tr>\n",
              "      <th>5</th>\n",
              "      <td>c2a17313954882c1dba461863e98adf2</td>\n",
              "      <td>Eternal Gandhi Super Series Crystal Paper Weig...</td>\n",
              "      <td>key feature eternal gandhi super series crysta...</td>\n",
              "      <td>Eternal Gandhi</td>\n",
              "      <td>Eternal Gandhi Super Series Crystal Paper Weig...</td>\n",
              "      <td>None</td>\n",
              "      <td>None</td>\n",
              "      <td>None</td>\n",
              "      <td>{\"Model Name\": \"Gandhi Paper Weight Mark V\", \"...</td>\n",
              "      <td>gs://genai-product-catalog/flipkart_20k_oct26/...</td>\n",
              "    </tr>\n",
              "  </tbody>\n",
              "</table>\n",
              "</div>\n",
              "    <div class=\"colab-df-buttons\">\n",
              "\n",
              "  <div class=\"colab-df-container\">\n",
              "    <button class=\"colab-df-convert\" onclick=\"convertToInteractive('df-ba8cb549-e69f-47c6-99d3-cb7b1490b523')\"\n",
              "            title=\"Convert this dataframe to an interactive table.\"\n",
              "            style=\"display:none;\">\n",
              "\n",
              "  <svg xmlns=\"http://www.w3.org/2000/svg\" height=\"24px\" viewBox=\"0 -960 960 960\">\n",
              "    <path d=\"M120-120v-720h720v720H120Zm60-500h600v-160H180v160Zm220 220h160v-160H400v160Zm0 220h160v-160H400v160ZM180-400h160v-160H180v160Zm440 0h160v-160H620v160ZM180-180h160v-160H180v160Zm440 0h160v-160H620v160Z\"/>\n",
              "  </svg>\n",
              "    </button>\n",
              "\n",
              "  <style>\n",
              "    .colab-df-container {\n",
              "      display:flex;\n",
              "      gap: 12px;\n",
              "    }\n",
              "\n",
              "    .colab-df-convert {\n",
              "      background-color: #E8F0FE;\n",
              "      border: none;\n",
              "      border-radius: 50%;\n",
              "      cursor: pointer;\n",
              "      display: none;\n",
              "      fill: #1967D2;\n",
              "      height: 32px;\n",
              "      padding: 0 0 0 0;\n",
              "      width: 32px;\n",
              "    }\n",
              "\n",
              "    .colab-df-convert:hover {\n",
              "      background-color: #E2EBFA;\n",
              "      box-shadow: 0px 1px 2px rgba(60, 64, 67, 0.3), 0px 1px 3px 1px rgba(60, 64, 67, 0.15);\n",
              "      fill: #174EA6;\n",
              "    }\n",
              "\n",
              "    .colab-df-buttons div {\n",
              "      margin-bottom: 4px;\n",
              "    }\n",
              "\n",
              "    [theme=dark] .colab-df-convert {\n",
              "      background-color: #3B4455;\n",
              "      fill: #D2E3FC;\n",
              "    }\n",
              "\n",
              "    [theme=dark] .colab-df-convert:hover {\n",
              "      background-color: #434B5C;\n",
              "      box-shadow: 0px 1px 3px 1px rgba(0, 0, 0, 0.15);\n",
              "      filter: drop-shadow(0px 1px 2px rgba(0, 0, 0, 0.3));\n",
              "      fill: #FFFFFF;\n",
              "    }\n",
              "  </style>\n",
              "\n",
              "    <script>\n",
              "      const buttonEl =\n",
              "        document.querySelector('#df-ba8cb549-e69f-47c6-99d3-cb7b1490b523 button.colab-df-convert');\n",
              "      buttonEl.style.display =\n",
              "        google.colab.kernel.accessAllowed ? 'block' : 'none';\n",
              "\n",
              "      async function convertToInteractive(key) {\n",
              "        const element = document.querySelector('#df-ba8cb549-e69f-47c6-99d3-cb7b1490b523');\n",
              "        const dataTable =\n",
              "          await google.colab.kernel.invokeFunction('convertToInteractive',\n",
              "                                                    [key], {});\n",
              "        if (!dataTable) return;\n",
              "\n",
              "        const docLinkHtml = 'Like what you see? Visit the ' +\n",
              "          '<a target=\"_blank\" href=https://colab.research.google.com/notebooks/data_table.ipynb>data table notebook</a>'\n",
              "          + ' to learn more about interactive tables.';\n",
              "        element.innerHTML = '';\n",
              "        dataTable['output_type'] = 'display_data';\n",
              "        await google.colab.output.renderOutput(dataTable, element);\n",
              "        const docLink = document.createElement('div');\n",
              "        docLink.innerHTML = docLinkHtml;\n",
              "        element.appendChild(docLink);\n",
              "      }\n",
              "    </script>\n",
              "  </div>\n",
              "\n",
              "\n",
              "<div id=\"df-821b27d7-c4d7-4122-9a05-9182dae10588\">\n",
              "  <button class=\"colab-df-quickchart\" onclick=\"quickchart('df-821b27d7-c4d7-4122-9a05-9182dae10588')\"\n",
              "            title=\"Suggest charts\"\n",
              "            style=\"display:none;\">\n",
              "\n",
              "<svg xmlns=\"http://www.w3.org/2000/svg\" height=\"24px\"viewBox=\"0 0 24 24\"\n",
              "     width=\"24px\">\n",
              "    <g>\n",
              "        <path d=\"M19 3H5c-1.1 0-2 .9-2 2v14c0 1.1.9 2 2 2h14c1.1 0 2-.9 2-2V5c0-1.1-.9-2-2-2zM9 17H7v-7h2v7zm4 0h-2V7h2v10zm4 0h-2v-4h2v4z\"/>\n",
              "    </g>\n",
              "</svg>\n",
              "  </button>\n",
              "\n",
              "<style>\n",
              "  .colab-df-quickchart {\n",
              "      --bg-color: #E8F0FE;\n",
              "      --fill-color: #1967D2;\n",
              "      --hover-bg-color: #E2EBFA;\n",
              "      --hover-fill-color: #174EA6;\n",
              "      --disabled-fill-color: #AAA;\n",
              "      --disabled-bg-color: #DDD;\n",
              "  }\n",
              "\n",
              "  [theme=dark] .colab-df-quickchart {\n",
              "      --bg-color: #3B4455;\n",
              "      --fill-color: #D2E3FC;\n",
              "      --hover-bg-color: #434B5C;\n",
              "      --hover-fill-color: #FFFFFF;\n",
              "      --disabled-bg-color: #3B4455;\n",
              "      --disabled-fill-color: #666;\n",
              "  }\n",
              "\n",
              "  .colab-df-quickchart {\n",
              "    background-color: var(--bg-color);\n",
              "    border: none;\n",
              "    border-radius: 50%;\n",
              "    cursor: pointer;\n",
              "    display: none;\n",
              "    fill: var(--fill-color);\n",
              "    height: 32px;\n",
              "    padding: 0;\n",
              "    width: 32px;\n",
              "  }\n",
              "\n",
              "  .colab-df-quickchart:hover {\n",
              "    background-color: var(--hover-bg-color);\n",
              "    box-shadow: 0 1px 2px rgba(60, 64, 67, 0.3), 0 1px 3px 1px rgba(60, 64, 67, 0.15);\n",
              "    fill: var(--button-hover-fill-color);\n",
              "  }\n",
              "\n",
              "  .colab-df-quickchart-complete:disabled,\n",
              "  .colab-df-quickchart-complete:disabled:hover {\n",
              "    background-color: var(--disabled-bg-color);\n",
              "    fill: var(--disabled-fill-color);\n",
              "    box-shadow: none;\n",
              "  }\n",
              "\n",
              "  .colab-df-spinner {\n",
              "    border: 2px solid var(--fill-color);\n",
              "    border-color: transparent;\n",
              "    border-bottom-color: var(--fill-color);\n",
              "    animation:\n",
              "      spin 1s steps(1) infinite;\n",
              "  }\n",
              "\n",
              "  @keyframes spin {\n",
              "    0% {\n",
              "      border-color: transparent;\n",
              "      border-bottom-color: var(--fill-color);\n",
              "      border-left-color: var(--fill-color);\n",
              "    }\n",
              "    20% {\n",
              "      border-color: transparent;\n",
              "      border-left-color: var(--fill-color);\n",
              "      border-top-color: var(--fill-color);\n",
              "    }\n",
              "    30% {\n",
              "      border-color: transparent;\n",
              "      border-left-color: var(--fill-color);\n",
              "      border-top-color: var(--fill-color);\n",
              "      border-right-color: var(--fill-color);\n",
              "    }\n",
              "    40% {\n",
              "      border-color: transparent;\n",
              "      border-right-color: var(--fill-color);\n",
              "      border-top-color: var(--fill-color);\n",
              "    }\n",
              "    60% {\n",
              "      border-color: transparent;\n",
              "      border-right-color: var(--fill-color);\n",
              "    }\n",
              "    80% {\n",
              "      border-color: transparent;\n",
              "      border-right-color: var(--fill-color);\n",
              "      border-bottom-color: var(--fill-color);\n",
              "    }\n",
              "    90% {\n",
              "      border-color: transparent;\n",
              "      border-bottom-color: var(--fill-color);\n",
              "    }\n",
              "  }\n",
              "</style>\n",
              "\n",
              "  <script>\n",
              "    async function quickchart(key) {\n",
              "      const quickchartButtonEl =\n",
              "        document.querySelector('#' + key + ' button');\n",
              "      quickchartButtonEl.disabled = true;  // To prevent multiple clicks.\n",
              "      quickchartButtonEl.classList.add('colab-df-spinner');\n",
              "      try {\n",
              "        const charts = await google.colab.kernel.invokeFunction(\n",
              "            'suggestCharts', [key], {});\n",
              "      } catch (error) {\n",
              "        console.error('Error during call to suggestCharts:', error);\n",
              "      }\n",
              "      quickchartButtonEl.classList.remove('colab-df-spinner');\n",
              "      quickchartButtonEl.classList.add('colab-df-quickchart-complete');\n",
              "    }\n",
              "    (() => {\n",
              "      let quickchartButtonEl =\n",
              "        document.querySelector('#df-821b27d7-c4d7-4122-9a05-9182dae10588 button');\n",
              "      quickchartButtonEl.style.display =\n",
              "        google.colab.kernel.accessAllowed ? 'block' : 'none';\n",
              "    })();\n",
              "  </script>\n",
              "</div>\n",
              "\n",
              "    </div>\n",
              "  </div>\n"
            ],
            "text/plain": [
              "                            uniq_id  \\\n",
              "0  c2d766ca982eca8304150849735ffef9   \n",
              "1  7f7036a6d550aaa89d34c77bd39a5e48   \n",
              "2  f449ec65dcbc041b6ae5e6a32717d01b   \n",
              "3  0973b37acd0c664e3de26e97e5571454   \n",
              "5  c2a17313954882c1dba461863e98adf2   \n",
              "\n",
              "                                        product_name  \\\n",
              "0                Alisha Solid Women's Cycling Shorts   \n",
              "1                FabHomeDecor Fabric Double Sofa Bed   \n",
              "2                                         AW Bellies   \n",
              "3                Alisha Solid Women's Cycling Shorts   \n",
              "5  Eternal Gandhi Super Series Crystal Paper Weig...   \n",
              "\n",
              "                                         description           brand  \\\n",
              "0  key feature alisha solid woman cycling short c...          Alisha   \n",
              "1  fabhomedecor fabric double sofa bed finish col...    FabHomeDecor   \n",
              "2  key feature aw belly sandal wedge heel casual ...              AW   \n",
              "3  key feature alisha solid woman cycling short c...          Alisha   \n",
              "5  key feature eternal gandhi super series crysta...  Eternal Gandhi   \n",
              "\n",
              "                                             c0_name                c1_name  \\\n",
              "0                                           Clothing       Women's Clothing   \n",
              "1                                          Furniture  Living Room Furniture   \n",
              "2                                           Footwear       Women's Footwear   \n",
              "3                                           Clothing       Women's Clothing   \n",
              "5  Eternal Gandhi Super Series Crystal Paper Weig...                   None   \n",
              "\n",
              "                      c2_name  \\\n",
              "0  Lingerie, Sleep & Swimwear   \n",
              "1          Sofa Beds & Futons   \n",
              "2                  Ballerinas   \n",
              "3  Lingerie, Sleep & Swimwear   \n",
              "5                        None   \n",
              "\n",
              "                                             c3_name  \\\n",
              "0                                             Shorts   \n",
              "1  FabHomeDecor Fabric Double Sofa Bed (Finish Co...   \n",
              "2                                         AW Bellies   \n",
              "3                                             Shorts   \n",
              "5                                               None   \n",
              "\n",
              "                                          attributes  \\\n",
              "0  {\"Number of Contents in Sales Package\": \"Pack ...   \n",
              "1  {\"Installation & Demo Details\": \"Installation ...   \n",
              "2  {\"Ideal For\": \"Women\", \"Occasion\": \"Casual\", \"...   \n",
              "3  {\"Number of Contents in Sales Package\": \"Pack ...   \n",
              "5  {\"Model Name\": \"Gandhi Paper Weight Mark V\", \"...   \n",
              "\n",
              "                                           image_uri  \n",
              "0  gs://genai-product-catalog/flipkart_20k_oct26/...  \n",
              "1  gs://genai-product-catalog/flipkart_20k_oct26/...  \n",
              "2  gs://genai-product-catalog/flipkart_20k_oct26/...  \n",
              "3  gs://genai-product-catalog/flipkart_20k_oct26/...  \n",
              "5  gs://genai-product-catalog/flipkart_20k_oct26/...  "
            ]
          },
          "execution_count": 64,
          "metadata": {},
          "output_type": "execute_result"
        }
      ],
      "source": [
        "non_null_image_df.head()"
      ]
    },
    {
      "cell_type": "code",
      "execution_count": null,
      "metadata": {
        "id": "xa4S0iV-irUt"
      },
      "outputs": [],
      "source": [
        "#renaming column name to match embedding generation code\n",
        "non_null_image_df.rename(columns={'uniq_id':'id'}, inplace=True)"
      ]
    },
    {
      "cell_type": "markdown",
      "metadata": {
        "id": "i4mCisiuRz-h"
      },
      "source": [
        "# Upload preprocessed data into BigQuery"
      ]
    },
    {
      "cell_type": "code",
      "execution_count": null,
      "metadata": {
        "id": "Y2GI2MaHSC6c"
      },
      "outputs": [],
      "source": [
        "from google.cloud import bigquery\n",
        "\n",
        "def create_table(client, table_id, schema):\n",
        "    table = bigquery.Table(table_id, schema=schema)\n",
        "    table = client.create_table(table,exists_ok=True)  # Make an API request\n",
        "    print(\n",
        "        \"Created table {}.{}.{}\".format(table.project, table.dataset_id, table.table_id)\n",
        "    )\n",
        "def upload_df_into_bq(client, table_id, df):\n",
        "    #df.to_gbq(table_id, PROJECT, if_exists='replace', progress_bar=True)\n",
        "    job_config = bigquery.LoadJobConfig(schema=schema)\n",
        "    job_config.write_disposition = bigquery.WriteDisposition.WRITE_TRUNCATE\n",
        "    #job_config.skip_leading_rows = 1\n",
        "    job_config.autodetect = False\n",
        "    job_config.source_format = 'CSV'\n",
        "    job = client.load_table_from_dataframe(df, table_id, job_config=job_config)\n",
        "    job.result()\n",
        "    print(\n",
        "        \"Uploaded dataframe into table {}.{}\".format(PROJECT, table_id)\n",
        "    )"
      ]
    },
    {
      "cell_type": "code",
      "execution_count": null,
      "metadata": {
        "id": "VAr6u-pPTRYE"
      },
      "outputs": [],
      "source": [
        "PROJECT = 'solutions-2023-mar-107' # UPDATE\n",
        "LOCATION = 'us-central1' # UPDATE\n",
        "table_id = 'solutions-2023-mar-107.flipkart.preprocessed_data' # UPDATE\n",
        "\n",
        "schema = [\n",
        "    bigquery.SchemaField('id', 'STRING', mode='REQUIRED'),\n",
        "    bigquery.SchemaField('product_name', 'STRING', mode='REQUIRED'),\n",
        "    bigquery.SchemaField('description', 'STRING', mode='REQUIRED'),\n",
        "    bigquery.SchemaField('brand', 'STRING', mode='NULLABLE'),\n",
        "    bigquery.SchemaField('c0_name', 'STRING', mode='NULLABLE'),\n",
        "    bigquery.SchemaField('c1_name', 'STRING', mode='NULLABLE'),\n",
        "    bigquery.SchemaField('c2_name', 'STRING', mode='NULLABLE'),\n",
        "    bigquery.SchemaField('c3_name', 'STRING', mode='NULLABLE'),\n",
        "    bigquery.SchemaField('attributes', 'JSON', mode='NULLABLE'),\n",
        "    bigquery.SchemaField('image_uri', 'STRING', mode='REQUIRED')\n",
        "]\n",
        "client = bigquery.Client(PROJECT)\n",
        "\n",
        "create_table(client, table_id, schema)\n",
        "\n",
        "upload_df_into_bq(client, table_id, non_null_image_df)\n"
      ]
    },
    {
      "cell_type": "markdown",
      "metadata": {
        "id": "4AjXB8_UiyzR"
      },
      "source": [
        "**Adding new (empty) columns for text & image embeddings**"
      ]
    },
    {
      "cell_type": "code",
      "execution_count": null,
      "metadata": {
        "colab": {
          "base_uri": "https://localhost:8080/"
        },
        "id": "g3BgQz2ZTaFN",
        "outputId": "c4d3f0d2-9416-4965-b6fe-a9c8a77adf1d"
      },
      "outputs": [
        {
          "name": "stdout",
          "output_type": "stream",
          "text": [
            "Two new columns have been added.\n"
          ]
        }
      ],
      "source": [
        "table = client.get_table(table_id)\n",
        "original_schema = table.schema\n",
        "new_schema = original_schema[:]  # Creates a copy of the schema.\n",
        "new_schema.append(bigquery.SchemaField('text_embedding', 'FLOAT', mode='REPEATED'))\n",
        "new_schema.append(bigquery.SchemaField('image_embedding', 'FLOAT', mode='REPEATED'))\n",
        "\n",
        "table.schema = new_schema\n",
        "table = client.update_table(table, [\"schema\"])  # Make an API request.\n",
        "\n",
        "if len(table.schema) == len(original_schema) + 2 == len(new_schema):\n",
        "    print(\"Two new columns have been added.\")\n",
        "else:\n",
        "    print(\"Something went wrong.\")"
      ]
    }
  ],
  "metadata": {
    "colab": {
      "provenance": [],
      "toc_visible": true
    },
    "kernelspec": {
      "display_name": "Python 3",
      "name": "python3"
    },
    "language_info": {
      "codemirror_mode": {
        "name": "ipython",
        "version": 3
      },
      "file_extension": ".py",
      "mimetype": "text/x-python",
      "name": "python",
      "nbconvert_exporter": "python",
      "pygments_lexer": "ipython3",
      "version": "3.9.2"
    }
  },
  "nbformat": 4,
  "nbformat_minor": 0
}
