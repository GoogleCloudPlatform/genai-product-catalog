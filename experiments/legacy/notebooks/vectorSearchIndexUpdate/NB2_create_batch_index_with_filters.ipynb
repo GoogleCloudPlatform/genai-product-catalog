{
  "nbformat": 4,
  "nbformat_minor": 0,
  "metadata": {
    "colab": {
      "provenance": [],
      "toc_visible": true
    },
    "kernelspec": {
      "name": "python3",
      "display_name": "Python 3"
    },
    "language_info": {
      "name": "python"
    }
  },
  "cells": [
    {
      "cell_type": "markdown",
      "source": [
        "# Objective\n",
        "\n",
        "Given a list of embeddings[with restrict fields], create and deploy a Vertex AI Vector Search (fka Matching Engine) Batch index - with filters to narrow down the search"
      ],
      "metadata": {
        "id": "7vnvQ8BvtCwK"
      }
    },
    {
      "cell_type": "markdown",
      "source": [
        "# Install libraries"
      ],
      "metadata": {
        "id": "6Bu9Ews9uln9"
      }
    },
    {
      "cell_type": "code",
      "source": [
        "!pip install google-cloud-aiplatform"
      ],
      "metadata": {
        "colab": {
          "base_uri": "https://localhost:8080/"
        },
        "id": "qm-5DISXtSo9",
        "outputId": "0ba5f896-0916-49f6-d68d-a63296680298"
      },
      "execution_count": null,
      "outputs": [
        {
          "output_type": "stream",
          "name": "stdout",
          "text": [
            "Requirement already satisfied: google-cloud-aiplatform in /usr/local/lib/python3.10/dist-packages (1.38.1)\n",
            "Requirement already satisfied: google-api-core[grpc]!=2.0.*,!=2.1.*,!=2.2.*,!=2.3.*,!=2.4.*,!=2.5.*,!=2.6.*,!=2.7.*,<3.0.0dev,>=1.32.0 in /usr/local/lib/python3.10/dist-packages (from google-cloud-aiplatform) (2.11.1)\n",
            "Requirement already satisfied: proto-plus<2.0.0dev,>=1.22.0 in /usr/local/lib/python3.10/dist-packages (from google-cloud-aiplatform) (1.23.0)\n",
            "Requirement already satisfied: protobuf!=3.20.0,!=3.20.1,!=4.21.0,!=4.21.1,!=4.21.2,!=4.21.3,!=4.21.4,!=4.21.5,<5.0.0dev,>=3.19.5 in /usr/local/lib/python3.10/dist-packages (from google-cloud-aiplatform) (3.20.3)\n",
            "Requirement already satisfied: packaging>=14.3 in /usr/local/lib/python3.10/dist-packages (from google-cloud-aiplatform) (23.2)\n",
            "Requirement already satisfied: google-cloud-storage<3.0.0dev,>=1.32.0 in /usr/local/lib/python3.10/dist-packages (from google-cloud-aiplatform) (2.8.0)\n",
            "Requirement already satisfied: google-cloud-bigquery<4.0.0dev,>=1.15.0 in /usr/local/lib/python3.10/dist-packages (from google-cloud-aiplatform) (3.12.0)\n",
            "Requirement already satisfied: google-cloud-resource-manager<3.0.0dev,>=1.3.3 in /usr/local/lib/python3.10/dist-packages (from google-cloud-aiplatform) (1.11.0)\n",
            "Requirement already satisfied: shapely<3.0.0dev in /usr/local/lib/python3.10/dist-packages (from google-cloud-aiplatform) (2.0.2)\n",
            "Requirement already satisfied: googleapis-common-protos<2.0.dev0,>=1.56.2 in /usr/local/lib/python3.10/dist-packages (from google-api-core[grpc]!=2.0.*,!=2.1.*,!=2.2.*,!=2.3.*,!=2.4.*,!=2.5.*,!=2.6.*,!=2.7.*,<3.0.0dev,>=1.32.0->google-cloud-aiplatform) (1.62.0)\n",
            "Requirement already satisfied: google-auth<3.0.dev0,>=2.14.1 in /usr/local/lib/python3.10/dist-packages (from google-api-core[grpc]!=2.0.*,!=2.1.*,!=2.2.*,!=2.3.*,!=2.4.*,!=2.5.*,!=2.6.*,!=2.7.*,<3.0.0dev,>=1.32.0->google-cloud-aiplatform) (2.17.3)\n",
            "Requirement already satisfied: requests<3.0.0.dev0,>=2.18.0 in /usr/local/lib/python3.10/dist-packages (from google-api-core[grpc]!=2.0.*,!=2.1.*,!=2.2.*,!=2.3.*,!=2.4.*,!=2.5.*,!=2.6.*,!=2.7.*,<3.0.0dev,>=1.32.0->google-cloud-aiplatform) (2.31.0)\n",
            "Requirement already satisfied: grpcio<2.0dev,>=1.33.2 in /usr/local/lib/python3.10/dist-packages (from google-api-core[grpc]!=2.0.*,!=2.1.*,!=2.2.*,!=2.3.*,!=2.4.*,!=2.5.*,!=2.6.*,!=2.7.*,<3.0.0dev,>=1.32.0->google-cloud-aiplatform) (1.60.0)\n",
            "Requirement already satisfied: grpcio-status<2.0.dev0,>=1.33.2 in /usr/local/lib/python3.10/dist-packages (from google-api-core[grpc]!=2.0.*,!=2.1.*,!=2.2.*,!=2.3.*,!=2.4.*,!=2.5.*,!=2.6.*,!=2.7.*,<3.0.0dev,>=1.32.0->google-cloud-aiplatform) (1.48.2)\n",
            "Requirement already satisfied: google-cloud-core<3.0.0dev,>=1.6.0 in /usr/local/lib/python3.10/dist-packages (from google-cloud-bigquery<4.0.0dev,>=1.15.0->google-cloud-aiplatform) (2.3.3)\n",
            "Requirement already satisfied: google-resumable-media<3.0dev,>=0.6.0 in /usr/local/lib/python3.10/dist-packages (from google-cloud-bigquery<4.0.0dev,>=1.15.0->google-cloud-aiplatform) (2.7.0)\n",
            "Requirement already satisfied: python-dateutil<3.0dev,>=2.7.2 in /usr/local/lib/python3.10/dist-packages (from google-cloud-bigquery<4.0.0dev,>=1.15.0->google-cloud-aiplatform) (2.8.2)\n",
            "Requirement already satisfied: grpc-google-iam-v1<1.0.0dev,>=0.12.4 in /usr/local/lib/python3.10/dist-packages (from google-cloud-resource-manager<3.0.0dev,>=1.3.3->google-cloud-aiplatform) (0.13.0)\n",
            "Requirement already satisfied: numpy>=1.14 in /usr/local/lib/python3.10/dist-packages (from shapely<3.0.0dev->google-cloud-aiplatform) (1.23.5)\n",
            "Requirement already satisfied: cachetools<6.0,>=2.0.0 in /usr/local/lib/python3.10/dist-packages (from google-auth<3.0.dev0,>=2.14.1->google-api-core[grpc]!=2.0.*,!=2.1.*,!=2.2.*,!=2.3.*,!=2.4.*,!=2.5.*,!=2.6.*,!=2.7.*,<3.0.0dev,>=1.32.0->google-cloud-aiplatform) (5.3.2)\n",
            "Requirement already satisfied: pyasn1-modules>=0.2.1 in /usr/local/lib/python3.10/dist-packages (from google-auth<3.0.dev0,>=2.14.1->google-api-core[grpc]!=2.0.*,!=2.1.*,!=2.2.*,!=2.3.*,!=2.4.*,!=2.5.*,!=2.6.*,!=2.7.*,<3.0.0dev,>=1.32.0->google-cloud-aiplatform) (0.3.0)\n",
            "Requirement already satisfied: six>=1.9.0 in /usr/local/lib/python3.10/dist-packages (from google-auth<3.0.dev0,>=2.14.1->google-api-core[grpc]!=2.0.*,!=2.1.*,!=2.2.*,!=2.3.*,!=2.4.*,!=2.5.*,!=2.6.*,!=2.7.*,<3.0.0dev,>=1.32.0->google-cloud-aiplatform) (1.16.0)\n",
            "Requirement already satisfied: rsa<5,>=3.1.4 in /usr/local/lib/python3.10/dist-packages (from google-auth<3.0.dev0,>=2.14.1->google-api-core[grpc]!=2.0.*,!=2.1.*,!=2.2.*,!=2.3.*,!=2.4.*,!=2.5.*,!=2.6.*,!=2.7.*,<3.0.0dev,>=1.32.0->google-cloud-aiplatform) (4.9)\n",
            "Requirement already satisfied: google-crc32c<2.0dev,>=1.0 in /usr/local/lib/python3.10/dist-packages (from google-resumable-media<3.0dev,>=0.6.0->google-cloud-bigquery<4.0.0dev,>=1.15.0->google-cloud-aiplatform) (1.5.0)\n",
            "Requirement already satisfied: charset-normalizer<4,>=2 in /usr/local/lib/python3.10/dist-packages (from requests<3.0.0.dev0,>=2.18.0->google-api-core[grpc]!=2.0.*,!=2.1.*,!=2.2.*,!=2.3.*,!=2.4.*,!=2.5.*,!=2.6.*,!=2.7.*,<3.0.0dev,>=1.32.0->google-cloud-aiplatform) (3.3.2)\n",
            "Requirement already satisfied: idna<4,>=2.5 in /usr/local/lib/python3.10/dist-packages (from requests<3.0.0.dev0,>=2.18.0->google-api-core[grpc]!=2.0.*,!=2.1.*,!=2.2.*,!=2.3.*,!=2.4.*,!=2.5.*,!=2.6.*,!=2.7.*,<3.0.0dev,>=1.32.0->google-cloud-aiplatform) (3.6)\n",
            "Requirement already satisfied: urllib3<3,>=1.21.1 in /usr/local/lib/python3.10/dist-packages (from requests<3.0.0.dev0,>=2.18.0->google-api-core[grpc]!=2.0.*,!=2.1.*,!=2.2.*,!=2.3.*,!=2.4.*,!=2.5.*,!=2.6.*,!=2.7.*,<3.0.0dev,>=1.32.0->google-cloud-aiplatform) (2.0.7)\n",
            "Requirement already satisfied: certifi>=2017.4.17 in /usr/local/lib/python3.10/dist-packages (from requests<3.0.0.dev0,>=2.18.0->google-api-core[grpc]!=2.0.*,!=2.1.*,!=2.2.*,!=2.3.*,!=2.4.*,!=2.5.*,!=2.6.*,!=2.7.*,<3.0.0dev,>=1.32.0->google-cloud-aiplatform) (2023.11.17)\n",
            "Requirement already satisfied: pyasn1<0.6.0,>=0.4.6 in /usr/local/lib/python3.10/dist-packages (from pyasn1-modules>=0.2.1->google-auth<3.0.dev0,>=2.14.1->google-api-core[grpc]!=2.0.*,!=2.1.*,!=2.2.*,!=2.3.*,!=2.4.*,!=2.5.*,!=2.6.*,!=2.7.*,<3.0.0dev,>=1.32.0->google-cloud-aiplatform) (0.5.1)\n"
          ]
        }
      ]
    },
    {
      "cell_type": "markdown",
      "source": [
        "---\n",
        "\n",
        "#### ⚠️ Do not forget to click the \"RESTART RUNTIME\" button above.\n",
        "\n",
        "---"
      ],
      "metadata": {
        "id": "3_VyZGh1th7o"
      }
    },
    {
      "cell_type": "markdown",
      "source": [
        "# Authenticate"
      ],
      "metadata": {
        "id": "2RzJ_IAkuslZ"
      }
    },
    {
      "cell_type": "code",
      "source": [
        "import sys\n",
        "\n",
        "if 'google.colab' in sys.modules:\n",
        "    from google.colab import auth as google_auth\n",
        "    google_auth.authenticate_user()"
      ],
      "metadata": {
        "id": "VOEQ-QsLticm"
      },
      "execution_count": null,
      "outputs": []
    },
    {
      "cell_type": "markdown",
      "source": [
        "# Create Index"
      ],
      "metadata": {
        "id": "EhVTSOK3u0M3"
      }
    },
    {
      "cell_type": "code",
      "source": [
        "PROJECT_ID = 'solutions-2023-mar-107' # @param {type:\"string\"}\n",
        "REGION = 'us-central1' # @param {type:\"string\"}\n",
        "BUCKET_URI = 'gs://vector_search_regional/test_filterings' # @param {type:\"string\"} # WHERE EMBEDDINGS ARE STORED"
      ],
      "metadata": {
        "id": "Q6fqlim2tl84"
      },
      "execution_count": null,
      "outputs": []
    },
    {
      "cell_type": "code",
      "source": [
        "from google.cloud import aiplatform\n",
        "aiplatform.init(project=PROJECT_ID, location=REGION, staging_bucket=BUCKET_URI)"
      ],
      "metadata": {
        "id": "gKiM4_sxuA24"
      },
      "execution_count": null,
      "outputs": []
    },
    {
      "cell_type": "code",
      "source": [
        "tree_ah_index = aiplatform.MatchingEngineIndex.create_tree_ah_index(\n",
        "    display_name='flipkart_batch_filtering',\n",
        "    contents_delta_uri=BUCKET_URI,\n",
        "    dimensions=1408,\n",
        "    approximate_neighbors_count=150,\n",
        "    distance_measure_type=\"COSINE_DISTANCE\",\n",
        "    leaf_node_embedding_count=500,\n",
        "    leaf_nodes_to_search_percent=7,\n",
        "    description='Based on ~18K Flipkart product listings with both description and image',\n",
        ")\n"
      ],
      "metadata": {
        "id": "nYA4s8v0uGGd"
      },
      "execution_count": null,
      "outputs": []
    },
    {
      "cell_type": "markdown",
      "source": [
        "# Deploy Index"
      ],
      "metadata": {
        "id": "kW7cQZztvMqI"
      }
    },
    {
      "cell_type": "code",
      "source": [
        "my_index_endpoint = aiplatform.MatchingEngineIndexEndpoint.create(\n",
        "    display_name='flipkart_batch_filtering_endpoint',\n",
        "    description='Endpoint for flipkart_batch_filtering',\n",
        "    public_endpoint_enabled=True,\n",
        ")\n",
        "\n",
        "DEPLOYED_INDEX_ID = 'flipkart_batch_filtering'\n",
        "my_index_endpoint = my_index_endpoint.deploy_index(\n",
        "    index=tree_ah_index, deployed_index_id=DEPLOYED_INDEX_ID\n",
        ")\n",
        "my_index_endpoint.deployed_indexes"
      ],
      "metadata": {
        "id": "R2lntyd2ujaO"
      },
      "execution_count": null,
      "outputs": []
    },
    {
      "cell_type": "markdown",
      "source": [
        "# Query index"
      ],
      "metadata": {
        "id": "DpikL_5OvJy-"
      }
    },
    {
      "cell_type": "code",
      "source": [
        "import base64\n",
        "from google.cloud import aiplatform\n",
        "from google.protobuf import struct_pb2\n",
        "from functools import cache\n",
        "import time\n",
        "import typing\n",
        "import logging\n",
        "\n",
        "# Inspired from https://stackoverflow.com/questions/34269772/type-hints-in-namedtuple.\n",
        "class EmbeddingResponse(typing.NamedTuple):\n",
        "  text_embedding: typing.Sequence[float]\n",
        "  image_embedding: typing.Sequence[float]\n",
        "\n",
        "\n",
        "class EmbeddingPredictionClient:\n",
        "  \"\"\"Wrapper around Prediction Service Client.\"\"\"\n",
        "  def __init__(self, project : str,\n",
        "    location : str = \"us-central1\",\n",
        "    api_regional_endpoint: str = \"us-central1-aiplatform.googleapis.com\"):\n",
        "    client_options = {\"api_endpoint\": api_regional_endpoint}\n",
        "    # Initialize client that will be used to create and send requests.\n",
        "    # This client only needs to be created once, and can be reused for multiple requests.\n",
        "    self.client = aiplatform.gapic.PredictionServiceClient(client_options=client_options)\n",
        "    self.location = location\n",
        "    self.project = project\n",
        "\n",
        "  def get_embedding(self, text : str = None, image_path : str = None):\n",
        "    \"\"\"image_path can be a local path or a GCS URI.\"\"\"\n",
        "    if not text and not image_path:\n",
        "      raise ValueError('At least one of text or image_bytes must be specified.')\n",
        "\n",
        "    instance = struct_pb2.Struct()\n",
        "    if text:\n",
        "      if len(text) > 1024:\n",
        "        logging.warning('Text must be less than 1024 characters. Truncating text.')\n",
        "        text = text[:1024]\n",
        "      instance.fields['text'].string_value = text\n",
        "\n",
        "    if image_path:\n",
        "      image_struct = instance.fields['image'].struct_value\n",
        "      if image_path.lower().startswith('gs://'):\n",
        "        image_struct.fields['gcsUri'].string_value = image_path\n",
        "      else:\n",
        "        with open(image_path, \"rb\") as f:\n",
        "          image_bytes = f.read()\n",
        "        encoded_content = base64.b64encode(image_bytes).decode(\"utf-8\")\n",
        "        image_struct.fields['bytesBase64Encoded'].string_value = encoded_content\n",
        "\n",
        "    instances = [instance]\n",
        "    endpoint = (f\"projects/{self.project}/locations/{self.location}\"\n",
        "      \"/publishers/google/models/multimodalembedding@001\")\n",
        "    response = self.client.predict(endpoint=endpoint, instances=instances)\n",
        "\n",
        "    text_embedding = None\n",
        "    if text:\n",
        "      text_emb_value = response.predictions[0]['textEmbedding']\n",
        "      text_embedding = [v for v in text_emb_value]\n",
        "\n",
        "    image_embedding = None\n",
        "    if image_path:\n",
        "      image_emb_value = response.predictions[0]['imageEmbedding']\n",
        "      image_embedding = [v for v in image_emb_value]\n",
        "\n",
        "    return EmbeddingResponse(\n",
        "      text_embedding=text_embedding,\n",
        "      image_embedding=image_embedding)\n",
        "\n",
        "@cache\n",
        "def get_client(project):\n",
        "  return EmbeddingPredictionClient(project)\n",
        "\n",
        "\n",
        "def embed(project,text,image_path=None):\n",
        "  client = get_client(project)\n",
        "  start = time.time()\n",
        "  response = client.get_embedding(text=text, image_path=image_path)\n",
        "  end = time.time()\n",
        "  print('Embedding Time: ', end - start)\n",
        "  return response"
      ],
      "metadata": {
        "id": "oIo38rXjvKyH"
      },
      "execution_count": null,
      "outputs": []
    },
    {
      "cell_type": "code",
      "source": [
        "res = embed(PROJECT_ID,\n",
        "            \"Key Features of Vishudh Printed Women's Straight Kurta BLACK, GREY Straight,Specifications of Vishudh Printed Women's Straight Kurta Kurta Details Sleeve Sleeveless Number of Contents in Sales Package Pack of 1 Fabric 100% POLYESTER Type Straight Neck ROUND NECK General Details Pattern Printed Occasion Festive Ideal For Women's In the Box Kurta Additional Details Style Code VNKU004374 BLACK::GREY Fabric Care Gentle Machine Wash in Lukewarm Water, Do Not Bleach\",\n",
        "            'gs://genai-product-catalog/flipkart_20k_oct26/3ecb859759e5311cbab6850e98879522_0.jpg')\n",
        "\n",
        "print(res.text_embedding[:5])\n",
        "print(res.image_embedding[:5])"
      ],
      "metadata": {
        "colab": {
          "base_uri": "https://localhost:8080/"
        },
        "id": "HxpJeqeevb2A",
        "outputId": "595ea47e-f68d-45f6-ee1e-74aa9c95cd33"
      },
      "execution_count": null,
      "outputs": [
        {
          "output_type": "stream",
          "name": "stdout",
          "text": [
            "Embedding Time:  0.9179873466491699\n",
            "[-0.0165299587, -0.0692435279, 0.0147972982, 0.0349166, 0.00536285108]\n",
            "[-0.00627784571, 0.0557938404, -0.0300552715, 0.0268275943, 0.0392336547]\n"
          ]
        }
      ]
    },
    {
      "cell_type": "code",
      "source": [
        "!gcloud ai index-endpoints list \\\n",
        "  --project=solutions-2023-mar-107 \\\n",
        "  --region=us-central1"
      ],
      "metadata": {
        "colab": {
          "base_uri": "https://localhost:8080/"
        },
        "id": "joJYKF3HxKRS",
        "outputId": "1ee7a5e8-67ea-41d2-c61d-3e17280b9023"
      },
      "execution_count": null,
      "outputs": [
        {
          "output_type": "stream",
          "name": "stdout",
          "text": [
            "Using endpoint [https://us-central1-aiplatform.googleapis.com/]\n",
            "---\n",
            "createTime: '2023-12-18T08:15:01.086330Z'\n",
            "description: Endpoint on flipkart\n",
            "displayName: flipkart_batch\n",
            "encryptionSpec: {}\n",
            "etag: AMEw9yMncLfvNLAtX8rSW4pi_mUSXH_R9oNvIGj-SKLerlSS34Prq25jE19M_qsiEp0n\n",
            "name: projects/411826505131/locations/us-central1/indexEndpoints/6297373683249840128\n",
            "publicEndpointDomainName: 1154454212.us-central1-411826505131.vdb.vertexai.goog\n",
            "updateTime: '2023-12-18T08:15:01.784596Z'\n",
            "---\n",
            "createTime: '2023-12-08T10:20:13.996148Z'\n",
            "deployedIndexes:\n",
            "- createTime: '2023-12-08T10:24:03.327365Z'\n",
            "  dedicatedResources:\n",
            "    machineSpec:\n",
            "      machineType: e2-standard-16\n",
            "    maxReplicaCount: 2\n",
            "    minReplicaCount: 2\n",
            "  deploymentGroup: default\n",
            "  displayName: flipkart_streaming_filtering_endpoint\n",
            "  id: flipkart_streaming_filteri_1702030773989\n",
            "  index: projects/411826505131/locations/us-central1/indexes/6070927064486117376\n",
            "  indexSyncTime: '2023-12-18T08:23:20.322743Z'\n",
            "displayName: flipkart_streaming_filtering_endpoint\n",
            "encryptionSpec: {}\n",
            "etag: AMEw9yNyqY1nJhQaNINGxoEKeoMccZFnqGegELYld1KJLVAc7KSGm9kcpVEAxBvAnt16\n",
            "name: projects/411826505131/locations/us-central1/indexEndpoints/1641918305943945216\n",
            "publicEndpointDomainName: 216080913.us-central1-411826505131.vdb.vertexai.goog\n",
            "updateTime: '2023-12-08T10:20:15.705275Z'\n",
            "---\n",
            "createTime: '2023-11-29T16:10:26.463182Z'\n",
            "deployedIndexes:\n",
            "- automaticResources:\n",
            "    maxReplicaCount: 2\n",
            "    minReplicaCount: 2\n",
            "  createTime: '2023-11-29T16:10:28.060348Z'\n",
            "  deploymentGroup: default\n",
            "  id: flipkart_batch_filtering\n",
            "  index: projects/411826505131/locations/us-central1/indexes/4261605914190020608\n",
            "  indexSyncTime: '2023-12-18T08:21:46.058905Z'\n",
            "description: Endpoint for flipkart_batch_filtering\n",
            "displayName: flipkart_batch_filtering_endpoint\n",
            "encryptionSpec: {}\n",
            "etag: AMEw9yPE20zt455BRNNe7FziFDnDZXImXYyWscxg3jwFM05jwMrvuCAtyeZ1KBdzxakZ\n",
            "name: projects/411826505131/locations/us-central1/indexEndpoints/4149015923505758208\n",
            "publicEndpointDomainName: 848885253.us-central1-411826505131.vdb.vertexai.goog\n",
            "updateTime: '2023-11-29T16:10:27.322062Z'\n",
            "---\n",
            "createTime: '2023-11-29T02:44:55.471217Z'\n",
            "deployedIndexes:\n",
            "- automaticResources:\n",
            "    maxReplicaCount: 2\n",
            "    minReplicaCount: 2\n",
            "  createTime: '2023-11-29T03:17:18.150044Z'\n",
            "  deploymentGroup: default\n",
            "  id: flipkart_multimodal_streaming\n",
            "  index: projects/411826505131/locations/us-central1/indexes/9179325601046069248\n",
            "  indexSyncTime: '2023-12-18T08:20:04.157013Z'\n",
            "description: Based on 18k flipkart product listings for which we have both a description\n",
            "  and image\n",
            "displayName: flipkart_multimodal_streaming_tree_cosine\n",
            "encryptionSpec: {}\n",
            "etag: AMEw9yNYJ9c61omPILnFBkUx9qREUQESUbTxheybMhlidjDNkybTWZm0c7WAIabEWvw=\n",
            "name: projects/411826505131/locations/us-central1/indexEndpoints/4967334049547812864\n",
            "publicEndpointDomainName: 1193755681.us-central1-411826505131.vdb.vertexai.goog\n",
            "updateTime: '2023-11-29T02:44:56.195478Z'\n",
            "---\n",
            "createTime: '2023-11-02T08:24:25.517069Z'\n",
            "deployedIndexes:\n",
            "- automaticResources:\n",
            "    maxReplicaCount: 2\n",
            "    minReplicaCount: 2\n",
            "  createTime: '2023-11-02T08:25:39.758274Z'\n",
            "  deploymentGroup: default\n",
            "  id: flipkart_muiltimodal_18K\n",
            "  index: projects/411826505131/locations/us-central1/indexes/5316644495645736960\n",
            "  indexSyncTime: '2023-12-18T08:20:09.658901Z'\n",
            "description: Endpoint for Q4 development on Flipkart dataset\n",
            "displayName: flipkart_Q3\n",
            "encryptionSpec: {}\n",
            "etag: AMEw9yPS3sxAYdi5TwonM05ZJ4wbLpEAsnHgAlVTuf3ZWpmAXgz3b11Rbl6UKG3zMNc=\n",
            "name: projects/411826505131/locations/us-central1/indexEndpoints/5145507709805658112\n",
            "publicEndpointDomainName: 421978469.us-central1-411826505131.vdb.vertexai.goog\n",
            "updateTime: '2023-11-02T08:24:26.213626Z'\n",
            "---\n",
            "createTime: '2023-09-21T17:52:22.937141Z'\n",
            "deployedIndexes:\n",
            "- automaticResources:\n",
            "    maxReplicaCount: 2\n",
            "    minReplicaCount: 2\n",
            "  createTime: '2023-09-21T18:01:50.610357Z'\n",
            "  deploymentGroup: default\n",
            "  id: muiltimodal_13K_train\n",
            "  index: projects/411826505131/locations/us-central1/indexes/798535712835108864\n",
            "  indexSyncTime: '2023-12-18T08:19:40.123753Z'\n",
            "description: Endpoint for Q3 development on mercari\n",
            "displayName: mercari_Q3\n",
            "encryptionSpec: {}\n",
            "etag: AMEw9yO4z3bw-BuSrvR3mz6u7F6FbeN6syVc6mYftY_yEwPbza3Y52DaKWlhP2ObRNkf\n",
            "name: projects/411826505131/locations/us-central1/indexEndpoints/8767655253467201536\n",
            "publicEndpointDomainName: 752804901.us-central1-411826505131.vdb.vertexai.goog\n",
            "updateTime: '2023-09-21T17:52:23.696366Z'\n",
            "---\n",
            "createTime: '2023-09-01T17:23:51.012426Z'\n",
            "deployedIndexes:\n",
            "- automaticResources:\n",
            "    maxReplicaCount: 2\n",
            "    minReplicaCount: 2\n",
            "  createTime: '2023-09-01T17:25:32.282432Z'\n",
            "  deploymentGroup: default\n",
            "  id: muiltimodal_13K\n",
            "  index: projects/411826505131/locations/us-central1/indexes/8073397223410368512\n",
            "  indexSyncTime: '2023-12-18T08:19:44.514881Z'\n",
            "description: Endpoint for Q3 development on mercari\n",
            "displayName: mercari_Q3\n",
            "encryptionSpec: {}\n",
            "etag: AMEw9yM8G-BunuEou9ohQSboqjStIVBVtNhQ1UpK601BikiNI-7N-Lxz1FNX--t0jyil\n",
            "name: projects/411826505131/locations/us-central1/indexEndpoints/3917700667254243328\n",
            "publicEndpointDomainName: 186864686.us-central1-411826505131.vdb.vertexai.goog\n",
            "updateTime: '2023-09-01T17:23:51.669414Z'\n",
            "---\n",
            "createTime: '2023-07-15T19:01:35.643835Z'\n",
            "deployedIndexes:\n",
            "- createTime: '2023-07-15T19:02:36.020021Z'\n",
            "  dedicatedResources:\n",
            "    machineSpec:\n",
            "      machineType: e2-standard-2\n",
            "    maxReplicaCount: 10\n",
            "    minReplicaCount: 2\n",
            "  deploymentGroup: default\n",
            "  displayName: nfl_langchain_vectors_20230715190235\n",
            "  id: nfl_langchain_vectors_20230715190235\n",
            "  index: projects/411826505131/locations/us-central1/indexes/5478127569393942528\n",
            "  indexSyncTime: '2023-12-18T08:18:47.852423Z'\n",
            "displayName: nfl-langchain-vectors-endpoint\n",
            "encryptionSpec: {}\n",
            "etag: AMEw9yOhI_GtjPYDPkdvTr-ws14sSs0zHN_6xEqG-tVPva4lNRvPYf8BvwSfrRsoYj5z\n",
            "name: projects/411826505131/locations/us-central1/indexEndpoints/6291871727064449024\n",
            "publicEndpointDomainName: 681729851.us-central1-411826505131.vdb.vertexai.goog\n",
            "updateTime: '2023-07-15T19:01:36.445773Z'\n",
            "---\n",
            "createTime: '2023-06-28T01:15:26.171908Z'\n",
            "deployedIndexes:\n",
            "- automaticResources:\n",
            "    maxReplicaCount: 2\n",
            "    minReplicaCount: 2\n",
            "  createTime: '2023-06-28T01:18:20.355032Z'\n",
            "  deploymentGroup: default\n",
            "  displayName: nflpublic\n",
            "  id: nflpublic\n",
            "  index: projects/411826505131/locations/us-central1/indexes/542639774633033728\n",
            "  indexSyncTime: '2023-12-18T08:23:18.086889Z'\n",
            "displayName: nflpublic\n",
            "encryptionSpec: {}\n",
            "etag: AMEw9yO5-P03Q3zNjgJcFWcmRXgshGeYHSNN98n7tjLEK7jhbsw-yDVu7aMfkl_mZxo1\n",
            "name: projects/411826505131/locations/us-central1/indexEndpoints/6608988472701091840\n",
            "publicEndpointDomainName: 2006714038.us-central1-411826505131.vdb.vertexai.goog\n",
            "updateTime: '2023-06-28T01:15:27.280106Z'\n",
            "---\n",
            "createTime: '2023-06-27T22:08:39.397149Z'\n",
            "deployedIndexes:\n",
            "- automaticResources:\n",
            "    maxReplicaCount: 2\n",
            "    minReplicaCount: 2\n",
            "  createTime: '2023-06-27T22:21:28.373400Z'\n",
            "  deploymentGroup: default\n",
            "  displayName: mecari_stream\n",
            "  id: mecari_stream\n",
            "  index: projects/411826505131/locations/us-central1/indexes/3876429398794043392\n",
            "  indexSyncTime: '2023-12-18T08:19:49.799782Z'\n",
            "displayName: index_endpoint_for_mecari_stream\n",
            "encryptionSpec: {}\n",
            "etag: AMEw9yPXi1C7cUGKoF3clNI0Oz8Uy-AXnLTdnJYFzAqmM7phc_jVqwBMCYN68lQcMvA=\n",
            "name: projects/411826505131/locations/us-central1/indexEndpoints/4652174434608611328\n",
            "publicEndpointDomainName: 1297530219.us-central1-411826505131.vdb.vertexai.goog\n",
            "updateTime: '2023-06-27T22:08:40.222549Z'\n",
            "---\n",
            "createTime: '2023-06-21T00:25:27.415656Z'\n",
            "deployedIndexes:\n",
            "- automaticResources:\n",
            "    maxReplicaCount: 2\n",
            "    minReplicaCount: 2\n",
            "  createTime: '2023-06-21T00:26:15.712235Z'\n",
            "  deploymentGroup: default\n",
            "  displayName: mecari1mm\n",
            "  id: mecari1mm\n",
            "  index: projects/411826505131/locations/us-central1/indexes/3625916669521559552\n",
            "  indexSyncTime: '2023-12-18T08:22:06.298512Z'\n",
            "displayName: mecari1mm\n",
            "encryptionSpec: {}\n",
            "etag: AMEw9yOpP_8pUS7tYMWOPciU5k9Y-vBQE25QoG9k8IUXrcIml0VtqBzu_7eKgdcvtG4=\n",
            "name: projects/411826505131/locations/us-central1/indexEndpoints/5135748444597518336\n",
            "publicEndpointDomainName: 1122704120.us-central1-411826505131.vdb.vertexai.goog\n",
            "updateTime: '2023-06-21T00:25:28.167187Z'\n",
            "---\n",
            "createTime: '2023-06-20T21:49:40.576504Z'\n",
            "deployedIndexes:\n",
            "- automaticResources:\n",
            "    maxReplicaCount: 2\n",
            "    minReplicaCount: 2\n",
            "  createTime: '2023-06-20T21:51:00.433795Z'\n",
            "  deploymentGroup: default\n",
            "  displayName: mecari2\n",
            "  id: mecari2\n",
            "  index: projects/411826505131/locations/us-central1/indexes/3743010259833192448\n",
            "  indexSyncTime: '2023-12-18T08:21:22.991906Z'\n",
            "displayName: mecari2\n",
            "encryptionSpec: {}\n",
            "etag: AMEw9yMHZBxsJi7SEaFtkINW5FQ0gyW1A092u6V42ynMkRC--ji57FQbSSLMa6IMhrZ6\n",
            "name: projects/411826505131/locations/us-central1/indexEndpoints/5726845895689895936\n",
            "publicEndpointDomainName: 1681326733.us-central1-411826505131.vdb.vertexai.goog\n",
            "updateTime: '2023-06-20T21:49:41.278695Z'\n",
            "---\n",
            "createTime: '2023-06-20T19:57:04.598784Z'\n",
            "deployedIndexes:\n",
            "- automaticResources:\n",
            "    maxReplicaCount: 2\n",
            "    minReplicaCount: 2\n",
            "  createTime: '2023-06-20T19:58:13.243293Z'\n",
            "  deploymentGroup: default\n",
            "  displayName: mecari\n",
            "  id: mecari\n",
            "  index: projects/411826505131/locations/us-central1/indexes/1720894027143839744\n",
            "  indexSyncTime: '2023-12-18T08:22:54.798980Z'\n",
            "displayName: mecari\n",
            "encryptionSpec: {}\n",
            "etag: AMEw9yOLMK06nHy8MGD_4FXVF03FNGPaXZKI6sgiK23gVJeORS7r9L0mWG8CxY--eusn\n",
            "name: projects/411826505131/locations/us-central1/indexEndpoints/8609149657207013376\n",
            "publicEndpointDomainName: 297840358.us-central1-411826505131.vdb.vertexai.goog\n",
            "updateTime: '2023-06-20T19:57:05.467462Z'\n",
            "---\n",
            "createTime: '2023-06-20T02:02:38.474125Z'\n",
            "deployedIndexes:\n",
            "- automaticResources:\n",
            "    maxReplicaCount: 2\n",
            "    minReplicaCount: 2\n",
            "  createTime: '2023-06-20T02:03:41.596884Z'\n",
            "  deploymentGroup: default\n",
            "  displayName: ecommercex\n",
            "  id: ecommercex\n",
            "  index: projects/411826505131/locations/us-central1/indexes/6278818325019492352\n",
            "  indexSyncTime: '2023-12-18T08:22:41.587068Z'\n",
            "displayName: gsecommercex\n",
            "etag: AMEw9yNIYCIVPou7sCFX11WvwwSZqBHCrhmCcPMPTbifn0Al7EbSd2pR87Ovx_EpnCc=\n",
            "name: projects/411826505131/locations/us-central1/indexEndpoints/8471789868572213248\n",
            "publicEndpointDomainName: 1223588271.us-central1-411826505131.vdb.vertexai.goog\n",
            "updateTime: '2023-06-20T02:02:39.028096Z'\n"
          ]
        }
      ]
    },
    {
      "cell_type": "code",
      "source": [
        "DEPLOYED_INDEX_ID = 'flipkart_batch_filtering'\n",
        "my_index_endpoint = aiplatform.MatchingEngineIndexEndpoint('projects/411826505131/locations/us-central1/indexEndpoints/4149015923505758208')\n"
      ],
      "metadata": {
        "id": "gPfXT20pv3ij"
      },
      "execution_count": null,
      "outputs": []
    },
    {
      "cell_type": "markdown",
      "source": [
        "\n",
        "  id: flipkart_batch_filtering\n",
        "  index: projects/411826505131/locations/us-central1/indexes/4261605914190020608\n",
        "  \n",
        "description: Endpoint for flipkart_batch_filtering\n",
        "displayName: flipkart_batch_filtering_endpoint\n",
        "name: projects/411826505131/locations/us-central1/indexEndpoints/4149015923505758208\n"
      ],
      "metadata": {
        "id": "GWu36S1cByWY"
      }
    },
    {
      "cell_type": "markdown",
      "source": [
        "## Without Filters"
      ],
      "metadata": {
        "id": "BgAnS_C8Fjci"
      }
    },
    {
      "cell_type": "code",
      "source": [
        "NUM_NEIGHBORS = 5\n",
        "response = my_index_endpoint.find_neighbors(\n",
        "    deployed_index_id=DEPLOYED_INDEX_ID,\n",
        "    queries=[res.text_embedding,res.image_embedding],\n",
        "    num_neighbors=NUM_NEIGHBORS,\n",
        ")"
      ],
      "metadata": {
        "id": "4Df7-h96vmKP"
      },
      "execution_count": null,
      "outputs": []
    },
    {
      "cell_type": "code",
      "source": [
        "response"
      ],
      "metadata": {
        "colab": {
          "base_uri": "https://localhost:8080/"
        },
        "id": "5KsJeYVLv48T",
        "outputId": "b2ccfb89-791a-40bf-b1e3-d1db663a9714"
      },
      "execution_count": null,
      "outputs": [
        {
          "output_type": "execute_result",
          "data": {
            "text/plain": [
              "[[MatchNeighbor(id='3ecb859759e5311cbab6850e98879522_T', distance=1.7881393432617188e-07),\n",
              "  MatchNeighbor(id='0305111c779fe663bd94122bef0f0002_T', distance=0.1887233853340149),\n",
              "  MatchNeighbor(id='ba8163913f5e384d17a8202b1f8b91b3_T', distance=0.25931215286254883),\n",
              "  MatchNeighbor(id='6ef0a5eb033cd610d455be7102da5685_T', distance=0.3441193103790283),\n",
              "  MatchNeighbor(id='ee383a337af67ae8ad4f42714d67ddaf_T', distance=0.3441193103790283)],\n",
              " [MatchNeighbor(id='3ecb859759e5311cbab6850e98879522_I', distance=0.0),\n",
              "  MatchNeighbor(id='06ad8323cf9105f1aaae6515cf08a7d6_I', distance=0.03433966636657715),\n",
              "  MatchNeighbor(id='c9c27aa5dc7df49e82e55e8abb6b4020_I', distance=0.04238319396972656),\n",
              "  MatchNeighbor(id='169902631b89202f0e2079e9cc09b3c7_I', distance=0.047689199447631836),\n",
              "  MatchNeighbor(id='5614ccefd0ab9bee5cd28bf3d38fd12f_I', distance=0.06253844499588013)]]"
            ]
          },
          "metadata": {},
          "execution_count": 27
        }
      ]
    },
    {
      "cell_type": "markdown",
      "source": [
        "## Filter at root category level"
      ],
      "metadata": {
        "id": "IQycQpF8Fm3O"
      }
    },
    {
      "cell_type": "code",
      "source": [
        "from google.cloud.aiplatform.matching_engine.matching_engine_index_endpoint import Namespace\n",
        "response = my_index_endpoint.find_neighbors(\n",
        "    deployed_index_id=DEPLOYED_INDEX_ID,\n",
        "    queries=[res.text_embedding,res.image_embedding],\n",
        "    num_neighbors=NUM_NEIGHBORS,\n",
        "    filter=[Namespace(\"L0\", [\"Clothing\"])]\n",
        ")\n",
        "\n",
        "response"
      ],
      "metadata": {
        "colab": {
          "base_uri": "https://localhost:8080/"
        },
        "id": "3FpnwmkXFpmE",
        "outputId": "063215da-2ae8-45a3-c20b-3ebb21817278"
      },
      "execution_count": null,
      "outputs": [
        {
          "output_type": "execute_result",
          "data": {
            "text/plain": [
              "[[MatchNeighbor(id='ba8163913f5e384d17a8202b1f8b91b3_T', distance=0.25931215286254883),\n",
              "  MatchNeighbor(id='37e703b75b9a2c465aa78f8264544afd_T', distance=0.3462928533554077),\n",
              "  MatchNeighbor(id='0ea5dbf6a8e3885960ea92c56f8b2a03_T', distance=0.3552004098892212),\n",
              "  MatchNeighbor(id='4925cd62bb5f1501264c40973f8fa3d5_T', distance=0.3700721263885498),\n",
              "  MatchNeighbor(id='e5739673dd302b6f4386197b3ae0ea06_T', distance=0.38109153509140015)],\n",
              " [MatchNeighbor(id='08ea3424aab3ec97281f82a0510c6775_I', distance=0.1566087007522583),\n",
              "  MatchNeighbor(id='c0739a9ea229dc557a02ccd124534a0a_I', distance=0.18003523349761963),\n",
              "  MatchNeighbor(id='67e0c9fd0f00b831697ba6fb4215ea7b_I', distance=0.20431339740753174),\n",
              "  MatchNeighbor(id='dd01bbc58bcbf6fbfe6e1455209b6ffe_I', distance=0.20633137226104736),\n",
              "  MatchNeighbor(id='d9ae13cdeba5ebf2205046a23c7caffd_I', distance=0.21051812171936035)]]"
            ]
          },
          "metadata": {},
          "execution_count": 28
        }
      ]
    },
    {
      "cell_type": "markdown",
      "source": [
        "## Filter at sub category level"
      ],
      "metadata": {
        "id": "eeouId-QGjHI"
      }
    },
    {
      "cell_type": "code",
      "source": [
        "response = my_index_endpoint.find_neighbors(\n",
        "    deployed_index_id=DEPLOYED_INDEX_ID,\n",
        "    queries=[res.text_embedding,res.image_embedding],\n",
        "    num_neighbors=NUM_NEIGHBORS,\n",
        "    filter=[Namespace(\"L1\", [\"Women's Clothing\"])]\n",
        ")\n",
        "\n",
        "response"
      ],
      "metadata": {
        "colab": {
          "base_uri": "https://localhost:8080/"
        },
        "id": "Mlt0jcz-Gjcn",
        "outputId": "9d176767-1961-4f53-8101-aa73e7e468c6"
      },
      "execution_count": null,
      "outputs": [
        {
          "output_type": "execute_result",
          "data": {
            "text/plain": [
              "[[MatchNeighbor(id='ba8163913f5e384d17a8202b1f8b91b3_T', distance=0.25931215286254883),\n",
              "  MatchNeighbor(id='37e703b75b9a2c465aa78f8264544afd_T', distance=0.3462928533554077),\n",
              "  MatchNeighbor(id='4925cd62bb5f1501264c40973f8fa3d5_T', distance=0.3700721263885498),\n",
              "  MatchNeighbor(id='8cc202041fb2ff897fb5ca47203edd0d_T', distance=0.38541924953460693),\n",
              "  MatchNeighbor(id='08ea3424aab3ec97281f82a0510c6775_T', distance=0.39698123931884766)],\n",
              " [MatchNeighbor(id='08ea3424aab3ec97281f82a0510c6775_I', distance=0.1566087007522583),\n",
              "  MatchNeighbor(id='c0739a9ea229dc557a02ccd124534a0a_I', distance=0.18003523349761963),\n",
              "  MatchNeighbor(id='67e0c9fd0f00b831697ba6fb4215ea7b_I', distance=0.20431339740753174),\n",
              "  MatchNeighbor(id='d9ae13cdeba5ebf2205046a23c7caffd_I', distance=0.21051812171936035),\n",
              "  MatchNeighbor(id='3c2ff53673543e77a049a2765c430a82_I', distance=0.230016827583313)]]"
            ]
          },
          "metadata": {},
          "execution_count": 29
        }
      ]
    },
    {
      "cell_type": "markdown",
      "source": [
        "## Filter at multiple catagories"
      ],
      "metadata": {
        "id": "BAZkYTNpHBUH"
      }
    },
    {
      "cell_type": "code",
      "source": [
        "response = my_index_endpoint.find_neighbors(\n",
        "    deployed_index_id=DEPLOYED_INDEX_ID,\n",
        "    queries=[res.text_embedding,res.image_embedding],\n",
        "    num_neighbors=NUM_NEIGHBORS,\n",
        "    filter=[Namespace(\"L0\", [\"Clothing\"]), Namespace(\"L1\", [\"Women's Clothing\"])]\n",
        ")\n",
        "response"
      ],
      "metadata": {
        "colab": {
          "base_uri": "https://localhost:8080/"
        },
        "id": "8Z1BJ_YcGteF",
        "outputId": "ed4f93f8-b42b-4a7f-b2e8-ec961b3e9c96"
      },
      "execution_count": null,
      "outputs": [
        {
          "output_type": "execute_result",
          "data": {
            "text/plain": [
              "[[MatchNeighbor(id='ba8163913f5e384d17a8202b1f8b91b3_T', distance=0.25931215286254883),\n",
              "  MatchNeighbor(id='37e703b75b9a2c465aa78f8264544afd_T', distance=0.3462928533554077),\n",
              "  MatchNeighbor(id='4925cd62bb5f1501264c40973f8fa3d5_T', distance=0.3700721263885498),\n",
              "  MatchNeighbor(id='8cc202041fb2ff897fb5ca47203edd0d_T', distance=0.38541924953460693),\n",
              "  MatchNeighbor(id='08ea3424aab3ec97281f82a0510c6775_T', distance=0.39698123931884766)],\n",
              " [MatchNeighbor(id='08ea3424aab3ec97281f82a0510c6775_I', distance=0.1566087007522583),\n",
              "  MatchNeighbor(id='c0739a9ea229dc557a02ccd124534a0a_I', distance=0.18003523349761963),\n",
              "  MatchNeighbor(id='67e0c9fd0f00b831697ba6fb4215ea7b_I', distance=0.20431339740753174),\n",
              "  MatchNeighbor(id='d9ae13cdeba5ebf2205046a23c7caffd_I', distance=0.21051812171936035),\n",
              "  MatchNeighbor(id='3c2ff53673543e77a049a2765c430a82_I', distance=0.230016827583313)]]"
            ]
          },
          "metadata": {},
          "execution_count": 30
        }
      ]
    },
    {
      "cell_type": "code",
      "source": [],
      "metadata": {
        "id": "oISTEypTG_Q5"
      },
      "execution_count": null,
      "outputs": []
    }
  ]
}