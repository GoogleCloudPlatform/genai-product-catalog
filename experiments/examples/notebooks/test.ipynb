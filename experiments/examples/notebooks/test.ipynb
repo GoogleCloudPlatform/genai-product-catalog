{
 "cells": [
  {
   "cell_type": "code",
   "execution_count": 1,
   "metadata": {},
   "outputs": [],
   "source": [
    "import sys\n",
    "import os\n",
    "\n",
    "os.environ[\"APPLIED_AI_CONF\"] = \"../../conf/app.toml\"\n",
    "\n",
    "if os.path.abspath(\"../..\") not in sys.path:\n",
    "    sys.path.insert(0, os.path.abspath(\"../..\"))\n",
    "\n",
    "from google.cloud.ml.applied.attributes import attributes\n",
    "from google.cloud.ml.applied.categories import category\n",
    "from google.cloud.ml.applied.model import domain_model as m\n",
    "from google.cloud.ml.applied.images import image_to_text\n",
    "from google.cloud.ml.applied.marketing import marketing"
   ]
  },
  {
   "cell_type": "markdown",
   "metadata": {},
   "source": []
  },
  {
   "cell_type": "markdown",
   "metadata": {},
   "source": [
    "## Generate Product Categories\n",
    "\n",
    "Based on any product description and (optional) image, we perform the following:\n",
    "\n",
    "* Create multimodal embeddings (text and image) from the input description and image\n",
    "* Perform nearest neighbor search on existing product catalog embeddings in Vertex Vector Search to fetch x nearest product ids\n",
    "* Lookup existing product categories from the retrieved ids.\n",
    "* Use an LLM to rank returned categories"
   ]
  },
  {
   "cell_type": "code",
   "execution_count": 2,
   "metadata": {},
   "outputs": [
    {
     "data": {
      "text/plain": [
       "CategoryList(values=[['Watches', 'Wrist Watches', 'Timewel Wrist Watches'], ['Watches', 'Wrist Watches', 'Sonata Wrist Watches'], ['Watches', 'Wrist Watches', 'Maserati Time Wrist Watches'], ['Jewellery', 'Necklaces & Chains', 'Necklaces']])"
      ]
     },
     "execution_count": 2,
     "metadata": {},
     "output_type": "execute_result"
    }
   ],
   "source": [
    "category.retrieve_and_rank(\n",
    "    desc = \"Timewel 1100-N1949_S Analog Watch - For Women - Buy Timewel 1100-N1949_S Analog Watch - For Women 1100-N1949_S Online at Rs.855 in India Only at Flipkart.com. - Great Discounts, Only Genuine Products, 30 Day Replacement Guarantee, Free Shipping. Cash On Delivery!)\"\n",
    ")"
   ]
  },
  {
   "cell_type": "code",
   "execution_count": 3,
   "metadata": {},
   "outputs": [
    {
     "data": {
      "text/plain": [
       "CategoryList(values=[['Watches', 'Wrist Watches', 'Timewel Wrist Watches'], ['Watches', 'Wrist Watches', 'Sonata Wrist Watches'], ['Watches', 'Wrist Watches', 'Nexus Wrist Watches'], ['Watches', 'Wrist Watches', 'Perucci Wrist Watches'], ['Watches', 'Wrist Watches', 'Maserati Time Wrist Watches'], ['Jewellery', 'Necklaces & Chains', 'Necklaces']])"
      ]
     },
     "execution_count": 3,
     "metadata": {},
     "output_type": "execute_result"
    }
   ],
   "source": [
    "category.retrieve_and_rank(\n",
    "    desc = \"Timewel 1100-N1949_S Analog Watch - For Women - Buy Timewel 1100-N1949_S Analog Watch - For Women 1100-N1949_S Online at Rs.855 in India Only at Flipkart.com. - Great Discounts, Only Genuine Products, 30 Day Replacement Guarantee, Free Shipping. Cash On Delivery!)\",\n",
    "    image = \"gs://kalschi_etl_2/images/dbdac18a8ee5a8a48238b9685c96e90a.jpg\"\n",
    ")"
   ]
  },
  {
   "cell_type": "markdown",
   "metadata": {},
   "source": [
    "## Generate Product Attributes\n",
    "\n",
    "We utilize an LLM to generate product attributes to further enhance a product listing making it more effective for search and recommendations usecases.\n",
    "\n",
    "Using the same mechanism above, we can use a product description and an image to generate these attributes"
   ]
  },
  {
   "cell_type": "code",
   "execution_count": 4,
   "metadata": {},
   "outputs": [
    {
     "data": {
      "text/plain": [
       "ProductAttributes(product_attributes=[AttributeValue(attribute_name='Mechanism', attribute_value='Quartz'), AttributeValue(attribute_name='Type', attribute_value='Analog'), AttributeValue(attribute_name='Style Code', attribute_value='1100-N1949_S'), AttributeValue(attribute_name='Ideal For', attribute_value='Women'), AttributeValue(attribute_name='Occasion', attribute_value='Casual, Formal, Party-Wedding'), AttributeValue(attribute_name='Power Source', attribute_value='Battery Powered'), AttributeValue(attribute_name='Strap Type', attribute_value='Leather'), AttributeValue(attribute_name='Dial Shape', attribute_value='Rectangle'), AttributeValue(attribute_name='Strap Color', attribute_value='Black'), AttributeValue(attribute_name='Case / Bezel Material', attribute_value='Steel Case'), AttributeValue(attribute_name='Dial Color', attribute_value='Black'), AttributeValue(attribute_name='Strap Material', attribute_value='Genuine Leather Strap'), AttributeValue(attribute_name='Scratch Resistant', attribute_value='Yes')])"
      ]
     },
     "execution_count": 4,
     "metadata": {},
     "output_type": "execute_result"
    }
   ],
   "source": [
    "attributes.retrieve_and_generate_attributes(\n",
    "    desc = \"Timewel 1100-N1949_S Analog Watch - For Women - Buy Timewel 1100-N1949_S Analog Watch - For Women 1100-N1949_S Online at Rs.855 in India Only at Flipkart.com. - Great Discounts, Only Genuine Products, 30 Day Replacement Guarantee, Free Shipping. Cash On Delivery!)\",\n",
    ")"
   ]
  },
  {
   "cell_type": "code",
   "execution_count": 5,
   "metadata": {},
   "outputs": [
    {
     "data": {
      "text/plain": [
       "ProductAttributes(product_attributes=[AttributeValue(attribute_name='Mechanism', attribute_value='Quartz'), AttributeValue(attribute_name='Type', attribute_value='Analog'), AttributeValue(attribute_name='Style Code', attribute_value='1100-N1949_S'), AttributeValue(attribute_name='Ideal For', attribute_value='Women'), AttributeValue(attribute_name='Occasion', attribute_value='Casual, Formal, Party-Wedding'), AttributeValue(attribute_name='Power Source', attribute_value='Battery Powered'), AttributeValue(attribute_name='Strap Type', attribute_value='Leather'), AttributeValue(attribute_name='Dial Shape', attribute_value='Rectangle'), AttributeValue(attribute_name='Strap Color', attribute_value='Black'), AttributeValue(attribute_name='Case / Bezel Material', attribute_value='Steel Case'), AttributeValue(attribute_name='Dial Color', attribute_value='Black'), AttributeValue(attribute_name='Strap Material', attribute_value='Genuine Leather Strap'), AttributeValue(attribute_name='Scratch Resistant', attribute_value='Yes')])"
      ]
     },
     "execution_count": 5,
     "metadata": {},
     "output_type": "execute_result"
    }
   ],
   "source": [
    "product_attributes = attributes.retrieve_and_generate_attributes(\n",
    "    desc = \"Timewel 1100-N1949_S Analog Watch - For Women - Buy Timewel 1100-N1949_S Analog Watch - For Women 1100-N1949_S Online at Rs.855 in India Only at Flipkart.com. - Great Discounts, Only Genuine Products, 30 Day Replacement Guarantee, Free Shipping. Cash On Delivery!)\",\n",
    "    image = \"gs://kalschi_etl_2/images/dbdac18a8ee5a8a48238b9685c96e90a.jpg\"\n",
    ")\n",
    "product_attributes"
   ]
  },
  {
   "cell_type": "markdown",
   "metadata": {},
   "source": [
    "## Generate Product Image Attributes\n",
    "We can also use an LVM to analyze a product image an extract product attributes"
   ]
  },
  {
   "cell_type": "code",
   "execution_count": 6,
   "metadata": {},
   "outputs": [
    {
     "name": "stdout",
     "output_type": "stream",
     "text": [
      "{'product_attributes': {'brand': 'Timewel', 'style': 'Casual', 'dial_color': 'Silver', 'band_color': 'Black', 'band_material': 'Leather', 'case_shape': 'Round', 'display_type': 'Analog', 'movement': 'Quartz', 'water_resistance': '30m', 'gender': 'Women'}}\n"
     ]
    },
    {
     "data": {
      "text/plain": [
       "ProductAttributes(product_attributes=[AttributeValue(attribute_name='brand', attribute_value='Timewel'), AttributeValue(attribute_name='style', attribute_value='Casual'), AttributeValue(attribute_name='dial_color', attribute_value='Silver'), AttributeValue(attribute_name='band_color', attribute_value='Black'), AttributeValue(attribute_name='band_material', attribute_value='Leather'), AttributeValue(attribute_name='case_shape', attribute_value='Round'), AttributeValue(attribute_name='display_type', attribute_value='Analog'), AttributeValue(attribute_name='movement', attribute_value='Quartz'), AttributeValue(attribute_name='water_resistance', attribute_value='30m'), AttributeValue(attribute_name='gender', attribute_value='Women')])"
      ]
     },
     "execution_count": 6,
     "metadata": {},
     "output_type": "execute_result"
    }
   ],
   "source": [
    "test_image = m.ImageRequest(image = \"gs://kalschi_etl_2/images/dbdac18a8ee5a8a48238b9685c96e90a.jpg\")\n",
    "product_attributes = image_to_text.image_to_attributes(test_image)\n",
    "product_attributes"
   ]
  },
  {
   "cell_type": "markdown",
   "metadata": {},
   "source": [
    "## Generate Marketing Description\n",
    "We use the product description as well as the above generated product attributes to generate a product marketing description"
   ]
  },
  {
   "cell_type": "code",
   "execution_count": 7,
   "metadata": {},
   "outputs": [
    {
     "name": "stdout",
     "output_type": "stream",
     "text": [
      " **Timewel 1100-N1949_S: A Stylish and Functional Analog Watch for Women**\n",
      "\n",
      "Crafted with precision and elegance, the Timewel 1100-N1949_S analog watch is a must-have accessory for modern women. This watch combines classic design with contemporary features, making it the perfect choice for any occasion.\n",
      "\n",
      "**Key Features:**\n",
      "\n",
      "* **Brand:** Timewel, renowned for its commitment to quality and craftsmanship.\n",
      "* **Style:** Casual and versatile, suitable for everyday wear, office attire, or special events.\n",
      "* **Dial Color:** Stunning silver dial that adds a touch of sophistication to your look.\n",
      "* **Band Color:** Sleek black band that complements the silver dial and enhances its overall appeal.\n",
      "* **Band Material:** Genuine leather band ensures comfort and durability, providing a luxurious feel on your wrist.\n",
      "* **Case Shape:** Classic round case design that never goes out of style.\n",
      "* **Display Type:** Analog display with clear markings and easy-to-read hands for precise timekeeping.\n",
      "* **Movement:** Reliable quartz movement ensures accurate timekeeping, so you can stay punctual and organized.\n",
      "* **Water Resistance:** Water-resistant up to 30 meters, making it splash-proof and suitable for everyday use.\n",
      "* **Gender:** Designed specifically for women, catering to their unique style and preferences.\n",
      "\n",
      "**Unmatched Quality and Value:**\n",
      "\n",
      "At an unbeatable price of Rs. 855, the Timewel 1100-N1949_S analog watch offers exceptional value for money. Flipkart, India's leading e-commerce platform, ensures great discounts, genuine products, a 30-day replacement guarantee, and free shipping. Additionally, cash on delivery is available for your convenience.\n",
      "\n",
      "**Elevate Your Style with Timewel:**\n",
      "\n",
      "Don't miss this opportunity to own the Timewel 1100-N1949_S analog watch and elevate your style. Order now from Flipkart and experience the perfect blend of fashion and functionality.\n"
     ]
    }
   ],
   "source": [
    "marketing_request = m.MarketingRequest(\n",
    "    description=\"Timewel 1100-N1949_S Analog Watch - For Women - Buy Timewel 1100-N1949_S Analog Watch - For Women 1100-N1949_S Online at Rs.855 in India Only at Flipkart.com. - Great Discounts, Only Genuine Products, 30 Day Replacement Guarantee, Free Shipping. Cash On Delivery!)\",\n",
    "    attributes=product_attributes.product_attributes\n",
    ")\n",
    "\n",
    "marketing_copy = marketing.generate_marketing_copy(marketing_request)\n",
    "print(marketing_copy.text)"
   ]
  }
 ],
 "metadata": {
  "kernelspec": {
   "display_name": ".venv",
   "language": "python",
   "name": "python3"
  },
  "language_info": {
   "codemirror_mode": {
    "name": "ipython",
    "version": 3
   },
   "file_extension": ".py",
   "mimetype": "text/x-python",
   "name": "python",
   "nbconvert_exporter": "python",
   "pygments_lexer": "ipython3",
   "version": "3.11.7"
  }
 },
 "nbformat": 4,
 "nbformat_minor": 2
}
